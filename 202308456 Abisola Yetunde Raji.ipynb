{
 "cells": [
  {
   "cell_type": "markdown",
   "id": "a121f668",
   "metadata": {},
   "source": [
    "# 771766- Fundamentals of Data Science PROJECT \n",
    "\n",
    "# Student Name: Abisola Yetunde Raji\n",
    "\n",
    "## Student ID: <202308456>"
   ]
  },
  {
   "cell_type": "markdown",
   "id": "50b85bca",
   "metadata": {},
   "source": [
    "# Data Description"
   ]
  },
  {
   "cell_type": "code",
   "execution_count": 9,
   "id": "3f788288",
   "metadata": {},
   "outputs": [],
   "source": [
    "import pandas as pd\n",
    "import seaborn as sbn\n",
    "import numpy as np\n",
    "import matplotlib.pyplot as plt"
   ]
  },
  {
   "cell_type": "code",
   "execution_count": 10,
   "id": "d03f59a2",
   "metadata": {},
   "outputs": [],
   "source": [
    "census12_df = pd.read_csv('census_12.csv')"
   ]
  },
  {
   "cell_type": "code",
   "execution_count": 12,
   "id": "20cac294",
   "metadata": {},
   "outputs": [
    {
     "name": "stdout",
     "output_type": "stream",
     "text": [
      "       House Number        Street First Name  Surname Age  \\\n",
      "0                 1   Castor Lane       Lisa    Moore  20   \n",
      "1                 2   Castor Lane       Leah    Cross  61   \n",
      "2                 2   Castor Lane    Elliott    Cross  59   \n",
      "3                 3   Castor Lane    Vanessa   Harris  19   \n",
      "4                 3   Castor Lane       Glen   Harris  19   \n",
      "...             ...           ...        ...      ...  ..   \n",
      "10749             1  Porter Delve      Jemma   Morgan  38   \n",
      "10750             1  Porter Delve     Samuel  Bennett  40   \n",
      "10751             1  Porter Delve     Gareth   Morgan  19   \n",
      "10752             1  Porter Delve     Denise   Morgan  18   \n",
      "10753             1  Porter Delve       Lynn   Morgan  17   \n",
      "\n",
      "      Relationship to Head of House Marital Status  Gender  \\\n",
      "0                              Head         Single  Female   \n",
      "1                              Head        Married  Female   \n",
      "2                           Husband        Married    Male   \n",
      "3                              Head        Married  Female   \n",
      "4                           Husband        Married    Male   \n",
      "...                             ...            ...     ...   \n",
      "10749                          Head         Single  Female   \n",
      "10750                       Partner         Single    Male   \n",
      "10751                           Son         Single    Male   \n",
      "10752                      Daughter       Divorced  Female   \n",
      "10753                      Daughter            NaN  Female   \n",
      "\n",
      "                                   Occupation Infirmity   Religion  \n",
      "0                          University Student      None   Catholic  \n",
      "1      Research scientist (physical sciences)      None  Methodist  \n",
      "2            Production assistant, television      None  Methodist  \n",
      "3                          University Student      None       None  \n",
      "4                          University Student      None       None  \n",
      "...                                       ...       ...        ...  \n",
      "10749              Museum/gallery conservator      None   Catholic  \n",
      "10750                            Risk analyst      None       None  \n",
      "10751                      University Student      None   Catholic  \n",
      "10752                                 Student      None       None  \n",
      "10753                                 Student      None        NaN  \n",
      "\n",
      "[10754 rows x 11 columns]\n"
     ]
    }
   ],
   "source": [
    "print(census12_df)"
   ]
  },
  {
   "cell_type": "code",
   "execution_count": 13,
   "id": "7342f85a",
   "metadata": {},
   "outputs": [
    {
     "data": {
      "text/html": [
       "<div>\n",
       "<style scoped>\n",
       "    .dataframe tbody tr th:only-of-type {\n",
       "        vertical-align: middle;\n",
       "    }\n",
       "\n",
       "    .dataframe tbody tr th {\n",
       "        vertical-align: top;\n",
       "    }\n",
       "\n",
       "    .dataframe thead th {\n",
       "        text-align: right;\n",
       "    }\n",
       "</style>\n",
       "<table border=\"1\" class=\"dataframe\">\n",
       "  <thead>\n",
       "    <tr style=\"text-align: right;\">\n",
       "      <th></th>\n",
       "      <th>House Number</th>\n",
       "    </tr>\n",
       "  </thead>\n",
       "  <tbody>\n",
       "    <tr>\n",
       "      <th>count</th>\n",
       "      <td>10754.000000</td>\n",
       "    </tr>\n",
       "    <tr>\n",
       "      <th>mean</th>\n",
       "      <td>41.688116</td>\n",
       "    </tr>\n",
       "    <tr>\n",
       "      <th>std</th>\n",
       "      <td>48.244213</td>\n",
       "    </tr>\n",
       "    <tr>\n",
       "      <th>min</th>\n",
       "      <td>1.000000</td>\n",
       "    </tr>\n",
       "    <tr>\n",
       "      <th>25%</th>\n",
       "      <td>10.000000</td>\n",
       "    </tr>\n",
       "    <tr>\n",
       "      <th>50%</th>\n",
       "      <td>24.000000</td>\n",
       "    </tr>\n",
       "    <tr>\n",
       "      <th>75%</th>\n",
       "      <td>48.000000</td>\n",
       "    </tr>\n",
       "    <tr>\n",
       "      <th>max</th>\n",
       "      <td>246.000000</td>\n",
       "    </tr>\n",
       "  </tbody>\n",
       "</table>\n",
       "</div>"
      ],
      "text/plain": [
       "       House Number\n",
       "count  10754.000000\n",
       "mean      41.688116\n",
       "std       48.244213\n",
       "min        1.000000\n",
       "25%       10.000000\n",
       "50%       24.000000\n",
       "75%       48.000000\n",
       "max      246.000000"
      ]
     },
     "execution_count": 13,
     "metadata": {},
     "output_type": "execute_result"
    }
   ],
   "source": [
    "census12_df.describe()"
   ]
  },
  {
   "cell_type": "code",
   "execution_count": 15,
   "id": "9f28154f",
   "metadata": {},
   "outputs": [
    {
     "data": {
      "text/html": [
       "<div>\n",
       "<style scoped>\n",
       "    .dataframe tbody tr th:only-of-type {\n",
       "        vertical-align: middle;\n",
       "    }\n",
       "\n",
       "    .dataframe tbody tr th {\n",
       "        vertical-align: top;\n",
       "    }\n",
       "\n",
       "    .dataframe thead th {\n",
       "        text-align: right;\n",
       "    }\n",
       "</style>\n",
       "<table border=\"1\" class=\"dataframe\">\n",
       "  <thead>\n",
       "    <tr style=\"text-align: right;\">\n",
       "      <th></th>\n",
       "      <th>Street</th>\n",
       "      <th>First Name</th>\n",
       "      <th>Surname</th>\n",
       "      <th>Age</th>\n",
       "      <th>Relationship to Head of House</th>\n",
       "      <th>Marital Status</th>\n",
       "      <th>Gender</th>\n",
       "      <th>Occupation</th>\n",
       "      <th>Infirmity</th>\n",
       "      <th>Religion</th>\n",
       "    </tr>\n",
       "  </thead>\n",
       "  <tbody>\n",
       "    <tr>\n",
       "      <th>count</th>\n",
       "      <td>10754</td>\n",
       "      <td>10754</td>\n",
       "      <td>10754</td>\n",
       "      <td>10754</td>\n",
       "      <td>10754</td>\n",
       "      <td>8160</td>\n",
       "      <td>10754</td>\n",
       "      <td>10754</td>\n",
       "      <td>10754</td>\n",
       "      <td>8108</td>\n",
       "    </tr>\n",
       "    <tr>\n",
       "      <th>unique</th>\n",
       "      <td>105</td>\n",
       "      <td>365</td>\n",
       "      <td>692</td>\n",
       "      <td>113</td>\n",
       "      <td>22</td>\n",
       "      <td>4</td>\n",
       "      <td>3</td>\n",
       "      <td>1132</td>\n",
       "      <td>8</td>\n",
       "      <td>13</td>\n",
       "    </tr>\n",
       "    <tr>\n",
       "      <th>top</th>\n",
       "      <td>Gill Orchard</td>\n",
       "      <td>Martyn</td>\n",
       "      <td>Smith</td>\n",
       "      <td>41</td>\n",
       "      <td>Head</td>\n",
       "      <td>Single</td>\n",
       "      <td>Female</td>\n",
       "      <td>Student</td>\n",
       "      <td>None</td>\n",
       "      <td>None</td>\n",
       "    </tr>\n",
       "    <tr>\n",
       "      <th>freq</th>\n",
       "      <td>869</td>\n",
       "      <td>47</td>\n",
       "      <td>340</td>\n",
       "      <td>201</td>\n",
       "      <td>3711</td>\n",
       "      <td>3761</td>\n",
       "      <td>5637</td>\n",
       "      <td>2076</td>\n",
       "      <td>10657</td>\n",
       "      <td>3692</td>\n",
       "    </tr>\n",
       "  </tbody>\n",
       "</table>\n",
       "</div>"
      ],
      "text/plain": [
       "              Street First Name Surname    Age Relationship to Head of House  \\\n",
       "count          10754      10754   10754  10754                         10754   \n",
       "unique           105        365     692    113                            22   \n",
       "top     Gill Orchard     Martyn   Smith     41                          Head   \n",
       "freq             869         47     340    201                          3711   \n",
       "\n",
       "       Marital Status  Gender Occupation Infirmity Religion  \n",
       "count            8160   10754      10754     10754     8108  \n",
       "unique              4       3       1132         8       13  \n",
       "top            Single  Female    Student      None     None  \n",
       "freq             3761    5637       2076     10657     3692  "
      ]
     },
     "execution_count": 15,
     "metadata": {},
     "output_type": "execute_result"
    }
   ],
   "source": [
    "census12_df.describe(include='object')"
   ]
  },
  {
   "cell_type": "code",
   "execution_count": 16,
   "id": "55ddf786",
   "metadata": {
    "scrolled": true
   },
   "outputs": [
    {
     "name": "stdout",
     "output_type": "stream",
     "text": [
      "<class 'pandas.core.frame.DataFrame'>\n",
      "RangeIndex: 10754 entries, 0 to 10753\n",
      "Data columns (total 11 columns):\n",
      " #   Column                         Non-Null Count  Dtype \n",
      "---  ------                         --------------  ----- \n",
      " 0   House Number                   10754 non-null  int64 \n",
      " 1   Street                         10754 non-null  object\n",
      " 2   First Name                     10754 non-null  object\n",
      " 3   Surname                        10754 non-null  object\n",
      " 4   Age                            10754 non-null  object\n",
      " 5   Relationship to Head of House  10754 non-null  object\n",
      " 6   Marital Status                 8160 non-null   object\n",
      " 7   Gender                         10754 non-null  object\n",
      " 8   Occupation                     10754 non-null  object\n",
      " 9   Infirmity                      10754 non-null  object\n",
      " 10  Religion                       8108 non-null   object\n",
      "dtypes: int64(1), object(10)\n",
      "memory usage: 924.3+ KB\n"
     ]
    }
   ],
   "source": [
    "census12_df.info()"
   ]
  },
  {
   "cell_type": "markdown",
   "id": "3a889d2e",
   "metadata": {},
   "source": [
    "# Task A: Data Cleaning"
   ]
  },
  {
   "cell_type": "markdown",
   "id": "f8e18b87",
   "metadata": {},
   "source": [
    "### 1. Cleaning of House Number Data"
   ]
  },
  {
   "cell_type": "code",
   "execution_count": 24,
   "id": "822dc0bd",
   "metadata": {},
   "outputs": [
    {
     "data": {
      "text/plain": [
       "False    10754\n",
       "Name: House Number, dtype: int64"
      ]
     },
     "execution_count": 24,
     "metadata": {},
     "output_type": "execute_result"
    }
   ],
   "source": [
    "census12_df['House Number'].isna().value_counts() \n",
    "#This is to find if there are missing values in the House Number Column."
   ]
  },
  {
   "cell_type": "markdown",
   "id": "1a7f25bf",
   "metadata": {},
   "source": [
    "#### From the above, we can conclude that we do not have any incorrect data for House Number. Therefore, no cleaning required for House Number Column "
   ]
  },
  {
   "cell_type": "markdown",
   "id": "9c2eeecc",
   "metadata": {},
   "source": [
    "### 2. Cleaning of Street Data"
   ]
  },
  {
   "cell_type": "code",
   "execution_count": 25,
   "id": "68212085",
   "metadata": {},
   "outputs": [
    {
     "data": {
      "text/plain": [
       "False    10754\n",
       "Name: Street, dtype: int64"
      ]
     },
     "execution_count": 25,
     "metadata": {},
     "output_type": "execute_result"
    }
   ],
   "source": [
    "census12_df['Street'].str.match(r'\\s').value_counts() \n",
    "#This will help check for empty streets."
   ]
  },
  {
   "cell_type": "code",
   "execution_count": 26,
   "id": "d14fcba1",
   "metadata": {},
   "outputs": [
    {
     "data": {
      "text/plain": [
       "0"
      ]
     },
     "execution_count": 26,
     "metadata": {},
     "output_type": "execute_result"
    }
   ],
   "source": [
    "census12_df['Street'].str.startswith(' ').sum() \n",
    "#This is to check for spaces before the street names."
   ]
  },
  {
   "cell_type": "code",
   "execution_count": 173,
   "id": "555e091c",
   "metadata": {},
   "outputs": [
    {
     "name": "stdout",
     "output_type": "stream",
     "text": [
      "<class 'pandas.core.frame.DataFrame'>\n",
      "RangeIndex: 10754 entries, 0 to 10753\n",
      "Data columns (total 11 columns):\n",
      " #   Column                         Non-Null Count  Dtype \n",
      "---  ------                         --------------  ----- \n",
      " 0   House Number                   10754 non-null  int64 \n",
      " 1   Street                         10754 non-null  object\n",
      " 2   First Name                     10754 non-null  object\n",
      " 3   Surname                        10754 non-null  object\n",
      " 4   Age                            10754 non-null  int32 \n",
      " 5   Relationship to Head of House  10754 non-null  object\n",
      " 6   Marital Status                 8332 non-null   object\n",
      " 7   Gender                         10754 non-null  object\n",
      " 8   Occupation                     10754 non-null  object\n",
      " 9   Infirmity                      10754 non-null  object\n",
      " 10  Religion                       8106 non-null   object\n",
      "dtypes: int32(1), int64(1), object(9)\n",
      "memory usage: 882.3+ KB\n"
     ]
    }
   ],
   "source": [
    "census12_df.info()"
   ]
  },
  {
   "cell_type": "markdown",
   "id": "f188bbc5",
   "metadata": {},
   "source": [
    "#### From the above, we can infer that we do not have any incorrect data for Street. Therefore, no cleaning required for Steet Column "
   ]
  },
  {
   "cell_type": "markdown",
   "id": "4b7fb6b1",
   "metadata": {},
   "source": [
    "### 3. Cleaning of First Name Data"
   ]
  },
  {
   "cell_type": "code",
   "execution_count": 28,
   "id": "130623f4",
   "metadata": {},
   "outputs": [
    {
     "data": {
      "text/plain": [
       "False    10753\n",
       "True         1\n",
       "Name: First Name, dtype: int64"
      ]
     },
     "execution_count": 28,
     "metadata": {},
     "output_type": "execute_result"
    }
   ],
   "source": [
    "census12_df['First Name'].str.match(r'\\s').value_counts() \n",
    "#This will help check for First Names that are blank."
   ]
  },
  {
   "cell_type": "code",
   "execution_count": 34,
   "id": "eee115f6",
   "metadata": {},
   "outputs": [
    {
     "data": {
      "text/html": [
       "<div>\n",
       "<style scoped>\n",
       "    .dataframe tbody tr th:only-of-type {\n",
       "        vertical-align: middle;\n",
       "    }\n",
       "\n",
       "    .dataframe tbody tr th {\n",
       "        vertical-align: top;\n",
       "    }\n",
       "\n",
       "    .dataframe thead th {\n",
       "        text-align: right;\n",
       "    }\n",
       "</style>\n",
       "<table border=\"1\" class=\"dataframe\">\n",
       "  <thead>\n",
       "    <tr style=\"text-align: right;\">\n",
       "      <th></th>\n",
       "      <th>House Number</th>\n",
       "      <th>Street</th>\n",
       "      <th>First Name</th>\n",
       "      <th>Surname</th>\n",
       "      <th>Age</th>\n",
       "      <th>Relationship to Head of House</th>\n",
       "      <th>Marital Status</th>\n",
       "      <th>Gender</th>\n",
       "      <th>Occupation</th>\n",
       "      <th>Infirmity</th>\n",
       "      <th>Religion</th>\n",
       "    </tr>\n",
       "  </thead>\n",
       "  <tbody>\n",
       "    <tr>\n",
       "      <th>9678</th>\n",
       "      <td>9</td>\n",
       "      <td>Jones Squares</td>\n",
       "      <td></td>\n",
       "      <td>Mann</td>\n",
       "      <td>29</td>\n",
       "      <td>None</td>\n",
       "      <td>Single</td>\n",
       "      <td>Female</td>\n",
       "      <td>Contractor</td>\n",
       "      <td>None</td>\n",
       "      <td>None</td>\n",
       "    </tr>\n",
       "  </tbody>\n",
       "</table>\n",
       "</div>"
      ],
      "text/plain": [
       "      House Number         Street First Name Surname Age  \\\n",
       "9678             9  Jones Squares               Mann  29   \n",
       "\n",
       "     Relationship to Head of House Marital Status  Gender  Occupation  \\\n",
       "9678                          None         Single  Female  Contractor   \n",
       "\n",
       "     Infirmity Religion  \n",
       "9678      None     None  "
      ]
     },
     "execution_count": 34,
     "metadata": {},
     "output_type": "execute_result"
    }
   ],
   "source": [
    "#To find the location of the blank First Name \n",
    "census12_df[census12_df['First Name']== ' ']"
   ]
  },
  {
   "cell_type": "code",
   "execution_count": 35,
   "id": "9211b9e9",
   "metadata": {
    "scrolled": true
   },
   "outputs": [
    {
     "data": {
      "text/html": [
       "<div>\n",
       "<style scoped>\n",
       "    .dataframe tbody tr th:only-of-type {\n",
       "        vertical-align: middle;\n",
       "    }\n",
       "\n",
       "    .dataframe tbody tr th {\n",
       "        vertical-align: top;\n",
       "    }\n",
       "\n",
       "    .dataframe thead th {\n",
       "        text-align: right;\n",
       "    }\n",
       "</style>\n",
       "<table border=\"1\" class=\"dataframe\">\n",
       "  <thead>\n",
       "    <tr style=\"text-align: right;\">\n",
       "      <th></th>\n",
       "      <th>House Number</th>\n",
       "      <th>Street</th>\n",
       "      <th>First Name</th>\n",
       "      <th>Surname</th>\n",
       "      <th>Age</th>\n",
       "      <th>Relationship to Head of House</th>\n",
       "      <th>Marital Status</th>\n",
       "      <th>Gender</th>\n",
       "      <th>Occupation</th>\n",
       "      <th>Infirmity</th>\n",
       "      <th>Religion</th>\n",
       "    </tr>\n",
       "  </thead>\n",
       "  <tbody>\n",
       "    <tr>\n",
       "      <th>9675</th>\n",
       "      <td>8</td>\n",
       "      <td>Jones Squares</td>\n",
       "      <td>Hollie</td>\n",
       "      <td>Leach</td>\n",
       "      <td>39</td>\n",
       "      <td>Head</td>\n",
       "      <td>Single</td>\n",
       "      <td>Female</td>\n",
       "      <td>Ergonomist</td>\n",
       "      <td>None</td>\n",
       "      <td>Christian</td>\n",
       "    </tr>\n",
       "    <tr>\n",
       "      <th>9676</th>\n",
       "      <td>8</td>\n",
       "      <td>Jones Squares</td>\n",
       "      <td>Jeffrey</td>\n",
       "      <td>Carter</td>\n",
       "      <td>45</td>\n",
       "      <td>Partner</td>\n",
       "      <td>Single</td>\n",
       "      <td>Male</td>\n",
       "      <td>Museum education officer</td>\n",
       "      <td>None</td>\n",
       "      <td>None</td>\n",
       "    </tr>\n",
       "    <tr>\n",
       "      <th>9677</th>\n",
       "      <td>9</td>\n",
       "      <td>Jones Squares</td>\n",
       "      <td>Hilary</td>\n",
       "      <td>Reeves</td>\n",
       "      <td>23</td>\n",
       "      <td>Head</td>\n",
       "      <td>Single</td>\n",
       "      <td>Female</td>\n",
       "      <td>Technical author</td>\n",
       "      <td>None</td>\n",
       "      <td>Methodist</td>\n",
       "    </tr>\n",
       "    <tr>\n",
       "      <th>9678</th>\n",
       "      <td>9</td>\n",
       "      <td>Jones Squares</td>\n",
       "      <td></td>\n",
       "      <td>Mann</td>\n",
       "      <td>29</td>\n",
       "      <td>None</td>\n",
       "      <td>Single</td>\n",
       "      <td>Female</td>\n",
       "      <td>Contractor</td>\n",
       "      <td>None</td>\n",
       "      <td>None</td>\n",
       "    </tr>\n",
       "    <tr>\n",
       "      <th>9679</th>\n",
       "      <td>9</td>\n",
       "      <td>Jones Squares</td>\n",
       "      <td>Ricky</td>\n",
       "      <td>Cunningham</td>\n",
       "      <td>52</td>\n",
       "      <td>None</td>\n",
       "      <td>Single</td>\n",
       "      <td>Male</td>\n",
       "      <td>Nutritional therapist</td>\n",
       "      <td>None</td>\n",
       "      <td>Christian</td>\n",
       "    </tr>\n",
       "    <tr>\n",
       "      <th>9680</th>\n",
       "      <td>9</td>\n",
       "      <td>Jones Squares</td>\n",
       "      <td>Molly</td>\n",
       "      <td>Ali</td>\n",
       "      <td>47</td>\n",
       "      <td>None</td>\n",
       "      <td>Single</td>\n",
       "      <td>Female</td>\n",
       "      <td>Building control surveyor</td>\n",
       "      <td>None</td>\n",
       "      <td>Methodist</td>\n",
       "    </tr>\n",
       "    <tr>\n",
       "      <th>9681</th>\n",
       "      <td>9</td>\n",
       "      <td>Jones Squares</td>\n",
       "      <td>Carolyn</td>\n",
       "      <td>Clark</td>\n",
       "      <td>48</td>\n",
       "      <td>None</td>\n",
       "      <td>Single</td>\n",
       "      <td>Female</td>\n",
       "      <td>Chartered loss adjuster</td>\n",
       "      <td>None</td>\n",
       "      <td>Catholic</td>\n",
       "    </tr>\n",
       "  </tbody>\n",
       "</table>\n",
       "</div>"
      ],
      "text/plain": [
       "      House Number         Street First Name     Surname Age  \\\n",
       "9675             8  Jones Squares     Hollie       Leach  39   \n",
       "9676             8  Jones Squares    Jeffrey      Carter  45   \n",
       "9677             9  Jones Squares     Hilary      Reeves  23   \n",
       "9678             9  Jones Squares                   Mann  29   \n",
       "9679             9  Jones Squares      Ricky  Cunningham  52   \n",
       "9680             9  Jones Squares      Molly         Ali  47   \n",
       "9681             9  Jones Squares    Carolyn       Clark  48   \n",
       "\n",
       "     Relationship to Head of House Marital Status  Gender  \\\n",
       "9675                          Head         Single  Female   \n",
       "9676                       Partner         Single    Male   \n",
       "9677                          Head         Single  Female   \n",
       "9678                          None         Single  Female   \n",
       "9679                          None         Single    Male   \n",
       "9680                          None         Single  Female   \n",
       "9681                          None         Single  Female   \n",
       "\n",
       "                     Occupation Infirmity   Religion  \n",
       "9675                 Ergonomist      None  Christian  \n",
       "9676   Museum education officer      None       None  \n",
       "9677           Technical author      None  Methodist  \n",
       "9678                 Contractor      None       None  \n",
       "9679      Nutritional therapist      None  Christian  \n",
       "9680  Building control surveyor      None  Methodist  \n",
       "9681    Chartered loss adjuster      None   Catholic  "
      ]
     },
     "execution_count": 35,
     "metadata": {},
     "output_type": "execute_result"
    }
   ],
   "source": [
    "#Lets bring some data before and after the empty First Name to suggest a name.\n",
    "census12_df[9675:9682]"
   ]
  },
  {
   "cell_type": "code",
   "execution_count": 39,
   "id": "9a90865e",
   "metadata": {},
   "outputs": [],
   "source": [
    "#Suggesting a name\n",
    "census12_df.at[9678, 'First Name'] = 'Mann'"
   ]
  },
  {
   "cell_type": "code",
   "execution_count": 42,
   "id": "1cea9c10",
   "metadata": {},
   "outputs": [
    {
     "data": {
      "text/plain": [
       "False"
      ]
     },
     "execution_count": 42,
     "metadata": {},
     "output_type": "execute_result"
    }
   ],
   "source": [
    "#This is to check if there are still any empty First Name\n",
    "census12_df['First Name'].isna().any()"
   ]
  },
  {
   "cell_type": "code",
   "execution_count": 43,
   "id": "ee9da9da",
   "metadata": {},
   "outputs": [
    {
     "data": {
      "text/plain": [
       "9675     Hollie\n",
       "9676    Jeffrey\n",
       "9677     Hilary\n",
       "9678       Mann\n",
       "9679      Ricky\n",
       "9680      Molly\n",
       "9681    Carolyn\n",
       "Name: First Name, dtype: object"
      ]
     },
     "execution_count": 43,
     "metadata": {},
     "output_type": "execute_result"
    }
   ],
   "source": [
    "#This is to confirm if the suggested name has overwritten the empty space\n",
    "census12_df['First Name'].iloc[9675:9682]"
   ]
  },
  {
   "cell_type": "markdown",
   "id": "a5437409",
   "metadata": {},
   "source": [
    "### 4. Cleaning of  Surname Data"
   ]
  },
  {
   "cell_type": "code",
   "execution_count": 44,
   "id": "a4e0f9f5",
   "metadata": {},
   "outputs": [
    {
     "data": {
      "text/plain": [
       "False    10753\n",
       "True         1\n",
       "Name: Surname, dtype: int64"
      ]
     },
     "execution_count": 44,
     "metadata": {},
     "output_type": "execute_result"
    }
   ],
   "source": [
    "census12_df['Surname'].str.match(r'\\s').value_counts() \n",
    "#This will help check for Surnames that are blank."
   ]
  },
  {
   "cell_type": "code",
   "execution_count": 45,
   "id": "96961d40",
   "metadata": {},
   "outputs": [
    {
     "data": {
      "text/html": [
       "<div>\n",
       "<style scoped>\n",
       "    .dataframe tbody tr th:only-of-type {\n",
       "        vertical-align: middle;\n",
       "    }\n",
       "\n",
       "    .dataframe tbody tr th {\n",
       "        vertical-align: top;\n",
       "    }\n",
       "\n",
       "    .dataframe thead th {\n",
       "        text-align: right;\n",
       "    }\n",
       "</style>\n",
       "<table border=\"1\" class=\"dataframe\">\n",
       "  <thead>\n",
       "    <tr style=\"text-align: right;\">\n",
       "      <th></th>\n",
       "      <th>House Number</th>\n",
       "      <th>Street</th>\n",
       "      <th>First Name</th>\n",
       "      <th>Surname</th>\n",
       "      <th>Age</th>\n",
       "      <th>Relationship to Head of House</th>\n",
       "      <th>Marital Status</th>\n",
       "      <th>Gender</th>\n",
       "      <th>Occupation</th>\n",
       "      <th>Infirmity</th>\n",
       "      <th>Religion</th>\n",
       "    </tr>\n",
       "  </thead>\n",
       "  <tbody>\n",
       "    <tr>\n",
       "      <th>2673</th>\n",
       "      <td>20</td>\n",
       "      <td>Junerush Crescent</td>\n",
       "      <td>Pamela</td>\n",
       "      <td></td>\n",
       "      <td>17</td>\n",
       "      <td>Daughter</td>\n",
       "      <td>NaN</td>\n",
       "      <td>Female</td>\n",
       "      <td>Student</td>\n",
       "      <td>None</td>\n",
       "      <td>NaN</td>\n",
       "    </tr>\n",
       "  </tbody>\n",
       "</table>\n",
       "</div>"
      ],
      "text/plain": [
       "      House Number             Street First Name Surname Age  \\\n",
       "2673            20  Junerush Crescent     Pamela          17   \n",
       "\n",
       "     Relationship to Head of House Marital Status  Gender Occupation  \\\n",
       "2673                      Daughter            NaN  Female    Student   \n",
       "\n",
       "     Infirmity Religion  \n",
       "2673      None      NaN  "
      ]
     },
     "execution_count": 45,
     "metadata": {},
     "output_type": "execute_result"
    }
   ],
   "source": [
    "#To find the location of the blank Surname \n",
    "census12_df[census12_df['Surname']== ' ']"
   ]
  },
  {
   "cell_type": "code",
   "execution_count": 46,
   "id": "c1837972",
   "metadata": {},
   "outputs": [
    {
     "data": {
      "text/html": [
       "<div>\n",
       "<style scoped>\n",
       "    .dataframe tbody tr th:only-of-type {\n",
       "        vertical-align: middle;\n",
       "    }\n",
       "\n",
       "    .dataframe tbody tr th {\n",
       "        vertical-align: top;\n",
       "    }\n",
       "\n",
       "    .dataframe thead th {\n",
       "        text-align: right;\n",
       "    }\n",
       "</style>\n",
       "<table border=\"1\" class=\"dataframe\">\n",
       "  <thead>\n",
       "    <tr style=\"text-align: right;\">\n",
       "      <th></th>\n",
       "      <th>House Number</th>\n",
       "      <th>Street</th>\n",
       "      <th>First Name</th>\n",
       "      <th>Surname</th>\n",
       "      <th>Age</th>\n",
       "      <th>Relationship to Head of House</th>\n",
       "      <th>Marital Status</th>\n",
       "      <th>Gender</th>\n",
       "      <th>Occupation</th>\n",
       "      <th>Infirmity</th>\n",
       "      <th>Religion</th>\n",
       "    </tr>\n",
       "  </thead>\n",
       "  <tbody>\n",
       "    <tr>\n",
       "      <th>2670</th>\n",
       "      <td>20</td>\n",
       "      <td>Junerush Crescent</td>\n",
       "      <td>Cameron</td>\n",
       "      <td>Bennett</td>\n",
       "      <td>59</td>\n",
       "      <td>Husband</td>\n",
       "      <td>Married</td>\n",
       "      <td>Male</td>\n",
       "      <td>Unemployed</td>\n",
       "      <td>None</td>\n",
       "      <td>Christian</td>\n",
       "    </tr>\n",
       "    <tr>\n",
       "      <th>2671</th>\n",
       "      <td>20</td>\n",
       "      <td>Junerush Crescent</td>\n",
       "      <td>Chelsea</td>\n",
       "      <td>Bennett</td>\n",
       "      <td>26</td>\n",
       "      <td>Daughter</td>\n",
       "      <td>Single</td>\n",
       "      <td>Female</td>\n",
       "      <td>Licensed conveyancer</td>\n",
       "      <td>None</td>\n",
       "      <td>Christian</td>\n",
       "    </tr>\n",
       "    <tr>\n",
       "      <th>2672</th>\n",
       "      <td>20</td>\n",
       "      <td>Junerush Crescent</td>\n",
       "      <td>Jake</td>\n",
       "      <td>Bennett</td>\n",
       "      <td>26</td>\n",
       "      <td>Son</td>\n",
       "      <td>Single</td>\n",
       "      <td>Male</td>\n",
       "      <td>Designer, exhibition/display</td>\n",
       "      <td>None</td>\n",
       "      <td>Christian</td>\n",
       "    </tr>\n",
       "    <tr>\n",
       "      <th>2673</th>\n",
       "      <td>20</td>\n",
       "      <td>Junerush Crescent</td>\n",
       "      <td>Pamela</td>\n",
       "      <td></td>\n",
       "      <td>17</td>\n",
       "      <td>Daughter</td>\n",
       "      <td>NaN</td>\n",
       "      <td>Female</td>\n",
       "      <td>Student</td>\n",
       "      <td>None</td>\n",
       "      <td>NaN</td>\n",
       "    </tr>\n",
       "    <tr>\n",
       "      <th>2674</th>\n",
       "      <td>21</td>\n",
       "      <td>Junerush Crescent</td>\n",
       "      <td>Glenn</td>\n",
       "      <td>Rose</td>\n",
       "      <td>53</td>\n",
       "      <td>Head</td>\n",
       "      <td>Single</td>\n",
       "      <td>Male</td>\n",
       "      <td>Programmer, applications</td>\n",
       "      <td>None</td>\n",
       "      <td>Christian</td>\n",
       "    </tr>\n",
       "  </tbody>\n",
       "</table>\n",
       "</div>"
      ],
      "text/plain": [
       "      House Number             Street First Name  Surname Age  \\\n",
       "2670            20  Junerush Crescent    Cameron  Bennett  59   \n",
       "2671            20  Junerush Crescent    Chelsea  Bennett  26   \n",
       "2672            20  Junerush Crescent       Jake  Bennett  26   \n",
       "2673            20  Junerush Crescent     Pamela           17   \n",
       "2674            21  Junerush Crescent      Glenn     Rose  53   \n",
       "\n",
       "     Relationship to Head of House Marital Status  Gender  \\\n",
       "2670                       Husband        Married    Male   \n",
       "2671                      Daughter         Single  Female   \n",
       "2672                           Son         Single    Male   \n",
       "2673                      Daughter            NaN  Female   \n",
       "2674                          Head         Single    Male   \n",
       "\n",
       "                        Occupation Infirmity   Religion  \n",
       "2670                    Unemployed      None  Christian  \n",
       "2671          Licensed conveyancer      None  Christian  \n",
       "2672  Designer, exhibition/display      None  Christian  \n",
       "2673                       Student      None        NaN  \n",
       "2674      Programmer, applications      None  Christian  "
      ]
     },
     "execution_count": 46,
     "metadata": {},
     "output_type": "execute_result"
    }
   ],
   "source": [
    "#Lets bring some data before and after the empty Surname to suggest a name.\n",
    "census12_df[2670:2675]"
   ]
  },
  {
   "cell_type": "code",
   "execution_count": 48,
   "id": "7247e3d8",
   "metadata": {},
   "outputs": [],
   "source": [
    "#From the data above, we can conclude that Pamela is the daughter of Chelsea and Jake Bennett.\n",
    "census12_df.at[2673, 'Surname'] = 'Bennett'"
   ]
  },
  {
   "cell_type": "code",
   "execution_count": 49,
   "id": "21696093",
   "metadata": {},
   "outputs": [
    {
     "data": {
      "text/plain": [
       "False"
      ]
     },
     "execution_count": 49,
     "metadata": {},
     "output_type": "execute_result"
    }
   ],
   "source": [
    "#This is to check if there are still any empty Surname\n",
    "census12_df['Surname'].isna().any()"
   ]
  },
  {
   "cell_type": "code",
   "execution_count": 55,
   "id": "8e003395",
   "metadata": {},
   "outputs": [
    {
     "data": {
      "text/html": [
       "<div>\n",
       "<style scoped>\n",
       "    .dataframe tbody tr th:only-of-type {\n",
       "        vertical-align: middle;\n",
       "    }\n",
       "\n",
       "    .dataframe tbody tr th {\n",
       "        vertical-align: top;\n",
       "    }\n",
       "\n",
       "    .dataframe thead th {\n",
       "        text-align: right;\n",
       "    }\n",
       "</style>\n",
       "<table border=\"1\" class=\"dataframe\">\n",
       "  <thead>\n",
       "    <tr style=\"text-align: right;\">\n",
       "      <th></th>\n",
       "      <th>First Name</th>\n",
       "      <th>Surname</th>\n",
       "    </tr>\n",
       "  </thead>\n",
       "  <tbody>\n",
       "    <tr>\n",
       "      <th>2665</th>\n",
       "      <td>James</td>\n",
       "      <td>Wilson</td>\n",
       "    </tr>\n",
       "    <tr>\n",
       "      <th>2666</th>\n",
       "      <td>Rebecca</td>\n",
       "      <td>Williams</td>\n",
       "    </tr>\n",
       "    <tr>\n",
       "      <th>2667</th>\n",
       "      <td>Joel</td>\n",
       "      <td>Watts</td>\n",
       "    </tr>\n",
       "    <tr>\n",
       "      <th>2668</th>\n",
       "      <td>Philip</td>\n",
       "      <td>Williams</td>\n",
       "    </tr>\n",
       "    <tr>\n",
       "      <th>2669</th>\n",
       "      <td>Catherine</td>\n",
       "      <td>Bennett</td>\n",
       "    </tr>\n",
       "    <tr>\n",
       "      <th>2670</th>\n",
       "      <td>Cameron</td>\n",
       "      <td>Bennett</td>\n",
       "    </tr>\n",
       "    <tr>\n",
       "      <th>2671</th>\n",
       "      <td>Chelsea</td>\n",
       "      <td>Bennett</td>\n",
       "    </tr>\n",
       "    <tr>\n",
       "      <th>2672</th>\n",
       "      <td>Jake</td>\n",
       "      <td>Bennett</td>\n",
       "    </tr>\n",
       "    <tr>\n",
       "      <th>2673</th>\n",
       "      <td>Pamela</td>\n",
       "      <td>Bennett</td>\n",
       "    </tr>\n",
       "    <tr>\n",
       "      <th>2674</th>\n",
       "      <td>Glenn</td>\n",
       "      <td>Rose</td>\n",
       "    </tr>\n",
       "  </tbody>\n",
       "</table>\n",
       "</div>"
      ],
      "text/plain": [
       "     First Name   Surname\n",
       "2665      James    Wilson\n",
       "2666    Rebecca  Williams\n",
       "2667       Joel     Watts\n",
       "2668     Philip  Williams\n",
       "2669  Catherine   Bennett\n",
       "2670    Cameron   Bennett\n",
       "2671    Chelsea   Bennett\n",
       "2672       Jake   Bennett\n",
       "2673     Pamela   Bennett\n",
       "2674      Glenn      Rose"
      ]
     },
     "execution_count": 55,
     "metadata": {},
     "output_type": "execute_result"
    }
   ],
   "source": [
    "#This is to confirm if the suggested name has overwritten the empty space\n",
    "census12_df[['First Name', 'Surname']].iloc[2665:2675]"
   ]
  },
  {
   "cell_type": "markdown",
   "id": "b48a5cb4",
   "metadata": {},
   "source": [
    "### 5. Cleaning of Age Data"
   ]
  },
  {
   "cell_type": "code",
   "execution_count": 182,
   "id": "e204636c",
   "metadata": {
    "scrolled": true
   },
   "outputs": [
    {
     "data": {
      "text/plain": [
       "array([ 20,  61,  59,  19,  55,  63,  40,   6,  35,  36,  49,  60,  39,\n",
       "        43,  68,  72,  42,   4,   2,  84,  88,  47,  56,  22,   9,  38,\n",
       "        69,  75,  34,   0,  64,  70,  15,  11,  18,  44,  53,   3,  31,\n",
       "        33,   5,  57,  24,  58,  12,  27,  28,  51,  76,  81,  83,  37,\n",
       "        17,  14,  21,  46,  45, 102,  99,  13,   1,  62,  41,  50,  30,\n",
       "        29,  25,  23,  10,   8,  52,  54,  16,  48,   7,  26,  32,  93,\n",
       "        73,  82,  67,  74,  65,  78,  77,  85,  71,  97,  66,  87, 104,\n",
       "        89,  80,  95,  94, 101,  86,  79,  90,  92, 100,  96,  91,  98])"
      ]
     },
     "execution_count": 182,
     "metadata": {},
     "output_type": "execute_result"
    }
   ],
   "source": [
    "census12_df['Age'].unique()"
   ]
  },
  {
   "cell_type": "code",
   "execution_count": 184,
   "id": "309d876c",
   "metadata": {
    "scrolled": true
   },
   "outputs": [
    {
     "data": {
      "text/html": [
       "<div>\n",
       "<style scoped>\n",
       "    .dataframe tbody tr th:only-of-type {\n",
       "        vertical-align: middle;\n",
       "    }\n",
       "\n",
       "    .dataframe tbody tr th {\n",
       "        vertical-align: top;\n",
       "    }\n",
       "\n",
       "    .dataframe thead th {\n",
       "        text-align: right;\n",
       "    }\n",
       "</style>\n",
       "<table border=\"1\" class=\"dataframe\">\n",
       "  <thead>\n",
       "    <tr style=\"text-align: right;\">\n",
       "      <th></th>\n",
       "      <th>House Number</th>\n",
       "      <th>Street</th>\n",
       "      <th>First Name</th>\n",
       "      <th>Surname</th>\n",
       "      <th>Age</th>\n",
       "      <th>Relationship to Head of House</th>\n",
       "      <th>Marital Status</th>\n",
       "      <th>Gender</th>\n",
       "      <th>Occupation</th>\n",
       "      <th>Infirmity</th>\n",
       "      <th>Religion</th>\n",
       "    </tr>\n",
       "  </thead>\n",
       "  <tbody>\n",
       "  </tbody>\n",
       "</table>\n",
       "</div>"
      ],
      "text/plain": [
       "Empty DataFrame\n",
       "Columns: [House Number, Street, First Name, Surname, Age, Relationship to Head of House, Marital Status, Gender, Occupation, Infirmity, Religion]\n",
       "Index: []"
      ]
     },
     "execution_count": 184,
     "metadata": {},
     "output_type": "execute_result"
    }
   ],
   "source": [
    "census12_df[census12_df['Age'].astype(str).str.startswith('-')]"
   ]
  },
  {
   "cell_type": "code",
   "execution_count": 68,
   "id": "f97a4352",
   "metadata": {},
   "outputs": [
    {
     "data": {
      "text/html": [
       "<div>\n",
       "<style scoped>\n",
       "    .dataframe tbody tr th:only-of-type {\n",
       "        vertical-align: middle;\n",
       "    }\n",
       "\n",
       "    .dataframe tbody tr th {\n",
       "        vertical-align: top;\n",
       "    }\n",
       "\n",
       "    .dataframe thead th {\n",
       "        text-align: right;\n",
       "    }\n",
       "</style>\n",
       "<table border=\"1\" class=\"dataframe\">\n",
       "  <thead>\n",
       "    <tr style=\"text-align: right;\">\n",
       "      <th></th>\n",
       "      <th>House Number</th>\n",
       "      <th>Street</th>\n",
       "      <th>First Name</th>\n",
       "      <th>Surname</th>\n",
       "      <th>Age</th>\n",
       "      <th>Relationship to Head of House</th>\n",
       "      <th>Marital Status</th>\n",
       "      <th>Gender</th>\n",
       "      <th>Occupation</th>\n",
       "      <th>Infirmity</th>\n",
       "      <th>Religion</th>\n",
       "    </tr>\n",
       "  </thead>\n",
       "  <tbody>\n",
       "    <tr>\n",
       "      <th>6670</th>\n",
       "      <td>2</td>\n",
       "      <td>Ashton Hill</td>\n",
       "      <td>Gerard</td>\n",
       "      <td>Thornton</td>\n",
       "      <td></td>\n",
       "      <td>Head</td>\n",
       "      <td>Divorced</td>\n",
       "      <td>Male</td>\n",
       "      <td>Tree surgeon</td>\n",
       "      <td>None</td>\n",
       "      <td>Catholic</td>\n",
       "    </tr>\n",
       "  </tbody>\n",
       "</table>\n",
       "</div>"
      ],
      "text/plain": [
       "      House Number       Street First Name   Surname Age  \\\n",
       "6670             2  Ashton Hill     Gerard  Thornton       \n",
       "\n",
       "     Relationship to Head of House Marital Status Gender    Occupation  \\\n",
       "6670                          Head       Divorced   Male  Tree surgeon   \n",
       "\n",
       "     Infirmity  Religion  \n",
       "6670      None  Catholic  "
      ]
     },
     "execution_count": 68,
     "metadata": {},
     "output_type": "execute_result"
    }
   ],
   "source": [
    "#Filtering out ages that are blank\n",
    "census12_df[census12_df['Age'].str.match(r'\\s')] "
   ]
  },
  {
   "cell_type": "code",
   "execution_count": 80,
   "id": "b20f2923",
   "metadata": {},
   "outputs": [],
   "source": [
    "median_head_age = census12_df['Age'][census12_df['Relationship to Head of House'] == 'Head'].median()"
   ]
  },
  {
   "cell_type": "code",
   "execution_count": 81,
   "id": "5562030a",
   "metadata": {},
   "outputs": [
    {
     "name": "stdout",
     "output_type": "stream",
     "text": [
      "47.0\n"
     ]
    }
   ],
   "source": [
    "print(median_head_age)"
   ]
  },
  {
   "cell_type": "code",
   "execution_count": 88,
   "id": "ea9b4bdd",
   "metadata": {},
   "outputs": [],
   "source": [
    "census12_df.loc[census12_df['Age'].isnull() & (census12_df['Relationship to Head of House']=='Head'), 'Age'] = median_head_age"
   ]
  },
  {
   "cell_type": "code",
   "execution_count": 89,
   "id": "48709381",
   "metadata": {},
   "outputs": [
    {
     "name": "stdout",
     "output_type": "stream",
     "text": [
      "House Number                                2\n",
      "Street                            Ashton Hill\n",
      "First Name                             Gerard\n",
      "Surname                              Thornton\n",
      "Age                                        47\n",
      "Relationship to Head of House            Head\n",
      "Marital Status                       Divorced\n",
      "Gender                                   Male\n",
      "Occupation                       Tree surgeon\n",
      "Infirmity                                None\n",
      "Religion                             Catholic\n",
      "Name: 6670, dtype: object\n"
     ]
    }
   ],
   "source": [
    "row_6670 = census12_df.loc[6670]\n",
    "print (row_6670)"
   ]
  },
  {
   "cell_type": "code",
   "execution_count": 91,
   "id": "6c3a0792",
   "metadata": {},
   "outputs": [
    {
     "data": {
      "text/plain": [
       "First Name      Gerard\n",
       "Surname       Thornton\n",
       "Age                 47\n",
       "Name: 6670, dtype: object"
      ]
     },
     "execution_count": 91,
     "metadata": {},
     "output_type": "execute_result"
    }
   ],
   "source": [
    "census12_df[['First Name', 'Surname', 'Age']].iloc[6670]"
   ]
  },
  {
   "cell_type": "code",
   "execution_count": 187,
   "id": "928268a4",
   "metadata": {},
   "outputs": [],
   "source": [
    "census12_df['Age'] = census12_df['Age'].astype('float').astype('int')"
   ]
  },
  {
   "cell_type": "code",
   "execution_count": 188,
   "id": "b508b22e",
   "metadata": {},
   "outputs": [
    {
     "data": {
      "text/html": [
       "<div>\n",
       "<style scoped>\n",
       "    .dataframe tbody tr th:only-of-type {\n",
       "        vertical-align: middle;\n",
       "    }\n",
       "\n",
       "    .dataframe tbody tr th {\n",
       "        vertical-align: top;\n",
       "    }\n",
       "\n",
       "    .dataframe thead th {\n",
       "        text-align: right;\n",
       "    }\n",
       "</style>\n",
       "<table border=\"1\" class=\"dataframe\">\n",
       "  <thead>\n",
       "    <tr style=\"text-align: right;\">\n",
       "      <th></th>\n",
       "      <th>House Number</th>\n",
       "      <th>Street</th>\n",
       "      <th>First Name</th>\n",
       "      <th>Surname</th>\n",
       "      <th>Age</th>\n",
       "      <th>Relationship to Head of House</th>\n",
       "      <th>Marital Status</th>\n",
       "      <th>Gender</th>\n",
       "      <th>Occupation</th>\n",
       "      <th>Infirmity</th>\n",
       "      <th>Religion</th>\n",
       "    </tr>\n",
       "  </thead>\n",
       "  <tbody>\n",
       "  </tbody>\n",
       "</table>\n",
       "</div>"
      ],
      "text/plain": [
       "Empty DataFrame\n",
       "Columns: [House Number, Street, First Name, Surname, Age, Relationship to Head of House, Marital Status, Gender, Occupation, Infirmity, Religion]\n",
       "Index: []"
      ]
     },
     "execution_count": 188,
     "metadata": {},
     "output_type": "execute_result"
    }
   ],
   "source": [
    "census12_df[(census12_df['Age'] < 0)]"
   ]
  },
  {
   "cell_type": "code",
   "execution_count": 189,
   "id": "82dd7a43",
   "metadata": {},
   "outputs": [],
   "source": [
    "census12_df['Age'] = census12_df['Age'].astype('float').astype('int')"
   ]
  },
  {
   "cell_type": "code",
   "execution_count": 190,
   "id": "ddfba5a9",
   "metadata": {},
   "outputs": [
    {
     "data": {
      "text/html": [
       "<div>\n",
       "<style scoped>\n",
       "    .dataframe tbody tr th:only-of-type {\n",
       "        vertical-align: middle;\n",
       "    }\n",
       "\n",
       "    .dataframe tbody tr th {\n",
       "        vertical-align: top;\n",
       "    }\n",
       "\n",
       "    .dataframe thead th {\n",
       "        text-align: right;\n",
       "    }\n",
       "</style>\n",
       "<table border=\"1\" class=\"dataframe\">\n",
       "  <thead>\n",
       "    <tr style=\"text-align: right;\">\n",
       "      <th></th>\n",
       "      <th>House Number</th>\n",
       "      <th>Street</th>\n",
       "      <th>First Name</th>\n",
       "      <th>Surname</th>\n",
       "      <th>Age</th>\n",
       "      <th>Relationship to Head of House</th>\n",
       "      <th>Marital Status</th>\n",
       "      <th>Gender</th>\n",
       "      <th>Occupation</th>\n",
       "      <th>Infirmity</th>\n",
       "      <th>Religion</th>\n",
       "    </tr>\n",
       "  </thead>\n",
       "  <tbody>\n",
       "  </tbody>\n",
       "</table>\n",
       "</div>"
      ],
      "text/plain": [
       "Empty DataFrame\n",
       "Columns: [House Number, Street, First Name, Surname, Age, Relationship to Head of House, Marital Status, Gender, Occupation, Infirmity, Religion]\n",
       "Index: []"
      ]
     },
     "execution_count": 190,
     "metadata": {},
     "output_type": "execute_result"
    }
   ],
   "source": [
    "#According to research, Mary “Mollie” Walker aged 112 was the oldest person in UK in 2021\n",
    "census12_df[(census12_df['Age'] > 112)]"
   ]
  },
  {
   "cell_type": "code",
   "execution_count": 191,
   "id": "09f1dda5",
   "metadata": {},
   "outputs": [
    {
     "data": {
      "text/html": [
       "<div>\n",
       "<style scoped>\n",
       "    .dataframe tbody tr th:only-of-type {\n",
       "        vertical-align: middle;\n",
       "    }\n",
       "\n",
       "    .dataframe tbody tr th {\n",
       "        vertical-align: top;\n",
       "    }\n",
       "\n",
       "    .dataframe thead th {\n",
       "        text-align: right;\n",
       "    }\n",
       "</style>\n",
       "<table border=\"1\" class=\"dataframe\">\n",
       "  <thead>\n",
       "    <tr style=\"text-align: right;\">\n",
       "      <th></th>\n",
       "      <th>House Number</th>\n",
       "      <th>Street</th>\n",
       "      <th>First Name</th>\n",
       "      <th>Surname</th>\n",
       "      <th>Age</th>\n",
       "      <th>Relationship to Head of House</th>\n",
       "      <th>Marital Status</th>\n",
       "      <th>Gender</th>\n",
       "      <th>Occupation</th>\n",
       "      <th>Infirmity</th>\n",
       "      <th>Religion</th>\n",
       "    </tr>\n",
       "  </thead>\n",
       "  <tbody>\n",
       "    <tr>\n",
       "      <th>6002</th>\n",
       "      <td>60</td>\n",
       "      <td>Gill Orchard</td>\n",
       "      <td>Denise</td>\n",
       "      <td>Dyer</td>\n",
       "      <td>16</td>\n",
       "      <td>Head</td>\n",
       "      <td>Single</td>\n",
       "      <td>Female</td>\n",
       "      <td>Student</td>\n",
       "      <td>None</td>\n",
       "      <td>NaN</td>\n",
       "    </tr>\n",
       "    <tr>\n",
       "      <th>7424</th>\n",
       "      <td>8</td>\n",
       "      <td>Dixon Creek</td>\n",
       "      <td>Caroline</td>\n",
       "      <td>Patel</td>\n",
       "      <td>17</td>\n",
       "      <td>Head</td>\n",
       "      <td>Divorced</td>\n",
       "      <td>Female</td>\n",
       "      <td>Unemployed</td>\n",
       "      <td>None</td>\n",
       "      <td>NaN</td>\n",
       "    </tr>\n",
       "    <tr>\n",
       "      <th>9970</th>\n",
       "      <td>15</td>\n",
       "      <td>Bailey Lane</td>\n",
       "      <td>Annette</td>\n",
       "      <td>Barnett</td>\n",
       "      <td>17</td>\n",
       "      <td>Head</td>\n",
       "      <td>Single</td>\n",
       "      <td>Female</td>\n",
       "      <td>Student</td>\n",
       "      <td>None</td>\n",
       "      <td>NaN</td>\n",
       "    </tr>\n",
       "    <tr>\n",
       "      <th>10454</th>\n",
       "      <td>51</td>\n",
       "      <td>Lomond Drive</td>\n",
       "      <td>Valerie</td>\n",
       "      <td>Scott</td>\n",
       "      <td>16</td>\n",
       "      <td>Head</td>\n",
       "      <td>Single</td>\n",
       "      <td>Female</td>\n",
       "      <td>Student</td>\n",
       "      <td>None</td>\n",
       "      <td>NaN</td>\n",
       "    </tr>\n",
       "  </tbody>\n",
       "</table>\n",
       "</div>"
      ],
      "text/plain": [
       "       House Number        Street First Name  Surname  Age  \\\n",
       "6002             60  Gill Orchard     Denise     Dyer   16   \n",
       "7424              8   Dixon Creek   Caroline    Patel   17   \n",
       "9970             15   Bailey Lane    Annette  Barnett   17   \n",
       "10454            51  Lomond Drive    Valerie    Scott   16   \n",
       "\n",
       "      Relationship to Head of House Marital Status  Gender  Occupation  \\\n",
       "6002                           Head         Single  Female     Student   \n",
       "7424                           Head       Divorced  Female  Unemployed   \n",
       "9970                           Head         Single  Female     Student   \n",
       "10454                          Head         Single  Female     Student   \n",
       "\n",
       "      Infirmity Religion  \n",
       "6002       None      NaN  \n",
       "7424       None      NaN  \n",
       "9970       None      NaN  \n",
       "10454      None      NaN  "
      ]
     },
     "execution_count": 191,
     "metadata": {},
     "output_type": "execute_result"
    }
   ],
   "source": [
    "#lets check for people who are below 18 years and are categorised as Head of House.\n",
    "census12_df[(census12_df['Age'] < 18) & (census12_df['Relationship to Head of House'] == 'Head')]"
   ]
  },
  {
   "cell_type": "markdown",
   "id": "c99ea624",
   "metadata": {},
   "source": [
    "#### From the data above, we can observe that there are four females below the age of 18 that are head of house. The shocking part of this information is that they are unemployed and are the only occupant of their house. we can conclude that there is a higher possibility that they inherited the house or was given to them as a gift."
   ]
  },
  {
   "cell_type": "markdown",
   "id": "aabda0a1",
   "metadata": {},
   "source": [
    "### 6. Relationship to Head of House"
   ]
  },
  {
   "cell_type": "code",
   "execution_count": 101,
   "id": "1607c72f",
   "metadata": {},
   "outputs": [
    {
     "data": {
      "text/html": [
       "<div>\n",
       "<style scoped>\n",
       "    .dataframe tbody tr th:only-of-type {\n",
       "        vertical-align: middle;\n",
       "    }\n",
       "\n",
       "    .dataframe tbody tr th {\n",
       "        vertical-align: top;\n",
       "    }\n",
       "\n",
       "    .dataframe thead th {\n",
       "        text-align: right;\n",
       "    }\n",
       "</style>\n",
       "<table border=\"1\" class=\"dataframe\">\n",
       "  <thead>\n",
       "    <tr style=\"text-align: right;\">\n",
       "      <th></th>\n",
       "      <th>House Number</th>\n",
       "      <th>Street</th>\n",
       "      <th>First Name</th>\n",
       "      <th>Surname</th>\n",
       "      <th>Age</th>\n",
       "      <th>Relationship to Head of House</th>\n",
       "      <th>Marital Status</th>\n",
       "      <th>Gender</th>\n",
       "      <th>Occupation</th>\n",
       "      <th>Infirmity</th>\n",
       "      <th>Religion</th>\n",
       "    </tr>\n",
       "  </thead>\n",
       "  <tbody>\n",
       "    <tr>\n",
       "      <th>1654</th>\n",
       "      <td>12</td>\n",
       "      <td>Guitar Highway</td>\n",
       "      <td>Harry</td>\n",
       "      <td>Tyler</td>\n",
       "      <td>51</td>\n",
       "      <td></td>\n",
       "      <td>Single</td>\n",
       "      <td>Male</td>\n",
       "      <td>Surveyor, rural practice</td>\n",
       "      <td>None</td>\n",
       "      <td>None</td>\n",
       "    </tr>\n",
       "    <tr>\n",
       "      <th>3795</th>\n",
       "      <td>159</td>\n",
       "      <td>Ali View</td>\n",
       "      <td>Judith</td>\n",
       "      <td>Ball</td>\n",
       "      <td>43</td>\n",
       "      <td></td>\n",
       "      <td>Single</td>\n",
       "      <td>Female</td>\n",
       "      <td>Theatre manager</td>\n",
       "      <td>None</td>\n",
       "      <td>None</td>\n",
       "    </tr>\n",
       "  </tbody>\n",
       "</table>\n",
       "</div>"
      ],
      "text/plain": [
       "      House Number          Street First Name Surname  Age  \\\n",
       "1654            12  Guitar Highway      Harry   Tyler   51   \n",
       "3795           159        Ali View     Judith    Ball   43   \n",
       "\n",
       "     Relationship to Head of House Marital Status  Gender  \\\n",
       "1654                                       Single    Male   \n",
       "3795                                       Single  Female   \n",
       "\n",
       "                    Occupation Infirmity Religion  \n",
       "1654  Surveyor, rural practice      None     None  \n",
       "3795           Theatre manager      None     None  "
      ]
     },
     "execution_count": 101,
     "metadata": {},
     "output_type": "execute_result"
    }
   ],
   "source": [
    "#To find the location of the blank Relationship to the Head of House \n",
    "census12_df[census12_df['Relationship to Head of House']== ' ']"
   ]
  },
  {
   "cell_type": "code",
   "execution_count": 102,
   "id": "bc88e2dc",
   "metadata": {},
   "outputs": [
    {
     "data": {
      "text/html": [
       "<div>\n",
       "<style scoped>\n",
       "    .dataframe tbody tr th:only-of-type {\n",
       "        vertical-align: middle;\n",
       "    }\n",
       "\n",
       "    .dataframe tbody tr th {\n",
       "        vertical-align: top;\n",
       "    }\n",
       "\n",
       "    .dataframe thead th {\n",
       "        text-align: right;\n",
       "    }\n",
       "</style>\n",
       "<table border=\"1\" class=\"dataframe\">\n",
       "  <thead>\n",
       "    <tr style=\"text-align: right;\">\n",
       "      <th></th>\n",
       "      <th>House Number</th>\n",
       "      <th>Street</th>\n",
       "      <th>First Name</th>\n",
       "      <th>Surname</th>\n",
       "      <th>Age</th>\n",
       "      <th>Relationship to Head of House</th>\n",
       "      <th>Marital Status</th>\n",
       "      <th>Gender</th>\n",
       "      <th>Occupation</th>\n",
       "      <th>Infirmity</th>\n",
       "      <th>Religion</th>\n",
       "    </tr>\n",
       "  </thead>\n",
       "  <tbody>\n",
       "    <tr>\n",
       "      <th>1650</th>\n",
       "      <td>9</td>\n",
       "      <td>Guitar Highway</td>\n",
       "      <td>Heather</td>\n",
       "      <td>Mistry</td>\n",
       "      <td>19</td>\n",
       "      <td>Wife</td>\n",
       "      <td>Married</td>\n",
       "      <td>Female</td>\n",
       "      <td>Furniture conservator/restorer</td>\n",
       "      <td>None</td>\n",
       "      <td>None</td>\n",
       "    </tr>\n",
       "    <tr>\n",
       "      <th>1651</th>\n",
       "      <td>10</td>\n",
       "      <td>Guitar Highway</td>\n",
       "      <td>Martyn</td>\n",
       "      <td>Peacock</td>\n",
       "      <td>64</td>\n",
       "      <td>Head</td>\n",
       "      <td>Single</td>\n",
       "      <td>Male</td>\n",
       "      <td>Barrister's clerk</td>\n",
       "      <td>None</td>\n",
       "      <td>Christian</td>\n",
       "    </tr>\n",
       "    <tr>\n",
       "      <th>1652</th>\n",
       "      <td>11</td>\n",
       "      <td>Guitar Highway</td>\n",
       "      <td>Linda</td>\n",
       "      <td>Gibbons</td>\n",
       "      <td>30</td>\n",
       "      <td>Head</td>\n",
       "      <td>Single</td>\n",
       "      <td>Female</td>\n",
       "      <td>Radio broadcast assistant</td>\n",
       "      <td>None</td>\n",
       "      <td>None</td>\n",
       "    </tr>\n",
       "    <tr>\n",
       "      <th>1653</th>\n",
       "      <td>11</td>\n",
       "      <td>Guitar Highway</td>\n",
       "      <td>Mohammad</td>\n",
       "      <td>Gordon</td>\n",
       "      <td>27</td>\n",
       "      <td>None</td>\n",
       "      <td>Single</td>\n",
       "      <td>Male</td>\n",
       "      <td>Engineer, communications</td>\n",
       "      <td>None</td>\n",
       "      <td>None</td>\n",
       "    </tr>\n",
       "    <tr>\n",
       "      <th>1654</th>\n",
       "      <td>12</td>\n",
       "      <td>Guitar Highway</td>\n",
       "      <td>Harry</td>\n",
       "      <td>Tyler</td>\n",
       "      <td>51</td>\n",
       "      <td></td>\n",
       "      <td>Single</td>\n",
       "      <td>Male</td>\n",
       "      <td>Surveyor, rural practice</td>\n",
       "      <td>None</td>\n",
       "      <td>None</td>\n",
       "    </tr>\n",
       "    <tr>\n",
       "      <th>1655</th>\n",
       "      <td>13</td>\n",
       "      <td>Guitar Highway</td>\n",
       "      <td>Donna</td>\n",
       "      <td>Davis</td>\n",
       "      <td>82</td>\n",
       "      <td>Head</td>\n",
       "      <td>Married</td>\n",
       "      <td>Female</td>\n",
       "      <td>Retired Chemical engineer</td>\n",
       "      <td>None</td>\n",
       "      <td>None</td>\n",
       "    </tr>\n",
       "    <tr>\n",
       "      <th>1656</th>\n",
       "      <td>13</td>\n",
       "      <td>Guitar Highway</td>\n",
       "      <td>Darren</td>\n",
       "      <td>Davis</td>\n",
       "      <td>85</td>\n",
       "      <td>Husband</td>\n",
       "      <td>Married</td>\n",
       "      <td>Male</td>\n",
       "      <td>Retired Fine artist</td>\n",
       "      <td>None</td>\n",
       "      <td>None</td>\n",
       "    </tr>\n",
       "    <tr>\n",
       "      <th>1657</th>\n",
       "      <td>14</td>\n",
       "      <td>Guitar Highway</td>\n",
       "      <td>Jodie</td>\n",
       "      <td>Evans</td>\n",
       "      <td>48</td>\n",
       "      <td>Head</td>\n",
       "      <td>Widowed</td>\n",
       "      <td>Female</td>\n",
       "      <td>Pharmacologist</td>\n",
       "      <td>None</td>\n",
       "      <td>None</td>\n",
       "    </tr>\n",
       "  </tbody>\n",
       "</table>\n",
       "</div>"
      ],
      "text/plain": [
       "      House Number          Street First Name  Surname  Age  \\\n",
       "1650             9  Guitar Highway    Heather   Mistry   19   \n",
       "1651            10  Guitar Highway     Martyn  Peacock   64   \n",
       "1652            11  Guitar Highway      Linda  Gibbons   30   \n",
       "1653            11  Guitar Highway   Mohammad   Gordon   27   \n",
       "1654            12  Guitar Highway      Harry    Tyler   51   \n",
       "1655            13  Guitar Highway      Donna    Davis   82   \n",
       "1656            13  Guitar Highway     Darren    Davis   85   \n",
       "1657            14  Guitar Highway      Jodie    Evans   48   \n",
       "\n",
       "     Relationship to Head of House Marital Status  Gender  \\\n",
       "1650                          Wife        Married  Female   \n",
       "1651                          Head         Single    Male   \n",
       "1652                          Head         Single  Female   \n",
       "1653                          None         Single    Male   \n",
       "1654                                       Single    Male   \n",
       "1655                          Head        Married  Female   \n",
       "1656                       Husband        Married    Male   \n",
       "1657                          Head        Widowed  Female   \n",
       "\n",
       "                          Occupation Infirmity   Religion  \n",
       "1650  Furniture conservator/restorer      None       None  \n",
       "1651               Barrister's clerk      None  Christian  \n",
       "1652       Radio broadcast assistant      None       None  \n",
       "1653        Engineer, communications      None       None  \n",
       "1654        Surveyor, rural practice      None       None  \n",
       "1655       Retired Chemical engineer      None       None  \n",
       "1656             Retired Fine artist      None       None  \n",
       "1657                  Pharmacologist      None       None  "
      ]
     },
     "execution_count": 102,
     "metadata": {},
     "output_type": "execute_result"
    }
   ],
   "source": [
    "#Lets bring some data before and after the blank space to suggest an appropriate Relationship.\n",
    "census12_df[1650:1658]"
   ]
  },
  {
   "cell_type": "markdown",
   "id": "56264e78",
   "metadata": {},
   "source": [
    "#### we can observe from above that Harry Tyler does not have any Relationship attribute, so Head of House is suggested since he lives alone."
   ]
  },
  {
   "cell_type": "code",
   "execution_count": 103,
   "id": "3f1dee5f",
   "metadata": {},
   "outputs": [],
   "source": [
    "census12_df.at[1654, 'Relationship to Head of House'] = 'Head'"
   ]
  },
  {
   "cell_type": "code",
   "execution_count": 104,
   "id": "8db674cd",
   "metadata": {},
   "outputs": [
    {
     "data": {
      "text/html": [
       "<div>\n",
       "<style scoped>\n",
       "    .dataframe tbody tr th:only-of-type {\n",
       "        vertical-align: middle;\n",
       "    }\n",
       "\n",
       "    .dataframe tbody tr th {\n",
       "        vertical-align: top;\n",
       "    }\n",
       "\n",
       "    .dataframe thead th {\n",
       "        text-align: right;\n",
       "    }\n",
       "</style>\n",
       "<table border=\"1\" class=\"dataframe\">\n",
       "  <thead>\n",
       "    <tr style=\"text-align: right;\">\n",
       "      <th></th>\n",
       "      <th>First Name</th>\n",
       "      <th>Surname</th>\n",
       "      <th>Relationship to Head of House</th>\n",
       "    </tr>\n",
       "  </thead>\n",
       "  <tbody>\n",
       "    <tr>\n",
       "      <th>1650</th>\n",
       "      <td>Heather</td>\n",
       "      <td>Mistry</td>\n",
       "      <td>Wife</td>\n",
       "    </tr>\n",
       "    <tr>\n",
       "      <th>1651</th>\n",
       "      <td>Martyn</td>\n",
       "      <td>Peacock</td>\n",
       "      <td>Head</td>\n",
       "    </tr>\n",
       "    <tr>\n",
       "      <th>1652</th>\n",
       "      <td>Linda</td>\n",
       "      <td>Gibbons</td>\n",
       "      <td>Head</td>\n",
       "    </tr>\n",
       "    <tr>\n",
       "      <th>1653</th>\n",
       "      <td>Mohammad</td>\n",
       "      <td>Gordon</td>\n",
       "      <td>None</td>\n",
       "    </tr>\n",
       "    <tr>\n",
       "      <th>1654</th>\n",
       "      <td>Harry</td>\n",
       "      <td>Tyler</td>\n",
       "      <td>Head</td>\n",
       "    </tr>\n",
       "    <tr>\n",
       "      <th>1655</th>\n",
       "      <td>Donna</td>\n",
       "      <td>Davis</td>\n",
       "      <td>Head</td>\n",
       "    </tr>\n",
       "    <tr>\n",
       "      <th>1656</th>\n",
       "      <td>Darren</td>\n",
       "      <td>Davis</td>\n",
       "      <td>Husband</td>\n",
       "    </tr>\n",
       "  </tbody>\n",
       "</table>\n",
       "</div>"
      ],
      "text/plain": [
       "     First Name  Surname Relationship to Head of House\n",
       "1650    Heather   Mistry                          Wife\n",
       "1651     Martyn  Peacock                          Head\n",
       "1652      Linda  Gibbons                          Head\n",
       "1653   Mohammad   Gordon                          None\n",
       "1654      Harry    Tyler                          Head\n",
       "1655      Donna    Davis                          Head\n",
       "1656     Darren    Davis                       Husband"
      ]
     },
     "execution_count": 104,
     "metadata": {},
     "output_type": "execute_result"
    }
   ],
   "source": [
    "#This is to confirm if the suggested Relationship name has overwritten the empty space\n",
    "census12_df[['First Name', 'Surname', 'Relationship to Head of House']].iloc[1650:1657]"
   ]
  },
  {
   "cell_type": "code",
   "execution_count": 106,
   "id": "56b5e07d",
   "metadata": {},
   "outputs": [
    {
     "data": {
      "text/html": [
       "<div>\n",
       "<style scoped>\n",
       "    .dataframe tbody tr th:only-of-type {\n",
       "        vertical-align: middle;\n",
       "    }\n",
       "\n",
       "    .dataframe tbody tr th {\n",
       "        vertical-align: top;\n",
       "    }\n",
       "\n",
       "    .dataframe thead th {\n",
       "        text-align: right;\n",
       "    }\n",
       "</style>\n",
       "<table border=\"1\" class=\"dataframe\">\n",
       "  <thead>\n",
       "    <tr style=\"text-align: right;\">\n",
       "      <th></th>\n",
       "      <th>House Number</th>\n",
       "      <th>Street</th>\n",
       "      <th>First Name</th>\n",
       "      <th>Surname</th>\n",
       "      <th>Age</th>\n",
       "      <th>Relationship to Head of House</th>\n",
       "      <th>Marital Status</th>\n",
       "      <th>Gender</th>\n",
       "      <th>Occupation</th>\n",
       "      <th>Infirmity</th>\n",
       "      <th>Religion</th>\n",
       "    </tr>\n",
       "  </thead>\n",
       "  <tbody>\n",
       "    <tr>\n",
       "      <th>3790</th>\n",
       "      <td>157</td>\n",
       "      <td>Ali View</td>\n",
       "      <td>Declan</td>\n",
       "      <td>Edwards</td>\n",
       "      <td>61</td>\n",
       "      <td>Head</td>\n",
       "      <td>Married</td>\n",
       "      <td>Male</td>\n",
       "      <td>Copywriter, advertising</td>\n",
       "      <td>None</td>\n",
       "      <td>Christian</td>\n",
       "    </tr>\n",
       "    <tr>\n",
       "      <th>3791</th>\n",
       "      <td>157</td>\n",
       "      <td>Ali View</td>\n",
       "      <td>Catherine</td>\n",
       "      <td>Edwards</td>\n",
       "      <td>58</td>\n",
       "      <td>Wife</td>\n",
       "      <td>Married</td>\n",
       "      <td>Female</td>\n",
       "      <td>Secretary/administrator</td>\n",
       "      <td>None</td>\n",
       "      <td>None</td>\n",
       "    </tr>\n",
       "    <tr>\n",
       "      <th>3792</th>\n",
       "      <td>157</td>\n",
       "      <td>Ali View</td>\n",
       "      <td>Leanne</td>\n",
       "      <td>James</td>\n",
       "      <td>16</td>\n",
       "      <td>Granddaughter</td>\n",
       "      <td>NaN</td>\n",
       "      <td>Female</td>\n",
       "      <td>Student</td>\n",
       "      <td>None</td>\n",
       "      <td>NaN</td>\n",
       "    </tr>\n",
       "    <tr>\n",
       "      <th>3793</th>\n",
       "      <td>158</td>\n",
       "      <td>Ali View</td>\n",
       "      <td>Kenneth</td>\n",
       "      <td>Brookes</td>\n",
       "      <td>40</td>\n",
       "      <td>Head</td>\n",
       "      <td>Single</td>\n",
       "      <td>Male</td>\n",
       "      <td>Engineer, civil (consulting)</td>\n",
       "      <td>None</td>\n",
       "      <td>Christian</td>\n",
       "    </tr>\n",
       "    <tr>\n",
       "      <th>3794</th>\n",
       "      <td>158</td>\n",
       "      <td>Ali View</td>\n",
       "      <td>Kathryn</td>\n",
       "      <td>Clarke</td>\n",
       "      <td>38</td>\n",
       "      <td>Partner</td>\n",
       "      <td>Single</td>\n",
       "      <td>Female</td>\n",
       "      <td>Sales promotion account executive</td>\n",
       "      <td>None</td>\n",
       "      <td>Christian</td>\n",
       "    </tr>\n",
       "    <tr>\n",
       "      <th>3795</th>\n",
       "      <td>159</td>\n",
       "      <td>Ali View</td>\n",
       "      <td>Judith</td>\n",
       "      <td>Ball</td>\n",
       "      <td>43</td>\n",
       "      <td></td>\n",
       "      <td>Single</td>\n",
       "      <td>Female</td>\n",
       "      <td>Theatre manager</td>\n",
       "      <td>None</td>\n",
       "      <td>None</td>\n",
       "    </tr>\n",
       "    <tr>\n",
       "      <th>3796</th>\n",
       "      <td>159</td>\n",
       "      <td>Ali View</td>\n",
       "      <td>Benjamin</td>\n",
       "      <td>Smith</td>\n",
       "      <td>43</td>\n",
       "      <td>Partner</td>\n",
       "      <td>Single</td>\n",
       "      <td>Male</td>\n",
       "      <td>Hydrogeologist</td>\n",
       "      <td>None</td>\n",
       "      <td>None</td>\n",
       "    </tr>\n",
       "  </tbody>\n",
       "</table>\n",
       "</div>"
      ],
      "text/plain": [
       "      House Number    Street First Name  Surname  Age  \\\n",
       "3790           157  Ali View     Declan  Edwards   61   \n",
       "3791           157  Ali View  Catherine  Edwards   58   \n",
       "3792           157  Ali View     Leanne    James   16   \n",
       "3793           158  Ali View    Kenneth  Brookes   40   \n",
       "3794           158  Ali View    Kathryn   Clarke   38   \n",
       "3795           159  Ali View     Judith     Ball   43   \n",
       "3796           159  Ali View   Benjamin    Smith   43   \n",
       "\n",
       "     Relationship to Head of House Marital Status  Gender  \\\n",
       "3790                          Head        Married    Male   \n",
       "3791                          Wife        Married  Female   \n",
       "3792                 Granddaughter            NaN  Female   \n",
       "3793                          Head         Single    Male   \n",
       "3794                       Partner         Single  Female   \n",
       "3795                                       Single  Female   \n",
       "3796                       Partner         Single    Male   \n",
       "\n",
       "                             Occupation Infirmity   Religion  \n",
       "3790            Copywriter, advertising      None  Christian  \n",
       "3791            Secretary/administrator      None       None  \n",
       "3792                            Student      None        NaN  \n",
       "3793       Engineer, civil (consulting)      None  Christian  \n",
       "3794  Sales promotion account executive      None  Christian  \n",
       "3795                    Theatre manager      None       None  \n",
       "3796                     Hydrogeologist      None       None  "
      ]
     },
     "execution_count": 106,
     "metadata": {},
     "output_type": "execute_result"
    }
   ],
   "source": [
    "#Lets bring some data before and after the blank space to suggest an appropriate Relationship.\n",
    "census12_df[3790:3797]"
   ]
  },
  {
   "cell_type": "markdown",
   "id": "616df15e",
   "metadata": {},
   "source": [
    "#### we can observe from above that Judith Ball does not have any Relationship attribute, so Head of House is suggested since there is no Head of House yet in her Household."
   ]
  },
  {
   "cell_type": "code",
   "execution_count": 107,
   "id": "75230a72",
   "metadata": {},
   "outputs": [],
   "source": [
    "census12_df.at[3795, 'Relationship to Head of House'] = 'Head'"
   ]
  },
  {
   "cell_type": "code",
   "execution_count": 108,
   "id": "51fac525",
   "metadata": {},
   "outputs": [
    {
     "data": {
      "text/html": [
       "<div>\n",
       "<style scoped>\n",
       "    .dataframe tbody tr th:only-of-type {\n",
       "        vertical-align: middle;\n",
       "    }\n",
       "\n",
       "    .dataframe tbody tr th {\n",
       "        vertical-align: top;\n",
       "    }\n",
       "\n",
       "    .dataframe thead th {\n",
       "        text-align: right;\n",
       "    }\n",
       "</style>\n",
       "<table border=\"1\" class=\"dataframe\">\n",
       "  <thead>\n",
       "    <tr style=\"text-align: right;\">\n",
       "      <th></th>\n",
       "      <th>First Name</th>\n",
       "      <th>Surname</th>\n",
       "      <th>Relationship to Head of House</th>\n",
       "    </tr>\n",
       "  </thead>\n",
       "  <tbody>\n",
       "    <tr>\n",
       "      <th>3790</th>\n",
       "      <td>Declan</td>\n",
       "      <td>Edwards</td>\n",
       "      <td>Head</td>\n",
       "    </tr>\n",
       "    <tr>\n",
       "      <th>3791</th>\n",
       "      <td>Catherine</td>\n",
       "      <td>Edwards</td>\n",
       "      <td>Wife</td>\n",
       "    </tr>\n",
       "    <tr>\n",
       "      <th>3792</th>\n",
       "      <td>Leanne</td>\n",
       "      <td>James</td>\n",
       "      <td>Granddaughter</td>\n",
       "    </tr>\n",
       "    <tr>\n",
       "      <th>3793</th>\n",
       "      <td>Kenneth</td>\n",
       "      <td>Brookes</td>\n",
       "      <td>Head</td>\n",
       "    </tr>\n",
       "    <tr>\n",
       "      <th>3794</th>\n",
       "      <td>Kathryn</td>\n",
       "      <td>Clarke</td>\n",
       "      <td>Partner</td>\n",
       "    </tr>\n",
       "    <tr>\n",
       "      <th>3795</th>\n",
       "      <td>Judith</td>\n",
       "      <td>Ball</td>\n",
       "      <td>Head</td>\n",
       "    </tr>\n",
       "    <tr>\n",
       "      <th>3796</th>\n",
       "      <td>Benjamin</td>\n",
       "      <td>Smith</td>\n",
       "      <td>Partner</td>\n",
       "    </tr>\n",
       "  </tbody>\n",
       "</table>\n",
       "</div>"
      ],
      "text/plain": [
       "     First Name  Surname Relationship to Head of House\n",
       "3790     Declan  Edwards                          Head\n",
       "3791  Catherine  Edwards                          Wife\n",
       "3792     Leanne    James                 Granddaughter\n",
       "3793    Kenneth  Brookes                          Head\n",
       "3794    Kathryn   Clarke                       Partner\n",
       "3795     Judith     Ball                          Head\n",
       "3796   Benjamin    Smith                       Partner"
      ]
     },
     "execution_count": 108,
     "metadata": {},
     "output_type": "execute_result"
    }
   ],
   "source": [
    "#This is to confirm if the suggested Relationship name has overwritten the empty space\n",
    "census12_df[['First Name', 'Surname', 'Relationship to Head of House']].iloc[3790:3797]"
   ]
  },
  {
   "cell_type": "code",
   "execution_count": 110,
   "id": "70d3b17d",
   "metadata": {},
   "outputs": [
    {
     "data": {
      "text/html": [
       "<div>\n",
       "<style scoped>\n",
       "    .dataframe tbody tr th:only-of-type {\n",
       "        vertical-align: middle;\n",
       "    }\n",
       "\n",
       "    .dataframe tbody tr th {\n",
       "        vertical-align: top;\n",
       "    }\n",
       "\n",
       "    .dataframe thead th {\n",
       "        text-align: right;\n",
       "    }\n",
       "</style>\n",
       "<table border=\"1\" class=\"dataframe\">\n",
       "  <thead>\n",
       "    <tr style=\"text-align: right;\">\n",
       "      <th></th>\n",
       "      <th>House Number</th>\n",
       "      <th>Street</th>\n",
       "      <th>First Name</th>\n",
       "      <th>Surname</th>\n",
       "      <th>Age</th>\n",
       "      <th>Relationship to Head of House</th>\n",
       "      <th>Marital Status</th>\n",
       "      <th>Gender</th>\n",
       "      <th>Occupation</th>\n",
       "      <th>Infirmity</th>\n",
       "      <th>Religion</th>\n",
       "    </tr>\n",
       "  </thead>\n",
       "  <tbody>\n",
       "    <tr>\n",
       "      <th>6</th>\n",
       "      <td>4</td>\n",
       "      <td>Castor Lane</td>\n",
       "      <td>Victoria</td>\n",
       "      <td>Cook</td>\n",
       "      <td>63</td>\n",
       "      <td>None</td>\n",
       "      <td>Single</td>\n",
       "      <td>Female</td>\n",
       "      <td>Town planner</td>\n",
       "      <td>None</td>\n",
       "      <td>Christian</td>\n",
       "    </tr>\n",
       "    <tr>\n",
       "      <th>10</th>\n",
       "      <td>6</td>\n",
       "      <td>Castor Lane</td>\n",
       "      <td>Antony</td>\n",
       "      <td>Spencer</td>\n",
       "      <td>35</td>\n",
       "      <td>None</td>\n",
       "      <td>Single</td>\n",
       "      <td>Male</td>\n",
       "      <td>Unemployed</td>\n",
       "      <td>None</td>\n",
       "      <td>Muslim</td>\n",
       "    </tr>\n",
       "    <tr>\n",
       "      <th>11</th>\n",
       "      <td>6</td>\n",
       "      <td>Castor Lane</td>\n",
       "      <td>Victor</td>\n",
       "      <td>Wilson</td>\n",
       "      <td>36</td>\n",
       "      <td>None</td>\n",
       "      <td>Single</td>\n",
       "      <td>Male</td>\n",
       "      <td>Technical sales engineer</td>\n",
       "      <td>None</td>\n",
       "      <td>Catholic</td>\n",
       "    </tr>\n",
       "    <tr>\n",
       "      <th>12</th>\n",
       "      <td>6</td>\n",
       "      <td>Castor Lane</td>\n",
       "      <td>Conor</td>\n",
       "      <td>Robinson</td>\n",
       "      <td>35</td>\n",
       "      <td>None</td>\n",
       "      <td>Single</td>\n",
       "      <td>Male</td>\n",
       "      <td>Set designer</td>\n",
       "      <td>None</td>\n",
       "      <td>Methodist</td>\n",
       "    </tr>\n",
       "    <tr>\n",
       "      <th>13</th>\n",
       "      <td>6</td>\n",
       "      <td>Castor Lane</td>\n",
       "      <td>Kate</td>\n",
       "      <td>Clark</td>\n",
       "      <td>49</td>\n",
       "      <td>None</td>\n",
       "      <td>Single</td>\n",
       "      <td>Female</td>\n",
       "      <td>Landscape architect</td>\n",
       "      <td>None</td>\n",
       "      <td>Christian</td>\n",
       "    </tr>\n",
       "    <tr>\n",
       "      <th>...</th>\n",
       "      <td>...</td>\n",
       "      <td>...</td>\n",
       "      <td>...</td>\n",
       "      <td>...</td>\n",
       "      <td>...</td>\n",
       "      <td>...</td>\n",
       "      <td>...</td>\n",
       "      <td>...</td>\n",
       "      <td>...</td>\n",
       "      <td>...</td>\n",
       "      <td>...</td>\n",
       "    </tr>\n",
       "    <tr>\n",
       "      <th>10677</th>\n",
       "      <td>1</td>\n",
       "      <td>Equinox Factory</td>\n",
       "      <td>Wayne</td>\n",
       "      <td>Jones</td>\n",
       "      <td>4</td>\n",
       "      <td>None</td>\n",
       "      <td>NaN</td>\n",
       "      <td>Male</td>\n",
       "      <td>Child</td>\n",
       "      <td>None</td>\n",
       "      <td>NaN</td>\n",
       "    </tr>\n",
       "    <tr>\n",
       "      <th>10678</th>\n",
       "      <td>1</td>\n",
       "      <td>Equinox Factory</td>\n",
       "      <td>Sharon</td>\n",
       "      <td>Sutton</td>\n",
       "      <td>63</td>\n",
       "      <td>None</td>\n",
       "      <td>Single</td>\n",
       "      <td>Female</td>\n",
       "      <td>Hospital doctor</td>\n",
       "      <td>None</td>\n",
       "      <td>Methodist</td>\n",
       "    </tr>\n",
       "    <tr>\n",
       "      <th>10679</th>\n",
       "      <td>1</td>\n",
       "      <td>Equinox Factory</td>\n",
       "      <td>Chelsea</td>\n",
       "      <td>McCarthy</td>\n",
       "      <td>26</td>\n",
       "      <td>None</td>\n",
       "      <td>Single</td>\n",
       "      <td>Female</td>\n",
       "      <td>Site engineer</td>\n",
       "      <td>None</td>\n",
       "      <td>Catholic</td>\n",
       "    </tr>\n",
       "    <tr>\n",
       "      <th>10680</th>\n",
       "      <td>1</td>\n",
       "      <td>Equinox Factory</td>\n",
       "      <td>Sam</td>\n",
       "      <td>Francis</td>\n",
       "      <td>25</td>\n",
       "      <td>None</td>\n",
       "      <td>Single</td>\n",
       "      <td>Male</td>\n",
       "      <td>Historic buildings inspector/conservation officer</td>\n",
       "      <td>None</td>\n",
       "      <td>Catholic</td>\n",
       "    </tr>\n",
       "    <tr>\n",
       "      <th>10681</th>\n",
       "      <td>1</td>\n",
       "      <td>Equinox Factory</td>\n",
       "      <td>Lynn</td>\n",
       "      <td>Anderson</td>\n",
       "      <td>56</td>\n",
       "      <td>None</td>\n",
       "      <td>Single</td>\n",
       "      <td>Female</td>\n",
       "      <td>Manufacturing engineer</td>\n",
       "      <td>None</td>\n",
       "      <td>Christian</td>\n",
       "    </tr>\n",
       "  </tbody>\n",
       "</table>\n",
       "<p>766 rows × 11 columns</p>\n",
       "</div>"
      ],
      "text/plain": [
       "       House Number           Street First Name   Surname  Age  \\\n",
       "6                 4      Castor Lane   Victoria      Cook   63   \n",
       "10                6      Castor Lane     Antony   Spencer   35   \n",
       "11                6      Castor Lane     Victor    Wilson   36   \n",
       "12                6      Castor Lane      Conor  Robinson   35   \n",
       "13                6      Castor Lane       Kate     Clark   49   \n",
       "...             ...              ...        ...       ...  ...   \n",
       "10677             1  Equinox Factory      Wayne     Jones    4   \n",
       "10678             1  Equinox Factory     Sharon    Sutton   63   \n",
       "10679             1  Equinox Factory    Chelsea  McCarthy   26   \n",
       "10680             1  Equinox Factory        Sam   Francis   25   \n",
       "10681             1  Equinox Factory       Lynn  Anderson   56   \n",
       "\n",
       "      Relationship to Head of House Marital Status  Gender  \\\n",
       "6                              None         Single  Female   \n",
       "10                             None         Single    Male   \n",
       "11                             None         Single    Male   \n",
       "12                             None         Single    Male   \n",
       "13                             None         Single  Female   \n",
       "...                             ...            ...     ...   \n",
       "10677                          None            NaN    Male   \n",
       "10678                          None         Single  Female   \n",
       "10679                          None         Single  Female   \n",
       "10680                          None         Single    Male   \n",
       "10681                          None         Single  Female   \n",
       "\n",
       "                                              Occupation Infirmity   Religion  \n",
       "6                                           Town planner      None  Christian  \n",
       "10                                            Unemployed      None     Muslim  \n",
       "11                              Technical sales engineer      None   Catholic  \n",
       "12                                          Set designer      None  Methodist  \n",
       "13                                   Landscape architect      None  Christian  \n",
       "...                                                  ...       ...        ...  \n",
       "10677                                              Child      None        NaN  \n",
       "10678                                    Hospital doctor      None  Methodist  \n",
       "10679                                      Site engineer      None   Catholic  \n",
       "10680  Historic buildings inspector/conservation officer      None   Catholic  \n",
       "10681                             Manufacturing engineer      None  Christian  \n",
       "\n",
       "[766 rows x 11 columns]"
      ]
     },
     "execution_count": 110,
     "metadata": {},
     "output_type": "execute_result"
    }
   ],
   "source": [
    "#To find the details of the people attributed as None to the Relationship to the Head of House.\n",
    "census12_df[census12_df['Relationship to Head of House']== 'None']"
   ]
  },
  {
   "cell_type": "markdown",
   "id": "17ba4ded",
   "metadata": {},
   "source": [
    "### From above, we can conclude that the data would not be deleted because the information is much and it can affect the analysis. Also, We cant change the attribute None because there is a big chance that these people are living in the house for a short period of time and there is no valid connection between them and the head of house."
   ]
  },
  {
   "cell_type": "markdown",
   "id": "9e76dc94",
   "metadata": {},
   "source": [
    "### 7. Marital Status"
   ]
  },
  {
   "cell_type": "code",
   "execution_count": 112,
   "id": "08ddeab8",
   "metadata": {},
   "outputs": [
    {
     "data": {
      "text/plain": [
       "array(['Single', 'Married', 'Divorced', nan, 'Widowed'], dtype=object)"
      ]
     },
     "execution_count": 112,
     "metadata": {},
     "output_type": "execute_result"
    }
   ],
   "source": [
    "#get the distinct values or attributes in te Marital Status Column.\n",
    "census12_df['Marital Status'].unique()"
   ]
  },
  {
   "cell_type": "code",
   "execution_count": 113,
   "id": "cd4bd2dc",
   "metadata": {},
   "outputs": [
    {
     "data": {
      "text/plain": [
       "Single      3761\n",
       "Married     3006\n",
       "Divorced     947\n",
       "Widowed      446\n",
       "Name: Marital Status, dtype: int64"
      ]
     },
     "execution_count": 113,
     "metadata": {},
     "output_type": "execute_result"
    }
   ],
   "source": [
    "#to count the numbers of each attributes in Marital Status\n",
    "census12_df['Marital Status'].value_counts()"
   ]
  },
  {
   "cell_type": "code",
   "execution_count": 114,
   "id": "44107d06",
   "metadata": {},
   "outputs": [
    {
     "data": {
      "text/plain": [
       "False    8160\n",
       "True     2594\n",
       "Name: Marital Status, dtype: int64"
      ]
     },
     "execution_count": 114,
     "metadata": {},
     "output_type": "execute_result"
    }
   ],
   "source": [
    "#to get the missing numbers of nan in Marital Status\n",
    "census12_df['Marital Status'].isna().value_counts()"
   ]
  },
  {
   "cell_type": "code",
   "execution_count": 360,
   "id": "28552040",
   "metadata": {},
   "outputs": [
    {
     "data": {
      "text/html": [
       "<div>\n",
       "<style scoped>\n",
       "    .dataframe tbody tr th:only-of-type {\n",
       "        vertical-align: middle;\n",
       "    }\n",
       "\n",
       "    .dataframe tbody tr th {\n",
       "        vertical-align: top;\n",
       "    }\n",
       "\n",
       "    .dataframe thead th {\n",
       "        text-align: right;\n",
       "    }\n",
       "</style>\n",
       "<table border=\"1\" class=\"dataframe\">\n",
       "  <thead>\n",
       "    <tr style=\"text-align: right;\">\n",
       "      <th></th>\n",
       "      <th>House Number</th>\n",
       "      <th>Street</th>\n",
       "      <th>First Name</th>\n",
       "      <th>Surname</th>\n",
       "      <th>Age</th>\n",
       "      <th>Relationship to Head of House</th>\n",
       "      <th>Marital Status</th>\n",
       "      <th>Gender</th>\n",
       "      <th>Occupation</th>\n",
       "      <th>Infirmity</th>\n",
       "      <th>Religion</th>\n",
       "      <th>age_group</th>\n",
       "      <th>employment_category</th>\n",
       "    </tr>\n",
       "  </thead>\n",
       "  <tbody>\n",
       "  </tbody>\n",
       "</table>\n",
       "</div>"
      ],
      "text/plain": [
       "Empty DataFrame\n",
       "Columns: [House Number, Street, First Name, Surname, Age, Relationship to Head of House, Marital Status, Gender, Occupation, Infirmity, Religion, age_group, employment_category]\n",
       "Index: []"
      ]
     },
     "execution_count": 360,
     "metadata": {},
     "output_type": "execute_result"
    }
   ],
   "source": [
    "#to get the number of peolple less than 17 years that are either married, divorced or widowed.\n",
    "census12_df[((census12_df['Age'] < 17) \n",
    "           & (census12_df['Marital Status'].isin(['Married', 'Divorced', 'Widowed'])))]"
   ]
  },
  {
   "cell_type": "code",
   "execution_count": 122,
   "id": "8df634c7",
   "metadata": {},
   "outputs": [
    {
     "data": {
      "text/plain": [
       "array(['Son', 'Granddaughter', 'Daughter', 'Adopted Daughter', 'Nephew',\n",
       "       'Grandson', 'Step-Daughter', 'None'], dtype=object)"
      ]
     },
     "execution_count": 122,
     "metadata": {},
     "output_type": "execute_result"
    }
   ],
   "source": [
    "#get elationship records of people above 18 that are nan\n",
    "census12_df[(census_df['Age'] >= 17) \n",
    "           & (census12_df['Marital Status'].isna())]['Relationship to Head of House'].unique()"
   ]
  },
  {
   "cell_type": "code",
   "execution_count": 123,
   "id": "200a9b49",
   "metadata": {},
   "outputs": [
    {
     "data": {
      "text/plain": [
       "array([17])"
      ]
     },
     "execution_count": 123,
     "metadata": {},
     "output_type": "execute_result"
    }
   ],
   "source": [
    "census12_df[(census12_df['Age'] >= 17) \n",
    "           & (census12_df['Marital Status'].isna())]['Age'].unique()"
   ]
  },
  {
   "cell_type": "code",
   "execution_count": 124,
   "id": "ace94125",
   "metadata": {},
   "outputs": [],
   "source": [
    "marital_status_index_to_replace = census12_df[(census12_df['Age'] >= 17) \n",
    "           & (census12_df['Marital Status'].isna())].index\n",
    "census12_df.loc[marital_status_index_to_replace, 'Marital Status'] = 'Single'"
   ]
  },
  {
   "cell_type": "code",
   "execution_count": 125,
   "id": "dbf7ec3d",
   "metadata": {},
   "outputs": [
    {
     "data": {
      "text/plain": [
       "172"
      ]
     },
     "execution_count": 125,
     "metadata": {},
     "output_type": "execute_result"
    }
   ],
   "source": [
    "len(marital_status_index_to_replace)"
   ]
  },
  {
   "cell_type": "markdown",
   "id": "d90b87da",
   "metadata": {},
   "source": [
    "### 8. Gender"
   ]
  },
  {
   "cell_type": "code",
   "execution_count": 127,
   "id": "e7a661e7",
   "metadata": {},
   "outputs": [
    {
     "data": {
      "text/plain": [
       "array(['Female', 'Male', ' '], dtype=object)"
      ]
     },
     "execution_count": 127,
     "metadata": {},
     "output_type": "execute_result"
    }
   ],
   "source": [
    "#get the distinct values or attributes in the Gender Column.\n",
    "census12_df['Gender'].unique()"
   ]
  },
  {
   "cell_type": "code",
   "execution_count": 128,
   "id": "3850df4e",
   "metadata": {},
   "outputs": [
    {
     "data": {
      "text/plain": [
       "Female    5637\n",
       "Male      5114\n",
       "             3\n",
       "Name: Gender, dtype: int64"
      ]
     },
     "execution_count": 128,
     "metadata": {},
     "output_type": "execute_result"
    }
   ],
   "source": [
    "census12_df['Gender'].value_counts()"
   ]
  },
  {
   "cell_type": "code",
   "execution_count": 129,
   "id": "b1a1eb24",
   "metadata": {},
   "outputs": [
    {
     "data": {
      "text/html": [
       "<div>\n",
       "<style scoped>\n",
       "    .dataframe tbody tr th:only-of-type {\n",
       "        vertical-align: middle;\n",
       "    }\n",
       "\n",
       "    .dataframe tbody tr th {\n",
       "        vertical-align: top;\n",
       "    }\n",
       "\n",
       "    .dataframe thead th {\n",
       "        text-align: right;\n",
       "    }\n",
       "</style>\n",
       "<table border=\"1\" class=\"dataframe\">\n",
       "  <thead>\n",
       "    <tr style=\"text-align: right;\">\n",
       "      <th></th>\n",
       "      <th>House Number</th>\n",
       "      <th>Street</th>\n",
       "      <th>First Name</th>\n",
       "      <th>Surname</th>\n",
       "      <th>Age</th>\n",
       "      <th>Relationship to Head of House</th>\n",
       "      <th>Marital Status</th>\n",
       "      <th>Gender</th>\n",
       "      <th>Occupation</th>\n",
       "      <th>Infirmity</th>\n",
       "      <th>Religion</th>\n",
       "    </tr>\n",
       "  </thead>\n",
       "  <tbody>\n",
       "    <tr>\n",
       "      <th>2572</th>\n",
       "      <td>7</td>\n",
       "      <td>Junerush Crescent</td>\n",
       "      <td>Mathew</td>\n",
       "      <td>Palmer</td>\n",
       "      <td>28</td>\n",
       "      <td>Son</td>\n",
       "      <td>Single</td>\n",
       "      <td></td>\n",
       "      <td>Health and safety adviser</td>\n",
       "      <td>None</td>\n",
       "      <td>Catholic</td>\n",
       "    </tr>\n",
       "    <tr>\n",
       "      <th>2884</th>\n",
       "      <td>52</td>\n",
       "      <td>Junerush Crescent</td>\n",
       "      <td>Tom</td>\n",
       "      <td>Scott</td>\n",
       "      <td>14</td>\n",
       "      <td>Son</td>\n",
       "      <td>NaN</td>\n",
       "      <td></td>\n",
       "      <td>Student</td>\n",
       "      <td>None</td>\n",
       "      <td>NaN</td>\n",
       "    </tr>\n",
       "    <tr>\n",
       "      <th>7350</th>\n",
       "      <td>40</td>\n",
       "      <td>Newcastle Lane</td>\n",
       "      <td>Carole</td>\n",
       "      <td>Fletcher</td>\n",
       "      <td>12</td>\n",
       "      <td>Daughter</td>\n",
       "      <td>NaN</td>\n",
       "      <td></td>\n",
       "      <td>Student</td>\n",
       "      <td>None</td>\n",
       "      <td>NaN</td>\n",
       "    </tr>\n",
       "  </tbody>\n",
       "</table>\n",
       "</div>"
      ],
      "text/plain": [
       "      House Number             Street First Name   Surname  Age  \\\n",
       "2572             7  Junerush Crescent     Mathew    Palmer   28   \n",
       "2884            52  Junerush Crescent        Tom     Scott   14   \n",
       "7350            40     Newcastle Lane     Carole  Fletcher   12   \n",
       "\n",
       "     Relationship to Head of House Marital Status Gender  \\\n",
       "2572                           Son         Single          \n",
       "2884                           Son            NaN          \n",
       "7350                      Daughter            NaN          \n",
       "\n",
       "                     Occupation Infirmity  Religion  \n",
       "2572  Health and safety adviser      None  Catholic  \n",
       "2884                    Student      None       NaN  \n",
       "7350                    Student      None       NaN  "
      ]
     },
     "execution_count": 129,
     "metadata": {},
     "output_type": "execute_result"
    }
   ],
   "source": [
    "#get the details of the gender with the blank colimn\n",
    "census12_df[census12_df['Gender'] == ' ']"
   ]
  },
  {
   "cell_type": "code",
   "execution_count": 130,
   "id": "d2495124",
   "metadata": {},
   "outputs": [],
   "source": [
    "#replace the blank gender space with an appropriate gender value based on the relationship to head of house.\n",
    "census12_df.at[2572, 'Gender'] = 'Male'"
   ]
  },
  {
   "cell_type": "code",
   "execution_count": 131,
   "id": "cb6dbcd9",
   "metadata": {},
   "outputs": [],
   "source": [
    "#replace the blank gender space with an appropriate gender value based on the relationship to head of house.\n",
    "census12_df.at[2884, 'Gender'] = 'Male'"
   ]
  },
  {
   "cell_type": "code",
   "execution_count": 132,
   "id": "c4464475",
   "metadata": {},
   "outputs": [],
   "source": [
    "#replace the blank gender space with an appropriate gender value based on the relationship to head of house.\n",
    "census12_df.at[7350, 'Gender'] = 'Female'"
   ]
  },
  {
   "cell_type": "code",
   "execution_count": 135,
   "id": "ac355b5a",
   "metadata": {},
   "outputs": [
    {
     "data": {
      "text/html": [
       "<div>\n",
       "<style scoped>\n",
       "    .dataframe tbody tr th:only-of-type {\n",
       "        vertical-align: middle;\n",
       "    }\n",
       "\n",
       "    .dataframe tbody tr th {\n",
       "        vertical-align: top;\n",
       "    }\n",
       "\n",
       "    .dataframe thead th {\n",
       "        text-align: right;\n",
       "    }\n",
       "</style>\n",
       "<table border=\"1\" class=\"dataframe\">\n",
       "  <thead>\n",
       "    <tr style=\"text-align: right;\">\n",
       "      <th></th>\n",
       "      <th>House Number</th>\n",
       "      <th>Street</th>\n",
       "      <th>First Name</th>\n",
       "      <th>Surname</th>\n",
       "      <th>Age</th>\n",
       "      <th>Relationship to Head of House</th>\n",
       "      <th>Marital Status</th>\n",
       "      <th>Gender</th>\n",
       "      <th>Occupation</th>\n",
       "      <th>Infirmity</th>\n",
       "      <th>Religion</th>\n",
       "    </tr>\n",
       "  </thead>\n",
       "  <tbody>\n",
       "  </tbody>\n",
       "</table>\n",
       "</div>"
      ],
      "text/plain": [
       "Empty DataFrame\n",
       "Columns: [House Number, Street, First Name, Surname, Age, Relationship to Head of House, Marital Status, Gender, Occupation, Infirmity, Religion]\n",
       "Index: []"
      ]
     },
     "execution_count": 135,
     "metadata": {},
     "output_type": "execute_result"
    }
   ],
   "source": [
    "census12_df[((census12_df['Gender'] == 'Female') & \n",
    "           (census12_df['Relationship to Head of House'].isin(['Husband','Son', 'Grandson', 'Adopted Son', 'Step-Son',\n",
    "                                                           'Son-in-law', 'Nephew'])))]"
   ]
  },
  {
   "cell_type": "code",
   "execution_count": 136,
   "id": "6b0f07d5",
   "metadata": {},
   "outputs": [
    {
     "data": {
      "text/html": [
       "<div>\n",
       "<style scoped>\n",
       "    .dataframe tbody tr th:only-of-type {\n",
       "        vertical-align: middle;\n",
       "    }\n",
       "\n",
       "    .dataframe tbody tr th {\n",
       "        vertical-align: top;\n",
       "    }\n",
       "\n",
       "    .dataframe thead th {\n",
       "        text-align: right;\n",
       "    }\n",
       "</style>\n",
       "<table border=\"1\" class=\"dataframe\">\n",
       "  <thead>\n",
       "    <tr style=\"text-align: right;\">\n",
       "      <th></th>\n",
       "      <th>House Number</th>\n",
       "      <th>Street</th>\n",
       "      <th>First Name</th>\n",
       "      <th>Surname</th>\n",
       "      <th>Age</th>\n",
       "      <th>Relationship to Head of House</th>\n",
       "      <th>Marital Status</th>\n",
       "      <th>Gender</th>\n",
       "      <th>Occupation</th>\n",
       "      <th>Infirmity</th>\n",
       "      <th>Religion</th>\n",
       "    </tr>\n",
       "  </thead>\n",
       "  <tbody>\n",
       "  </tbody>\n",
       "</table>\n",
       "</div>"
      ],
      "text/plain": [
       "Empty DataFrame\n",
       "Columns: [House Number, Street, First Name, Surname, Age, Relationship to Head of House, Marital Status, Gender, Occupation, Infirmity, Religion]\n",
       "Index: []"
      ]
     },
     "execution_count": 136,
     "metadata": {},
     "output_type": "execute_result"
    }
   ],
   "source": [
    "census12_df[((census12_df['Gender'] == 'Male') & \n",
    "           (census12_df['Relationship to Head of House'].isin(['Daughter','Wife', 'Granddaughter', 'Adopted Daughter',\n",
    "                                                             'Step-Daughter', 'Neice'])))]"
   ]
  },
  {
   "cell_type": "markdown",
   "id": "0e3e44fb",
   "metadata": {},
   "source": [
    "### 9. Occupation "
   ]
  },
  {
   "cell_type": "code",
   "execution_count": 144,
   "id": "f237151d",
   "metadata": {},
   "outputs": [
    {
     "data": {
      "text/html": [
       "<div>\n",
       "<style scoped>\n",
       "    .dataframe tbody tr th:only-of-type {\n",
       "        vertical-align: middle;\n",
       "    }\n",
       "\n",
       "    .dataframe tbody tr th {\n",
       "        vertical-align: top;\n",
       "    }\n",
       "\n",
       "    .dataframe thead th {\n",
       "        text-align: right;\n",
       "    }\n",
       "</style>\n",
       "<table border=\"1\" class=\"dataframe\">\n",
       "  <thead>\n",
       "    <tr style=\"text-align: right;\">\n",
       "      <th></th>\n",
       "      <th>House Number</th>\n",
       "      <th>Street</th>\n",
       "      <th>First Name</th>\n",
       "      <th>Surname</th>\n",
       "      <th>Age</th>\n",
       "      <th>Relationship to Head of House</th>\n",
       "      <th>Marital Status</th>\n",
       "      <th>Gender</th>\n",
       "      <th>Occupation</th>\n",
       "      <th>Infirmity</th>\n",
       "      <th>Religion</th>\n",
       "    </tr>\n",
       "  </thead>\n",
       "  <tbody>\n",
       "  </tbody>\n",
       "</table>\n",
       "</div>"
      ],
      "text/plain": [
       "Empty DataFrame\n",
       "Columns: [House Number, Street, First Name, Surname, Age, Relationship to Head of House, Marital Status, Gender, Occupation, Infirmity, Religion]\n",
       "Index: []"
      ]
     },
     "execution_count": 144,
     "metadata": {},
     "output_type": "execute_result"
    }
   ],
   "source": [
    "census12_df[(census12_df['Age'] <= 4) & (census12_df['Occupation'] != 'Child')]"
   ]
  },
  {
   "cell_type": "code",
   "execution_count": 143,
   "id": "6e8418a1",
   "metadata": {},
   "outputs": [
    {
     "data": {
      "text/plain": [
       "False    10753\n",
       "True         1\n",
       "Name: Occupation, dtype: int64"
      ]
     },
     "execution_count": 143,
     "metadata": {},
     "output_type": "execute_result"
    }
   ],
   "source": [
    "census12_df['Occupation'].str.match(r'\\s').value_counts()"
   ]
  },
  {
   "cell_type": "code",
   "execution_count": 145,
   "id": "6042f94f",
   "metadata": {},
   "outputs": [
    {
     "data": {
      "text/html": [
       "<div>\n",
       "<style scoped>\n",
       "    .dataframe tbody tr th:only-of-type {\n",
       "        vertical-align: middle;\n",
       "    }\n",
       "\n",
       "    .dataframe tbody tr th {\n",
       "        vertical-align: top;\n",
       "    }\n",
       "\n",
       "    .dataframe thead th {\n",
       "        text-align: right;\n",
       "    }\n",
       "</style>\n",
       "<table border=\"1\" class=\"dataframe\">\n",
       "  <thead>\n",
       "    <tr style=\"text-align: right;\">\n",
       "      <th></th>\n",
       "      <th>House Number</th>\n",
       "      <th>Street</th>\n",
       "      <th>First Name</th>\n",
       "      <th>Surname</th>\n",
       "      <th>Age</th>\n",
       "      <th>Relationship to Head of House</th>\n",
       "      <th>Marital Status</th>\n",
       "      <th>Gender</th>\n",
       "      <th>Occupation</th>\n",
       "      <th>Infirmity</th>\n",
       "      <th>Religion</th>\n",
       "    </tr>\n",
       "  </thead>\n",
       "  <tbody>\n",
       "    <tr>\n",
       "      <th>4085</th>\n",
       "      <td>30</td>\n",
       "      <td>Field Extension</td>\n",
       "      <td>Paula</td>\n",
       "      <td>Fletcher</td>\n",
       "      <td>63</td>\n",
       "      <td>Head</td>\n",
       "      <td>Single</td>\n",
       "      <td>Female</td>\n",
       "      <td></td>\n",
       "      <td>None</td>\n",
       "      <td>Christian</td>\n",
       "    </tr>\n",
       "  </tbody>\n",
       "</table>\n",
       "</div>"
      ],
      "text/plain": [
       "      House Number           Street First Name   Surname  Age  \\\n",
       "4085            30  Field Extension      Paula  Fletcher   63   \n",
       "\n",
       "     Relationship to Head of House Marital Status  Gender Occupation  \\\n",
       "4085                          Head         Single  Female              \n",
       "\n",
       "     Infirmity   Religion  \n",
       "4085      None  Christian  "
      ]
     },
     "execution_count": 145,
     "metadata": {},
     "output_type": "execute_result"
    }
   ],
   "source": [
    "census12_df[census12_df['Occupation']== ' ']"
   ]
  },
  {
   "cell_type": "code",
   "execution_count": 146,
   "id": "4979dc27",
   "metadata": {},
   "outputs": [
    {
     "data": {
      "text/html": [
       "<div>\n",
       "<style scoped>\n",
       "    .dataframe tbody tr th:only-of-type {\n",
       "        vertical-align: middle;\n",
       "    }\n",
       "\n",
       "    .dataframe tbody tr th {\n",
       "        vertical-align: top;\n",
       "    }\n",
       "\n",
       "    .dataframe thead th {\n",
       "        text-align: right;\n",
       "    }\n",
       "</style>\n",
       "<table border=\"1\" class=\"dataframe\">\n",
       "  <thead>\n",
       "    <tr style=\"text-align: right;\">\n",
       "      <th></th>\n",
       "      <th>House Number</th>\n",
       "      <th>Street</th>\n",
       "      <th>First Name</th>\n",
       "      <th>Surname</th>\n",
       "      <th>Age</th>\n",
       "      <th>Relationship to Head of House</th>\n",
       "      <th>Marital Status</th>\n",
       "      <th>Gender</th>\n",
       "      <th>Occupation</th>\n",
       "      <th>Infirmity</th>\n",
       "      <th>Religion</th>\n",
       "    </tr>\n",
       "  </thead>\n",
       "  <tbody>\n",
       "    <tr>\n",
       "      <th>4082</th>\n",
       "      <td>29</td>\n",
       "      <td>Field Extension</td>\n",
       "      <td>Irene</td>\n",
       "      <td>Smith</td>\n",
       "      <td>39</td>\n",
       "      <td>Head</td>\n",
       "      <td>Married</td>\n",
       "      <td>Female</td>\n",
       "      <td>Advertising account planner</td>\n",
       "      <td>None</td>\n",
       "      <td>Catholic</td>\n",
       "    </tr>\n",
       "    <tr>\n",
       "      <th>4083</th>\n",
       "      <td>29</td>\n",
       "      <td>Field Extension</td>\n",
       "      <td>Jason</td>\n",
       "      <td>Smith</td>\n",
       "      <td>44</td>\n",
       "      <td>Husband</td>\n",
       "      <td>Married</td>\n",
       "      <td>Male</td>\n",
       "      <td>Surveyor, land/geomatics</td>\n",
       "      <td>None</td>\n",
       "      <td>Catholic</td>\n",
       "    </tr>\n",
       "    <tr>\n",
       "      <th>4084</th>\n",
       "      <td>29</td>\n",
       "      <td>Field Extension</td>\n",
       "      <td>Paul</td>\n",
       "      <td>Smith</td>\n",
       "      <td>6</td>\n",
       "      <td>Son</td>\n",
       "      <td>NaN</td>\n",
       "      <td>Male</td>\n",
       "      <td>Student</td>\n",
       "      <td>None</td>\n",
       "      <td>NaN</td>\n",
       "    </tr>\n",
       "    <tr>\n",
       "      <th>4085</th>\n",
       "      <td>30</td>\n",
       "      <td>Field Extension</td>\n",
       "      <td>Paula</td>\n",
       "      <td>Fletcher</td>\n",
       "      <td>63</td>\n",
       "      <td>Head</td>\n",
       "      <td>Single</td>\n",
       "      <td>Female</td>\n",
       "      <td></td>\n",
       "      <td>None</td>\n",
       "      <td>Christian</td>\n",
       "    </tr>\n",
       "    <tr>\n",
       "      <th>4086</th>\n",
       "      <td>30</td>\n",
       "      <td>Field Extension</td>\n",
       "      <td>Abdul</td>\n",
       "      <td>Bond</td>\n",
       "      <td>44</td>\n",
       "      <td>None</td>\n",
       "      <td>Single</td>\n",
       "      <td>Male</td>\n",
       "      <td>Engineer, chemical</td>\n",
       "      <td>None</td>\n",
       "      <td>None</td>\n",
       "    </tr>\n",
       "  </tbody>\n",
       "</table>\n",
       "</div>"
      ],
      "text/plain": [
       "      House Number           Street First Name   Surname  Age  \\\n",
       "4082            29  Field Extension      Irene     Smith   39   \n",
       "4083            29  Field Extension      Jason     Smith   44   \n",
       "4084            29  Field Extension       Paul     Smith    6   \n",
       "4085            30  Field Extension      Paula  Fletcher   63   \n",
       "4086            30  Field Extension      Abdul      Bond   44   \n",
       "\n",
       "     Relationship to Head of House Marital Status  Gender  \\\n",
       "4082                          Head        Married  Female   \n",
       "4083                       Husband        Married    Male   \n",
       "4084                           Son            NaN    Male   \n",
       "4085                          Head         Single  Female   \n",
       "4086                          None         Single    Male   \n",
       "\n",
       "                       Occupation Infirmity   Religion  \n",
       "4082  Advertising account planner      None   Catholic  \n",
       "4083     Surveyor, land/geomatics      None   Catholic  \n",
       "4084                      Student      None        NaN  \n",
       "4085                                   None  Christian  \n",
       "4086           Engineer, chemical      None       None  "
      ]
     },
     "execution_count": 146,
     "metadata": {},
     "output_type": "execute_result"
    }
   ],
   "source": [
    "census12_df[4082:4087]"
   ]
  },
  {
   "cell_type": "code",
   "execution_count": 147,
   "id": "dad7df84",
   "metadata": {},
   "outputs": [],
   "source": [
    "census12_df.at[4085, 'Occupation'] = 'Unemployed'"
   ]
  },
  {
   "cell_type": "code",
   "execution_count": 148,
   "id": "e845d13d",
   "metadata": {},
   "outputs": [
    {
     "data": {
      "text/plain": [
       "False"
      ]
     },
     "execution_count": 148,
     "metadata": {},
     "output_type": "execute_result"
    }
   ],
   "source": [
    "census12_df['Occupation'].isna().any()"
   ]
  },
  {
   "cell_type": "code",
   "execution_count": 149,
   "id": "d76d2e69",
   "metadata": {},
   "outputs": [
    {
     "data": {
      "text/html": [
       "<div>\n",
       "<style scoped>\n",
       "    .dataframe tbody tr th:only-of-type {\n",
       "        vertical-align: middle;\n",
       "    }\n",
       "\n",
       "    .dataframe tbody tr th {\n",
       "        vertical-align: top;\n",
       "    }\n",
       "\n",
       "    .dataframe thead th {\n",
       "        text-align: right;\n",
       "    }\n",
       "</style>\n",
       "<table border=\"1\" class=\"dataframe\">\n",
       "  <thead>\n",
       "    <tr style=\"text-align: right;\">\n",
       "      <th></th>\n",
       "      <th>First Name</th>\n",
       "      <th>Surname</th>\n",
       "      <th>Occupation</th>\n",
       "    </tr>\n",
       "  </thead>\n",
       "  <tbody>\n",
       "    <tr>\n",
       "      <th>4082</th>\n",
       "      <td>Irene</td>\n",
       "      <td>Smith</td>\n",
       "      <td>Advertising account planner</td>\n",
       "    </tr>\n",
       "    <tr>\n",
       "      <th>4083</th>\n",
       "      <td>Jason</td>\n",
       "      <td>Smith</td>\n",
       "      <td>Surveyor, land/geomatics</td>\n",
       "    </tr>\n",
       "    <tr>\n",
       "      <th>4084</th>\n",
       "      <td>Paul</td>\n",
       "      <td>Smith</td>\n",
       "      <td>Student</td>\n",
       "    </tr>\n",
       "    <tr>\n",
       "      <th>4085</th>\n",
       "      <td>Paula</td>\n",
       "      <td>Fletcher</td>\n",
       "      <td>Unemployed</td>\n",
       "    </tr>\n",
       "  </tbody>\n",
       "</table>\n",
       "</div>"
      ],
      "text/plain": [
       "     First Name   Surname                   Occupation\n",
       "4082      Irene     Smith  Advertising account planner\n",
       "4083      Jason     Smith     Surveyor, land/geomatics\n",
       "4084       Paul     Smith                      Student\n",
       "4085      Paula  Fletcher                   Unemployed"
      ]
     },
     "execution_count": 149,
     "metadata": {},
     "output_type": "execute_result"
    }
   ],
   "source": [
    "census12_df[['First Name', 'Surname', 'Occupation']].iloc[4082:4086]"
   ]
  },
  {
   "cell_type": "code",
   "execution_count": 151,
   "id": "2a02b031",
   "metadata": {},
   "outputs": [],
   "source": [
    "#to replace occupation of people that are above 68 and umployed with retired because it so possible they are not seeking for employment anymore\n",
    "occupation_indx = census12_df[(census12_df['Age'] >= 68) & (census12_df['Occupation'] == 'Unemployed')].index"
   ]
  },
  {
   "cell_type": "code",
   "execution_count": 152,
   "id": "76fe8094",
   "metadata": {},
   "outputs": [],
   "source": [
    "census12_df.loc[occupation_indx, 'Occupation'] = 'Retired'"
   ]
  },
  {
   "cell_type": "code",
   "execution_count": 153,
   "id": "5ed08a49",
   "metadata": {},
   "outputs": [
    {
     "data": {
      "text/plain": [
       "False    10754\n",
       "Name: Occupation, dtype: int64"
      ]
     },
     "execution_count": 153,
     "metadata": {},
     "output_type": "execute_result"
    }
   ],
   "source": [
    "census12_df['Occupation'].isna().value_counts()"
   ]
  },
  {
   "cell_type": "code",
   "execution_count": 174,
   "id": "8e0b4f50",
   "metadata": {},
   "outputs": [
    {
     "data": {
      "text/plain": [
       "1132"
      ]
     },
     "execution_count": 174,
     "metadata": {},
     "output_type": "execute_result"
    }
   ],
   "source": [
    "len(census12_df['Occupation'].unique())"
   ]
  },
  {
   "cell_type": "code",
   "execution_count": 175,
   "id": "362541ed",
   "metadata": {},
   "outputs": [],
   "source": [
    "occupation = (census12_df['Occupation'].unique())"
   ]
  },
  {
   "cell_type": "code",
   "execution_count": 176,
   "id": "7ab95105",
   "metadata": {},
   "outputs": [],
   "source": [
    "commuters_occupation = []\n",
    "non_commuters_occupation = []\n",
    "import re\n",
    "for value in list(occupation):\n",
    "    if (bool(re.match(r'.*retired.*', value.lower()))):\n",
    "        non_commuters_occupation.append(value)\n",
    "    elif value.lower() in ['student', 'child', 'unemployed']:\n",
    "        non_commuters_occupation.append(value)\n",
    "    elif (bool(re.match(r'.*(teacher|community).*',value.lower()))):\n",
    "        non_commuters_occupation.append(value)\n",
    "    else:\n",
    "        commuters_occupation.append(value)"
   ]
  },
  {
   "cell_type": "code",
   "execution_count": 177,
   "id": "c793d91a",
   "metadata": {},
   "outputs": [
    {
     "data": {
      "text/plain": [
       "619"
      ]
     },
     "execution_count": 177,
     "metadata": {},
     "output_type": "execute_result"
    }
   ],
   "source": [
    "len(commuters_occupation)"
   ]
  },
  {
   "cell_type": "code",
   "execution_count": 178,
   "id": "64565598",
   "metadata": {},
   "outputs": [
    {
     "data": {
      "text/plain": [
       "513"
      ]
     },
     "execution_count": 178,
     "metadata": {},
     "output_type": "execute_result"
    }
   ],
   "source": [
    "len(non_commuters_occupation)"
   ]
  },
  {
   "cell_type": "code",
   "execution_count": 179,
   "id": "e0869d73",
   "metadata": {},
   "outputs": [
    {
     "name": "stdout",
     "output_type": "stream",
     "text": [
      "Number of commuters in the population is 6271\n",
      "Number of non-commuters in the population is 4483\n"
     ]
    }
   ],
   "source": [
    "commuters_length = len(census12_df[census12_df['Occupation'].isin(commuters_occupation)])\n",
    "non_commuters_length = len(census12_df[census12_df['Occupation'].isin(non_commuters_occupation)])\n",
    "print(\"Number of commuters in the population is\", commuters_length)\n",
    "print(\"Number of non-commuters in the population is\", non_commuters_length)"
   ]
  },
  {
   "cell_type": "markdown",
   "id": "7d61fe1a",
   "metadata": {},
   "source": [
    "### 10. Infirmity "
   ]
  },
  {
   "cell_type": "code",
   "execution_count": 154,
   "id": "f5418391",
   "metadata": {},
   "outputs": [
    {
     "data": {
      "text/plain": [
       "None                   10657\n",
       "Physical Disability       23\n",
       "Blind                     19\n",
       "Deaf                      14\n",
       "                          12\n",
       "Mental Disability         11\n",
       "Disabled                   9\n",
       "Unknown Infection          9\n",
       "Name: Infirmity, dtype: int64"
      ]
     },
     "execution_count": 154,
     "metadata": {},
     "output_type": "execute_result"
    }
   ],
   "source": [
    "census12_df['Infirmity'].value_counts()"
   ]
  },
  {
   "cell_type": "code",
   "execution_count": 155,
   "id": "0899d64b",
   "metadata": {},
   "outputs": [],
   "source": [
    "#lets replace blank spaces with None \n",
    "empty_indexes = census_df[census_df['Infirmity'] == ' '].index\n",
    "census12_df.loc[empty_indexes, 'Infirmity'] = 'None'"
   ]
  },
  {
   "cell_type": "code",
   "execution_count": 156,
   "id": "f3994f24",
   "metadata": {},
   "outputs": [
    {
     "data": {
      "text/plain": [
       "None                   10669\n",
       "Physical Disability       23\n",
       "Blind                     19\n",
       "Deaf                      14\n",
       "Mental Disability         11\n",
       "Disabled                   9\n",
       "Unknown Infection          9\n",
       "Name: Infirmity, dtype: int64"
      ]
     },
     "execution_count": 156,
     "metadata": {},
     "output_type": "execute_result"
    }
   ],
   "source": [
    "census12_df['Infirmity'].value_counts()"
   ]
  },
  {
   "cell_type": "markdown",
   "id": "a1205d2d",
   "metadata": {},
   "source": [
    "### 11. Religion "
   ]
  },
  {
   "cell_type": "code",
   "execution_count": 157,
   "id": "fa82c92a",
   "metadata": {},
   "outputs": [
    {
     "data": {
      "text/plain": [
       "array(['Catholic', 'Methodist', 'None', 'Christian', nan, 'Muslim',\n",
       "       'Sikh', 'Orthodoxy', 'Sith', 'Jewish', 'Quaker', 'Bahai',\n",
       "       'Baptist', 'Hindu'], dtype=object)"
      ]
     },
     "execution_count": 157,
     "metadata": {},
     "output_type": "execute_result"
    }
   ],
   "source": [
    "census12_df['Religion'].unique()"
   ]
  },
  {
   "cell_type": "code",
   "execution_count": 158,
   "id": "65fa7d2d",
   "metadata": {},
   "outputs": [
    {
     "data": {
      "text/plain": [
       "None         3692\n",
       "Christian    2297\n",
       "Catholic     1112\n",
       "Methodist     734\n",
       "Muslim        149\n",
       "Sikh           72\n",
       "Jewish         40\n",
       "Orthodoxy       4\n",
       "Sith            2\n",
       "Quaker          2\n",
       "Bahai           2\n",
       "Baptist         1\n",
       "Hindu           1\n",
       "Name: Religion, dtype: int64"
      ]
     },
     "execution_count": 158,
     "metadata": {},
     "output_type": "execute_result"
    }
   ],
   "source": [
    "census12_df['Religion'].value_counts()"
   ]
  },
  {
   "cell_type": "code",
   "execution_count": 228,
   "id": "7abfa90e",
   "metadata": {},
   "outputs": [
    {
     "data": {
      "text/plain": [
       "Series([], Name: Religion, dtype: int64)"
      ]
     },
     "execution_count": 228,
     "metadata": {},
     "output_type": "execute_result"
    }
   ],
   "source": [
    "census12_df[((census12_df['Religion'].isna()) & (census12_df['Age'] <= 16))]['Religion'].value_counts()"
   ]
  },
  {
   "cell_type": "code",
   "execution_count": 164,
   "id": "f9544d78",
   "metadata": {},
   "outputs": [
    {
     "data": {
      "text/html": [
       "<div>\n",
       "<style scoped>\n",
       "    .dataframe tbody tr th:only-of-type {\n",
       "        vertical-align: middle;\n",
       "    }\n",
       "\n",
       "    .dataframe tbody tr th {\n",
       "        vertical-align: top;\n",
       "    }\n",
       "\n",
       "    .dataframe thead th {\n",
       "        text-align: right;\n",
       "    }\n",
       "</style>\n",
       "<table border=\"1\" class=\"dataframe\">\n",
       "  <thead>\n",
       "    <tr style=\"text-align: right;\">\n",
       "      <th></th>\n",
       "      <th>House Number</th>\n",
       "      <th>Street</th>\n",
       "      <th>First Name</th>\n",
       "      <th>Surname</th>\n",
       "      <th>Age</th>\n",
       "      <th>Relationship to Head of House</th>\n",
       "      <th>Marital Status</th>\n",
       "      <th>Gender</th>\n",
       "      <th>Occupation</th>\n",
       "      <th>Infirmity</th>\n",
       "      <th>Religion</th>\n",
       "    </tr>\n",
       "  </thead>\n",
       "  <tbody>\n",
       "    <tr>\n",
       "      <th>748</th>\n",
       "      <td>3</td>\n",
       "      <td>Hangar Crescent</td>\n",
       "      <td>Christine</td>\n",
       "      <td>Roberts</td>\n",
       "      <td>20</td>\n",
       "      <td>Head</td>\n",
       "      <td>Single</td>\n",
       "      <td>Female</td>\n",
       "      <td>University Student</td>\n",
       "      <td>None</td>\n",
       "      <td>Sith</td>\n",
       "    </tr>\n",
       "    <tr>\n",
       "      <th>9925</th>\n",
       "      <td>10</td>\n",
       "      <td>Lowe Terrace</td>\n",
       "      <td>Scott</td>\n",
       "      <td>Brown</td>\n",
       "      <td>70</td>\n",
       "      <td>Head</td>\n",
       "      <td>Divorced</td>\n",
       "      <td>Male</td>\n",
       "      <td>Retired Proofreader</td>\n",
       "      <td>None</td>\n",
       "      <td>Sith</td>\n",
       "    </tr>\n",
       "  </tbody>\n",
       "</table>\n",
       "</div>"
      ],
      "text/plain": [
       "      House Number           Street First Name  Surname  Age  \\\n",
       "748              3  Hangar Crescent  Christine  Roberts   20   \n",
       "9925            10     Lowe Terrace      Scott    Brown   70   \n",
       "\n",
       "     Relationship to Head of House Marital Status  Gender  \\\n",
       "748                           Head         Single  Female   \n",
       "9925                          Head       Divorced    Male   \n",
       "\n",
       "               Occupation Infirmity Religion  \n",
       "748    University Student      None     Sith  \n",
       "9925  Retired Proofreader      None     Sith  "
      ]
     },
     "execution_count": 164,
     "metadata": {},
     "output_type": "execute_result"
    }
   ],
   "source": [
    "census12_df[census_df['Religion'].isin(['Sith'])]"
   ]
  },
  {
   "cell_type": "code",
   "execution_count": 168,
   "id": "8ddc7cfd",
   "metadata": {},
   "outputs": [],
   "source": [
    "#replace with NA if it is a child\n",
    "census12_df.at[748,'Religion'] = np.NaN"
   ]
  },
  {
   "cell_type": "code",
   "execution_count": 169,
   "id": "530b697b",
   "metadata": {},
   "outputs": [],
   "source": [
    "census12_df['Religion'].replace(['Sith'], value='None', inplace=True)"
   ]
  },
  {
   "cell_type": "code",
   "execution_count": 170,
   "id": "f4e0f379",
   "metadata": {},
   "outputs": [],
   "source": [
    "#replace with NA if it is a child\n",
    "census12_df.at[9925,'Religion'] = np.NaN"
   ]
  },
  {
   "cell_type": "code",
   "execution_count": 171,
   "id": "4ab59291",
   "metadata": {},
   "outputs": [],
   "source": [
    "census12_df['Religion'].replace(['Sith'], value='None', inplace=True)"
   ]
  },
  {
   "cell_type": "code",
   "execution_count": 172,
   "id": "1c1ef7f4",
   "metadata": {},
   "outputs": [
    {
     "data": {
      "text/plain": [
       "None         3692\n",
       "Christian    2297\n",
       "Catholic     1112\n",
       "Methodist     734\n",
       "Muslim        149\n",
       "Sikh           72\n",
       "Jewish         40\n",
       "Orthodoxy       4\n",
       "Quaker          2\n",
       "Bahai           2\n",
       "Baptist         1\n",
       "Hindu           1\n",
       "Name: Religion, dtype: int64"
      ]
     },
     "execution_count": 172,
     "metadata": {},
     "output_type": "execute_result"
    }
   ],
   "source": [
    "census12_df['Religion'].value_counts()"
   ]
  },
  {
   "cell_type": "code",
   "execution_count": null,
   "id": "184d8519",
   "metadata": {},
   "outputs": [],
   "source": []
  },
  {
   "cell_type": "code",
   "execution_count": null,
   "id": "a8ec1500",
   "metadata": {},
   "outputs": [],
   "source": []
  },
  {
   "cell_type": "markdown",
   "id": "bd118df1",
   "metadata": {},
   "source": [
    "### Post Data Cleaning"
   ]
  },
  {
   "cell_type": "markdown",
   "id": "30d757a9",
   "metadata": {},
   "source": [
    "# Task B: Data Visualization"
   ]
  },
  {
   "cell_type": "code",
   "execution_count": 193,
   "id": "0e6b5039",
   "metadata": {},
   "outputs": [
    {
     "data": {
      "text/plain": [
       "104"
      ]
     },
     "execution_count": 193,
     "metadata": {},
     "output_type": "execute_result"
    }
   ],
   "source": [
    "census12_df['Age'].max()"
   ]
  },
  {
   "cell_type": "code",
   "execution_count": 194,
   "id": "4beba86e",
   "metadata": {},
   "outputs": [
    {
     "data": {
      "text/plain": [
       "<Axes: xlabel='Age'>"
      ]
     },
     "execution_count": 194,
     "metadata": {},
     "output_type": "execute_result"
    },
    {
     "data": {
      "image/png": "[encoded data removed]",
      "text/plain": [
       "<Figure size 600x800 with 1 Axes>"
      ]
     },
     "metadata": {},
     "output_type": "display_data"
    }
   ],
   "source": [
    "#get the boxplot for Age\n",
    "plt.figure(figsize=(6,8))\n",
    "sbn.boxplot(data=census12_df, x='Age')"
   ]
  },
  {
   "cell_type": "markdown",
   "id": "81ef9d9f",
   "metadata": {},
   "source": [
    "### Fig 1: Age Boxplot"
   ]
  },
  {
   "cell_type": "code",
   "execution_count": 195,
   "id": "31c7b991",
   "metadata": {},
   "outputs": [
    {
     "data": {
      "text/plain": [
       "<seaborn.axisgrid.FacetGrid at 0x1c6642322d0>"
      ]
     },
     "execution_count": 195,
     "metadata": {},
     "output_type": "execute_result"
    },
    {
     "data": {
      "image/png": "[encoded data removed]",
      "text/plain": [
       "<Figure size 940.25x600 with 1 Axes>"
      ]
     },
     "metadata": {},
     "output_type": "display_data"
    }
   ],
   "source": [
    "#to get age distribution with a bin width of 4\n",
    "sbn.displot(data=census12_df, x='Age', kind='hist', height=6, aspect=1.4, binwidth=4,\n",
    "            hue='Gender', multiple='stack')"
   ]
  },
  {
   "cell_type": "markdown",
   "id": "baa0c276",
   "metadata": {},
   "source": [
    "### Fig 2: Histogram showing Population Distribution"
   ]
  },
  {
   "cell_type": "code",
   "execution_count": 196,
   "id": "676c13ee",
   "metadata": {},
   "outputs": [
    {
     "data": {
      "text/plain": [
       "Text(0.5, 1.0, '')"
      ]
     },
     "execution_count": 196,
     "metadata": {},
     "output_type": "execute_result"
    },
    {
     "data": {
      "image/png": "[encoded data removed]",
      "text/plain": [
       "<Figure size 1000x800 with 1 Axes>"
      ]
     },
     "metadata": {},
     "output_type": "display_data"
    }
   ],
   "source": [
    "sbn.displot(x=census12_df['Age'], binwidth=4, height=8, aspect=10/8)\n",
    "plt.title(\"\")"
   ]
  },
  {
   "cell_type": "markdown",
   "id": "e0f4fd73",
   "metadata": {},
   "source": [
    "### Fig 3: Age Histogram"
   ]
  },
  {
   "cell_type": "code",
   "execution_count": 197,
   "id": "b289801c",
   "metadata": {},
   "outputs": [],
   "source": [
    "female_census12_df = census12_df[census12_df['Gender'] == 'Female']\n",
    "male_census12_df = census12_df[census12_df['Gender'] == 'Male']"
   ]
  },
  {
   "cell_type": "code",
   "execution_count": 200,
   "id": "945ca584",
   "metadata": {},
   "outputs": [
    {
     "data": {
      "text/plain": [
       "<seaborn.axisgrid.FacetGrid at 0x1c6655654d0>"
      ]
     },
     "execution_count": 200,
     "metadata": {},
     "output_type": "execute_result"
    },
    {
     "data": {
      "image/png": "[encoded data removed]",
      "text/plain": [
       "<Figure size 2400x1000 with 2 Axes>"
      ]
     },
     "metadata": {},
     "output_type": "display_data"
    }
   ],
   "source": [
    "sbn.displot(data=census12_df, x='Age', binwidth=4, col='Gender', height=10.0, aspect=12.0/10.0)"
   ]
  },
  {
   "cell_type": "markdown",
   "id": "b1311846",
   "metadata": {},
   "source": [
    "### Fig 4: Female and Male Age Histogram"
   ]
  },
  {
   "cell_type": "code",
   "execution_count": 226,
   "id": "22189ce4",
   "metadata": {},
   "outputs": [
    {
     "data": {
      "text/html": [
       "<div>\n",
       "<style scoped>\n",
       "    .dataframe tbody tr th:only-of-type {\n",
       "        vertical-align: middle;\n",
       "    }\n",
       "\n",
       "    .dataframe tbody tr th {\n",
       "        vertical-align: top;\n",
       "    }\n",
       "\n",
       "    .dataframe thead th {\n",
       "        text-align: right;\n",
       "    }\n",
       "</style>\n",
       "<table border=\"1\" class=\"dataframe\">\n",
       "  <thead>\n",
       "    <tr style=\"text-align: right;\">\n",
       "      <th></th>\n",
       "      <th>House Number</th>\n",
       "      <th>Street</th>\n",
       "      <th>First Name</th>\n",
       "      <th>Surname</th>\n",
       "      <th>Age</th>\n",
       "      <th>Relationship to Head of House</th>\n",
       "      <th>Marital Status</th>\n",
       "      <th>Gender</th>\n",
       "      <th>Occupation</th>\n",
       "      <th>Infirmity</th>\n",
       "      <th>Religion</th>\n",
       "      <th>age_group</th>\n",
       "    </tr>\n",
       "  </thead>\n",
       "  <tbody>\n",
       "    <tr>\n",
       "      <th>710</th>\n",
       "      <td>38</td>\n",
       "      <td>Barry Lodge</td>\n",
       "      <td>Russell</td>\n",
       "      <td>Clark</td>\n",
       "      <td>104</td>\n",
       "      <td>Head</td>\n",
       "      <td>Widowed</td>\n",
       "      <td>Male</td>\n",
       "      <td>Retired Housing manager/officer</td>\n",
       "      <td>None</td>\n",
       "      <td>Christian</td>\n",
       "      <td>100-104</td>\n",
       "    </tr>\n",
       "    <tr>\n",
       "      <th>6465</th>\n",
       "      <td>185</td>\n",
       "      <td>Gill Orchard</td>\n",
       "      <td>Christopher</td>\n",
       "      <td>Brown</td>\n",
       "      <td>104</td>\n",
       "      <td>Head</td>\n",
       "      <td>Divorced</td>\n",
       "      <td>Male</td>\n",
       "      <td>Retired Leisure centre manager</td>\n",
       "      <td>None</td>\n",
       "      <td>None</td>\n",
       "      <td>100-104</td>\n",
       "    </tr>\n",
       "  </tbody>\n",
       "</table>\n",
       "</div>"
      ],
      "text/plain": [
       "      House Number        Street   First Name Surname  Age  \\\n",
       "710             38   Barry Lodge      Russell   Clark  104   \n",
       "6465           185  Gill Orchard  Christopher   Brown  104   \n",
       "\n",
       "     Relationship to Head of House Marital Status Gender  \\\n",
       "710                           Head        Widowed   Male   \n",
       "6465                          Head       Divorced   Male   \n",
       "\n",
       "                           Occupation Infirmity   Religion age_group  \n",
       "710   Retired Housing manager/officer      None  Christian   100-104  \n",
       "6465   Retired Leisure centre manager      None       None   100-104  "
      ]
     },
     "execution_count": 226,
     "metadata": {},
     "output_type": "execute_result"
    }
   ],
   "source": [
    "census12_df[(census12_df['Age'] >= 103) & (census12_df['Gender'] == 'Male')]"
   ]
  },
  {
   "cell_type": "code",
   "execution_count": 205,
   "id": "32b4e2b8",
   "metadata": {},
   "outputs": [
    {
     "data": {
      "text/plain": [
       "18.0"
      ]
     },
     "execution_count": 205,
     "metadata": {},
     "output_type": "execute_result"
    }
   ],
   "source": [
    "census12_df['Age'].quantile(q=0.25)"
   ]
  },
  {
   "cell_type": "code",
   "execution_count": 206,
   "id": "4304239d",
   "metadata": {},
   "outputs": [],
   "source": [
    "female_census12_ages = census12_df[census12_df['Gender'] == 'Female']['Age'].to_list()"
   ]
  },
  {
   "cell_type": "code",
   "execution_count": 207,
   "id": "13d695f9",
   "metadata": {},
   "outputs": [],
   "source": [
    "male_census12_ages = census12_df[census12_df['Gender'] == 'Male']['Age'].to_list()"
   ]
  },
  {
   "cell_type": "code",
   "execution_count": 208,
   "id": "e00ee7bf",
   "metadata": {},
   "outputs": [],
   "source": [
    "age_intervals = []\n",
    "male_count = []\n",
    "female_count = []\n",
    "next_start = 0\n",
    "for i in range(0,110,5):\n",
    "    interval = f'{next_start}-{next_start+4}'\n",
    "    next_start=next_start+4+1\n",
    "    age_intervals.append(interval)\n",
    "    male_count.append(0)\n",
    "    female_count.append(0)"
   ]
  },
  {
   "cell_type": "code",
   "execution_count": 213,
   "id": "806891ce",
   "metadata": {},
   "outputs": [],
   "source": [
    "def get_age_group(age):\n",
    "    index = int(age/5)\n",
    "    return age_intervals[index]"
   ]
  },
  {
   "cell_type": "code",
   "execution_count": 214,
   "id": "337f7f02",
   "metadata": {},
   "outputs": [],
   "source": [
    "census12_df['age_group'] = census12_df['Age'].apply(get_age_group)"
   ]
  },
  {
   "cell_type": "code",
   "execution_count": 215,
   "id": "37efbf6c",
   "metadata": {},
   "outputs": [],
   "source": [
    "for age in male_census12_ages:\n",
    "    index = int(age/5)\n",
    "    male_count[index] = male_count[index] + 1"
   ]
  },
  {
   "cell_type": "code",
   "execution_count": 217,
   "id": "86076c1e",
   "metadata": {},
   "outputs": [],
   "source": [
    "for age in female_census12_ages:\n",
    "    index = int(age/5)\n",
    "    female_count[index] = female_count[index] + 1"
   ]
  },
  {
   "cell_type": "code",
   "execution_count": 218,
   "id": "a3994054",
   "metadata": {},
   "outputs": [
    {
     "data": {
      "text/plain": [
       "324"
      ]
     },
     "execution_count": 218,
     "metadata": {},
     "output_type": "execute_result"
    }
   ],
   "source": [
    "census12_df[(census12_df['Gender'] == 'Male')  & (census12_df['Age'] >= 0) & (census12_df['Age'] <= 4)]['Age'].count()"
   ]
  },
  {
   "cell_type": "code",
   "execution_count": 219,
   "id": "822573ae",
   "metadata": {},
   "outputs": [
    {
     "data": {
      "text/plain": [
       "5638"
      ]
     },
     "execution_count": 219,
     "metadata": {},
     "output_type": "execute_result"
    }
   ],
   "source": [
    "census12_df[(census12_df['Gender'] == 'Female')]['Age'].count()"
   ]
  },
  {
   "cell_type": "code",
   "execution_count": 220,
   "id": "74057878",
   "metadata": {},
   "outputs": [
    {
     "data": {
      "text/plain": [
       "['0-4',\n",
       " '5-9',\n",
       " '10-14',\n",
       " '15-19',\n",
       " '20-24',\n",
       " '25-29',\n",
       " '30-34',\n",
       " '35-39',\n",
       " '40-44',\n",
       " '45-49',\n",
       " '50-54',\n",
       " '55-59',\n",
       " '60-64',\n",
       " '65-69',\n",
       " '70-74',\n",
       " '75-79',\n",
       " '80-84',\n",
       " '85-89',\n",
       " '90-94',\n",
       " '95-99',\n",
       " '100-104',\n",
       " '105-109']"
      ]
     },
     "execution_count": 220,
     "metadata": {},
     "output_type": "execute_result"
    }
   ],
   "source": [
    "age_intervals #with a class interval of 5"
   ]
  },
  {
   "cell_type": "code",
   "execution_count": 221,
   "id": "d89d1c09",
   "metadata": {},
   "outputs": [
    {
     "data": {
      "text/plain": [
       "[Text(0.5, 0, 'Population Count'), Text(0, 0.5, 'Age Group')]"
      ]
     },
     "execution_count": 221,
     "metadata": {},
     "output_type": "execute_result"
    },
    {
     "data": {
      "image/png": "[encoded data removed]",
      "text/plain": [
       "<Figure size 1200x800 with 1 Axes>"
      ]
     },
     "metadata": {},
     "output_type": "display_data"
    }
   ],
   "source": [
    "#to draw he age pyramid\n",
    "age_pyramid_df = pd.DataFrame({\n",
    "    'Age' : age_intervals[::-1],\n",
    "    'Female' : female_count[::-1],\n",
    "    'Male' : [-1 * val for val in male_count][::-1]\n",
    "})\n",
    "\n",
    "plt.figure(figsize=(12,8))\n",
    "age_pyramid = sbn.barplot(x='Male', y='Age', data=age_pyramid_df,  color=('mediumblue'), label='Male')\n",
    "age_pyramid = sbn.barplot(x='Female', y='Age', data=age_pyramid_df,  color=('darkorange'), label='Female')\n",
    "age_pyramid.legend() \n",
    "plt.title('Age Pyramid')\n",
    "age_pyramid.set(xlabel='Population Count', ylabel='Age Group')"
   ]
  },
  {
   "cell_type": "markdown",
   "id": "4d70b378",
   "metadata": {},
   "source": [
    "### Fig 5: Female and Male Age Pyramid"
   ]
  },
  {
   "cell_type": "code",
   "execution_count": 222,
   "id": "f2ec6a7c",
   "metadata": {},
   "outputs": [
    {
     "data": {
      "text/plain": [
       "None         3692\n",
       "Christian    2297\n",
       "Catholic     1112\n",
       "Methodist     734\n",
       "Muslim        149\n",
       "Sikh           72\n",
       "Jewish         40\n",
       "Orthodoxy       4\n",
       "Quaker          2\n",
       "Bahai           2\n",
       "Baptist         1\n",
       "Hindu           1\n",
       "Name: Religion, dtype: int64"
      ]
     },
     "execution_count": 222,
     "metadata": {},
     "output_type": "execute_result"
    }
   ],
   "source": [
    "census12_df['Religion'].value_counts()"
   ]
  },
  {
   "cell_type": "code",
   "execution_count": 223,
   "id": "2482ca59",
   "metadata": {},
   "outputs": [
    {
     "name": "stdout",
     "output_type": "stream",
     "text": [
      "     Religion  Count\n",
      "0    Catholic  10.34\n",
      "1   Methodist   6.83\n",
      "2        None  34.33\n",
      "3   Christian  21.36\n",
      "4         NaN  24.62\n",
      "5      Muslim   1.39\n",
      "6        Sikh   0.67\n",
      "7   Orthodoxy   0.04\n",
      "8      Jewish   0.37\n",
      "9      Quaker   0.02\n",
      "10      Bahai   0.02\n",
      "11    Baptist   0.01\n",
      "12      Hindu   0.01\n"
     ]
    },
    {
     "data": {
      "text/plain": [
       "Text(0, 0.5, 'Religion')"
      ]
     },
     "execution_count": 223,
     "metadata": {},
     "output_type": "execute_result"
    },
    {
     "data": {
      "image/png": "[encoded data removed]",
      "text/plain": [
       "<Figure size 800x800 with 1 Axes>"
      ]
     },
     "metadata": {},
     "output_type": "display_data"
    }
   ],
   "source": [
    "religions = census12_df['Religion'].unique().tolist()\n",
    "religion_count = []\n",
    "total_religion = len(census12_df['Religion'])\n",
    "for religion in religions:\n",
    "    rc = census12_df[census_df['Religion'] == religion]['Religion'].count()\n",
    "    percentage = round((rc/total_religion)*100, 2)\n",
    "    religion_count.append(percentage)\n",
    "religion_count[religions.index(np.nan)] = round(((census12_df['Religion'].isna().sum())/total_religion)*100, 2)\n",
    "df = pd.DataFrame({\n",
    "    'Religion' : religions,\n",
    "    'Count' : religion_count\n",
    "})\n",
    "print(df)\n",
    "df = df.sort_values('Count')\n",
    "ax = df.plot(kind='barh', x = 'Religion', y='Count', figsize=(8, 8), zorder=2, width=0.85)\n",
    "ax.spines['top'].set_visible(False)\n",
    "ax.spines['bottom'].set_visible(False)\n",
    "ax.spines['left'].set_visible(False)\n",
    "ax.spines['right'].set_visible(False)\n",
    "ax.tick_params(axis=\"both\", which=\"both\", bottom=\"off\", top=\"off\", labelbottom=\"on\", left=\"off\", right=\"off\",\n",
    "               labelleft=\"on\")\n",
    "vals = ax.get_xticks()\n",
    "for tick in vals:\n",
    "  ax.axvline(x=tick, linestyle='dashed', alpha=0.4, color='#eeeeee', zorder=1)\n",
    "\n",
    "ax.set_xlabel(\"Frequency (%)\", labelpad=20, weight='bold', size=12)\n",
    "ax.set_ylabel(\"Religion\", labelpad=20, weight='bold', size=12)"
   ]
  },
  {
   "cell_type": "markdown",
   "id": "caa9bd62",
   "metadata": {},
   "source": [
    "### Fig 6. Bar chart showing the frequency of religions in percentage"
   ]
  },
  {
   "cell_type": "code",
   "execution_count": 224,
   "id": "e96dd401",
   "metadata": {},
   "outputs": [
    {
     "name": "stdout",
     "output_type": "stream",
     "text": [
      "  Marital Status  Count\n",
      "4        Widowed   4.15\n",
      "2       Divorced   8.81\n",
      "3            NaN  22.52\n",
      "1        Married  27.95\n",
      "0         Single  36.57\n"
     ]
    },
    {
     "data": {
      "text/plain": [
       "Text(0, 0.5, 'Marital Status')"
      ]
     },
     "execution_count": 224,
     "metadata": {},
     "output_type": "execute_result"
    },
    {
     "data": {
      "image/png": "[encoded data removed]",
      "text/plain": [
       "<Figure size 800x400 with 1 Axes>"
      ]
     },
     "metadata": {},
     "output_type": "display_data"
    }
   ],
   "source": [
    "marital_statuses = census12_df['Marital Status'].unique().tolist()\n",
    "marital_status_count = []\n",
    "total_marital_status = len(census12_df['Marital Status'])\n",
    "for marital_status in marital_statuses:\n",
    "    rc = census12_df[census12_df['Marital Status'] == marital_status]['Marital Status'].count()\n",
    "    percentage = round((rc/total_marital_status)*100, 2)\n",
    "    marital_status_count.append(percentage)\n",
    "marital_status_count[marital_statuses.index(np.nan)] = round(((census12_df['Marital Status'].isna().sum())/total_marital_status)*100, 2)\n",
    "# del marital_status_count[marital_statuses.index(np.nan)]\n",
    "# marital_statuses.remove(np.nan)\n",
    "df = pd.DataFrame({\n",
    "    'Marital Status' : marital_statuses,\n",
    "    'Count' : marital_status_count\n",
    "})\n",
    "df = df.sort_values('Count')\n",
    "ax = df.plot(kind='barh', x = 'Marital Status', y='Count', figsize=(8, 4), zorder=2, width=0.85,\n",
    "            )\n",
    "# ['#CC0000','#CC6600', '#CCCC00', '#336600']\n",
    "ax.spines['top'].set_visible(False)\n",
    "ax.spines['bottom'].set_visible(False)\n",
    "ax.spines['left'].set_visible(False)\n",
    "ax.spines['right'].set_visible(False)\n",
    "print(df)\n",
    "# Switch off ticks\n",
    "ax.tick_params(axis=\"both\", which=\"both\", bottom=\"off\", top=\"off\", labelbottom=\"on\", left=\"off\", right=\"off\",\n",
    "               labelleft=\"on\")\n",
    "\n",
    "# Draw vertical axis lines\n",
    "vals = ax.get_xticks()\n",
    "for tick in vals:\n",
    "  ax.axvline(x=tick, linestyle='dashed', alpha=0.4, color='#eeeeee', zorder=0)\n",
    "\n",
    "# Set x-axis label\n",
    "ax.set_xlabel(\"Frequency (%)\", labelpad=20, weight='bold', size=12)\n",
    "\n",
    "# Set y-axis label\n",
    "ax.set_ylabel(\"Marital Status\", labelpad=20, weight='bold', size=12)"
   ]
  },
  {
   "cell_type": "markdown",
   "id": "6cb4c8a2",
   "metadata": {},
   "source": [
    "#### Fig 7. Bar chart showing the frequency of marital status in percentage"
   ]
  },
  {
   "cell_type": "code",
   "execution_count": 225,
   "id": "10525b5d",
   "metadata": {},
   "outputs": [
    {
     "data": {
      "text/plain": [
       "None                   10669\n",
       "Physical Disability       23\n",
       "Blind                     19\n",
       "Deaf                      14\n",
       "Mental Disability         11\n",
       "Disabled                   9\n",
       "Unknown Infection          9\n",
       "Name: Infirmity, dtype: int64"
      ]
     },
     "execution_count": 225,
     "metadata": {},
     "output_type": "execute_result"
    }
   ],
   "source": [
    "census12_df['Infirmity'].value_counts()"
   ]
  },
  {
   "cell_type": "code",
   "execution_count": 229,
   "id": "cdb45d3a",
   "metadata": {},
   "outputs": [
    {
     "data": {
      "text/plain": [
       "Text(0, 0.5, 'Infirmity')"
      ]
     },
     "execution_count": 229,
     "metadata": {},
     "output_type": "execute_result"
    },
    {
     "data": {
      "image/png": "[encoded data removed]",
      "text/plain": [
       "<Figure size 600x400 with 1 Axes>"
      ]
     },
     "metadata": {},
     "output_type": "display_data"
    }
   ],
   "source": [
    "infirmities = census12_df['Infirmity'].unique().tolist()\n",
    "infirmity_count = []\n",
    "total_infirmity = len(census12_df['Infirmity'])\n",
    "for infirmity in infirmities:\n",
    "    rc = census12_df[census12_df['Infirmity'] == infirmity]['Infirmity'].count()\n",
    "    percentage = round((rc/total_infirmity)*100, 2)\n",
    "    infirmity_count.append(percentage)\n",
    "df = pd.DataFrame({\n",
    "    'Infirmity' : infirmities,\n",
    "    'Count' : infirmity_count\n",
    "})\n",
    "df = df.sort_values('Count')\n",
    "ax = df.plot(kind='barh', x = 'Infirmity', y='Count', figsize=(6, 4), zorder=2, width=0.85)\n",
    "ax.spines['top'].set_visible(False)\n",
    "ax.spines['bottom'].set_visible(False)\n",
    "ax.spines['left'].set_visible(False)\n",
    "ax.spines['right'].set_visible(False)\n",
    "\n",
    "# Switch off ticks\n",
    "ax.tick_params(axis=\"both\", which=\"both\", bottom=\"off\", top=\"off\", labelbottom=\"on\", left=\"off\", right=\"off\",\n",
    "               labelleft=\"on\")\n",
    "\n",
    "# Draw vertical axis lines\n",
    "vals = ax.get_xticks()\n",
    "for tick in vals:\n",
    "  ax.axvline(x=tick, linestyle='dashed', alpha=0.4, color='#eeeeee', zorder=1)\n",
    "\n",
    "# Set x-axis label\n",
    "ax.set_xlabel(\"Frequency (%)\", labelpad=20, weight='bold', size=12)\n",
    "\n",
    "# Set y-axis label\n",
    "ax.set_ylabel(\"Infirmity\", labelpad=20, weight='bold', size=12)"
   ]
  },
  {
   "cell_type": "code",
   "execution_count": 230,
   "id": "dc08774b",
   "metadata": {},
   "outputs": [],
   "source": [
    "def get_employment_category(occupation):\n",
    "    if (occupation.lower() == 'child'):\n",
    "        return 'Child'\n",
    "    if ('retired' in occupation.lower()):\n",
    "        return 'Retired'\n",
    "    elif ('student' in occupation.lower()):\n",
    "        return 'Student'\n",
    "    elif ('unemployed' in occupation.lower()):\n",
    "        return 'Unemployed'\n",
    "    else:\n",
    "        return 'Employed'"
   ]
  },
  {
   "cell_type": "code",
   "execution_count": 231,
   "id": "1bf549ea",
   "metadata": {},
   "outputs": [],
   "source": [
    "census12_df['employment_category'] = census12_df['Occupation'].apply(get_employment_category)"
   ]
  },
  {
   "cell_type": "code",
   "execution_count": 232,
   "id": "45fa8b1a",
   "metadata": {},
   "outputs": [
    {
     "data": {
      "text/plain": [
       "Employed      5770\n",
       "Student       2772\n",
       "Retired        902\n",
       "Unemployed     685\n",
       "Child          625\n",
       "Name: employment_category, dtype: int64"
      ]
     },
     "execution_count": 232,
     "metadata": {},
     "output_type": "execute_result"
    }
   ],
   "source": [
    "census12_df['employment_category'].value_counts()"
   ]
  },
  {
   "cell_type": "code",
   "execution_count": 233,
   "id": "d015fb8e",
   "metadata": {},
   "outputs": [
    {
     "data": {
      "text/plain": [
       "Text(0, 0.5, 'Frequency (%)')"
      ]
     },
     "execution_count": 233,
     "metadata": {},
     "output_type": "execute_result"
    },
    {
     "data": {
      "image/png": "[encoded data removed]",
      "text/plain": [
       "<Figure size 500x600 with 1 Axes>"
      ]
     },
     "metadata": {},
     "output_type": "display_data"
    }
   ],
   "source": [
    "employments = census12_df['employment_category'].unique().tolist()\n",
    "employment_count = []\n",
    "total_employments = len(census12_df['employment_category'])\n",
    "for employment in employments:\n",
    "    rc = census12_df[census12_df['employment_category'] == employment]['employment_category'].count()\n",
    "    percentage = round((rc/total_employments)*100, 2)\n",
    "    employment_count.append(percentage)\n",
    "df = pd.DataFrame({\n",
    "    'Employment' : employments,\n",
    "    'Count' : employment_count\n",
    "})\n",
    "df = df.sort_values('Count')\n",
    "ax = df.plot(kind='bar', x = 'Employment', y='Count', figsize=(5, 6),  zorder=2, width=0.7)\n",
    "ax.spines['top'].set_visible(False)\n",
    "ax.spines['bottom'].set_visible(False)\n",
    "ax.spines['left'].set_visible(False)\n",
    "ax.spines['right'].set_visible(False)\n",
    "ax.tick_params(axis=\"both\", which=\"both\", bottom=\"off\", top=\"off\", labelbottom=\"on\", left=\"off\", right=\"off\",\n",
    "               labelleft=\"on\")\n",
    "vals = ax.get_xticks()\n",
    "for tick in vals:\n",
    "  ax.axvline(x=tick, linestyle='dashed', alpha=0.4, color='#eeeeee', zorder=1)\n",
    "ax.set_xlabel(\"Employment\", labelpad=20, weight='bold', size=12)\n",
    "ax.set_ylabel(\"Frequency (%)\", labelpad=20, weight='bold', size=12)"
   ]
  },
  {
   "cell_type": "code",
   "execution_count": 235,
   "id": "513674c8",
   "metadata": {},
   "outputs": [
    {
     "data": {
      "text/plain": [
       "Gender\n",
       "Female    435\n",
       "Male      250\n",
       "Name: Gender, dtype: int64"
      ]
     },
     "execution_count": 235,
     "metadata": {},
     "output_type": "execute_result"
    }
   ],
   "source": [
    "census12_df[(census12_df['employment_category'] == 'Unemployed')].groupby(['Gender'])['Gender'].count()"
   ]
  },
  {
   "cell_type": "code",
   "execution_count": 237,
   "id": "5c7e7197",
   "metadata": {},
   "outputs": [],
   "source": [
    "unemployed_population_df = census12_df[census12_df['employment_category'] == 'Unemployed']"
   ]
  },
  {
   "cell_type": "code",
   "execution_count": 238,
   "id": "f76e6090",
   "metadata": {},
   "outputs": [
    {
     "name": "stdout",
     "output_type": "stream",
     "text": [
      "   Age Group  Unemployment Count\n",
      "0      40-44               16.64\n",
      "1      35-39               13.87\n",
      "2      60-64                7.74\n",
      "3      45-49               12.99\n",
      "4      25-29                9.64\n",
      "5      55-59                9.05\n",
      "6      50-54               10.22\n",
      "7      30-34               11.39\n",
      "8      20-24                5.11\n",
      "9      65-69                3.21\n",
      "10     15-19                0.15\n"
     ]
    },
    {
     "data": {
      "text/plain": [
       "Text(0, 0.5, 'Frequency (%)')"
      ]
     },
     "execution_count": 238,
     "metadata": {},
     "output_type": "execute_result"
    },
    {
     "data": {
      "image/png": "[encoded data removed]",
      "text/plain": [
       "<Figure size 800x700 with 1 Axes>"
      ]
     },
     "metadata": {},
     "output_type": "display_data"
    }
   ],
   "source": [
    "age_groups = unemployed_population_df['age_group'].unique().tolist()\n",
    "age_group_count = []\n",
    "total_age_group = len(unemployed_population_df['age_group'])\n",
    "for age_group in age_groups:\n",
    "    rc = unemployed_population_df[unemployed_population_df['age_group'] == age_group]['age_group'].count()\n",
    "    percentage = round((rc/total_age_group)*100, 2)\n",
    "    age_group_count.append(percentage)\n",
    "df = pd.DataFrame({\n",
    "    'Age Group' : age_groups,\n",
    "    'Unemployment Count' : age_group_count\n",
    "})\n",
    "print(df)\n",
    "df = df.sort_values('Age Group')\n",
    "ax = df.plot(kind='bar', x = 'Age Group', y='Unemployment Count', figsize=(8, 7),\n",
    "             zorder=2, width=0.7)\n",
    "ax.spines['top'].set_visible(False)\n",
    "ax.spines['bottom'].set_visible(False)\n",
    "ax.spines['left'].set_visible(False)\n",
    "ax.spines['right'].set_visible(False)\n",
    "ax.tick_params(axis=\"both\", which=\"both\", bottom=\"off\", top=\"off\", labelbottom=\"on\", left=\"off\", right=\"off\",\n",
    "               labelleft=\"on\")\n",
    "vals = ax.get_xticks()\n",
    "for idx, tick in enumerate(vals):\n",
    "  ax.axvline(x=tick, linestyle='dashed', alpha=0.4, color='#eeeeee', zorder=1)\n",
    "\n",
    "ax.set_xlabel(\"Age Group\", labelpad=20, weight='bold', size=12)\n",
    "ax.set_ylabel(\"Frequency (%)\", labelpad=20, weight='bold', size=12)"
   ]
  },
  {
   "cell_type": "code",
   "execution_count": 239,
   "id": "1d216c17",
   "metadata": {},
   "outputs": [
    {
     "data": {
      "text/plain": [
       "Married     3006\n",
       "Divorced     947\n",
       "Name: Marital Status, dtype: int64"
      ]
     },
     "execution_count": 239,
     "metadata": {},
     "output_type": "execute_result"
    }
   ],
   "source": [
    "census12_df[census12_df['Marital Status'].isin(['Married', 'Divorced'])]['Marital Status'].value_counts()"
   ]
  },
  {
   "cell_type": "code",
   "execution_count": 240,
   "id": "3198d85d",
   "metadata": {},
   "outputs": [
    {
     "data": {
      "text/plain": [
       "Text(0, 0.5, 'Marital Status')"
      ]
     },
     "execution_count": 240,
     "metadata": {},
     "output_type": "execute_result"
    },
    {
     "data": {
      "image/png": "[encoded data removed]",
      "text/plain": [
       "<Figure size 800x400 with 1 Axes>"
      ]
     },
     "metadata": {},
     "output_type": "display_data"
    }
   ],
   "source": [
    "marital_statuses = ['Divorced', 'Married']\n",
    "marital_status_count = []\n",
    "total_marital_status = len(census12_df[census12_df['Marital Status'].isin(marital_statuses)])\n",
    "for marital_status in marital_statuses:\n",
    "    rc = census12_df[census12_df['Marital Status'] == marital_status]['Marital Status'].count()\n",
    "    percentage = round((rc/total_marital_status)*100, 2)\n",
    "    marital_status_count.append(percentage)\n",
    "\n",
    "df = pd.DataFrame({\n",
    "    'Marital Status' : marital_statuses,\n",
    "    'Count' : marital_status_count\n",
    "})\n",
    "df = df.sort_values('Count')\n",
    "ax = df.plot(kind='barh', x = 'Marital Status', y='Count', figsize=(8, 4), zorder=2, width=0.85)\n",
    "ax.spines['top'].set_visible(False)\n",
    "ax.spines['bottom'].set_visible(False)\n",
    "ax.spines['left'].set_visible(False)\n",
    "ax.spines['right'].set_visible(False)\n",
    "\n",
    "ax.tick_params(axis=\"both\", which=\"both\", bottom=\"off\", top=\"off\", labelbottom=\"on\", left=\"off\", right=\"off\",\n",
    "               labelleft=\"on\")\n",
    "\n",
    "vals = ax.get_xticks()\n",
    "for tick in vals:\n",
    "  ax.axvline(x=tick, linestyle='dashed', alpha=0.4, color='#eeeeee', zorder=1)\n",
    "ax.set_xlabel(\"Frequency (%)\", labelpad=20, weight='bold', size=12)\n",
    "\n",
    "ax.set_ylabel(\"Marital Status\", labelpad=20, weight='bold', size=12)"
   ]
  },
  {
   "cell_type": "code",
   "execution_count": 243,
   "id": "a9378324",
   "metadata": {},
   "outputs": [
    {
     "data": {
      "image/png": "[encoded data removed]",
      "text/plain": [
       "<Figure size 1000x827 with 1 Axes>"
      ]
     },
     "metadata": {},
     "output_type": "display_data"
    }
   ],
   "source": [
    "a4_dims = (10, 8.27)\n",
    "fig, ax = plt.subplots(figsize=a4_dims)\n",
    "bx = sbn.boxplot(data=census12_df, x='Marital Status', y='Age', palette=['#CC0000','#336600', '#CCCC00', '#CC6600'])"
   ]
  },
  {
   "cell_type": "code",
   "execution_count": 244,
   "id": "93358c12",
   "metadata": {},
   "outputs": [],
   "source": [
    "no_of_new_born = census12_df[census12_df['Age'] == 0]['Age'].count()"
   ]
  },
  {
   "cell_type": "code",
   "execution_count": 245,
   "id": "8fbf976c",
   "metadata": {},
   "outputs": [],
   "source": [
    "no_of_women_aged_25_to_29 = census12_df[(census12_df['Age'].between(25, 29)) & \n",
    "                                     (census12_df['Gender'] == 'Female')]['Age'].count()"
   ]
  },
  {
   "cell_type": "code",
   "execution_count": 246,
   "id": "24ba798b",
   "metadata": {},
   "outputs": [
    {
     "data": {
      "text/plain": [
       "408"
      ]
     },
     "execution_count": 246,
     "metadata": {},
     "output_type": "execute_result"
    }
   ],
   "source": [
    "no_of_women_aged_25_to_29"
   ]
  },
  {
   "cell_type": "code",
   "execution_count": 247,
   "id": "4f3b5b84",
   "metadata": {},
   "outputs": [],
   "source": [
    "new_birth_ratio = no_of_new_born/no_of_women_aged_25_to_29"
   ]
  },
  {
   "cell_type": "code",
   "execution_count": 248,
   "id": "ce93d4cb",
   "metadata": {},
   "outputs": [],
   "source": [
    "births_per_100000 = round(new_birth_ratio * 100000)"
   ]
  },
  {
   "cell_type": "code",
   "execution_count": 250,
   "id": "36797dd3",
   "metadata": {},
   "outputs": [
    {
     "data": {
      "text/plain": [
       "(0.23529411764705882, 23529)"
      ]
     },
     "execution_count": 250,
     "metadata": {},
     "output_type": "execute_result"
    }
   ],
   "source": [
    "new_birth_ratio, births_per_100000"
   ]
  },
  {
   "cell_type": "code",
   "execution_count": 252,
   "id": "425fd30c",
   "metadata": {},
   "outputs": [],
   "source": [
    "no_of_children_aged_4 = no_of_new_born = census12_df[census12_df['Age'] == 4]['Age'].count()"
   ]
  },
  {
   "cell_type": "code",
   "execution_count": 253,
   "id": "47ba37e7",
   "metadata": {},
   "outputs": [],
   "source": [
    "no_of_women_aged_30_to_34 = census12_df[(census12_df['Age'].between(30, 34)) & \n",
    "                                     (census12_df['Gender'] == 'Female')]['Age'].count()"
   ]
  },
  {
   "cell_type": "code",
   "execution_count": 254,
   "id": "19a311e9",
   "metadata": {},
   "outputs": [
    {
     "data": {
      "text/plain": [
       "(152, 468)"
      ]
     },
     "execution_count": 254,
     "metadata": {},
     "output_type": "execute_result"
    }
   ],
   "source": [
    "no_of_children_aged_4, no_of_women_aged_30_to_34"
   ]
  },
  {
   "cell_type": "code",
   "execution_count": 255,
   "id": "28165e7c",
   "metadata": {},
   "outputs": [],
   "source": [
    "past_year_birth_ratio = no_of_children_aged_4/no_of_women_aged_30_to_34"
   ]
  },
  {
   "cell_type": "code",
   "execution_count": 256,
   "id": "1f177879",
   "metadata": {},
   "outputs": [
    {
     "data": {
      "text/plain": [
       "0.3247863247863248"
      ]
     },
     "execution_count": 256,
     "metadata": {},
     "output_type": "execute_result"
    }
   ],
   "source": [
    "past_year_birth_ratio"
   ]
  },
  {
   "cell_type": "code",
   "execution_count": 257,
   "id": "d5a78195",
   "metadata": {},
   "outputs": [],
   "source": [
    "past_birth_per_100000 = round(past_year_birth_ratio * 100000)"
   ]
  },
  {
   "cell_type": "code",
   "execution_count": 258,
   "id": "c0771819",
   "metadata": {},
   "outputs": [
    {
     "data": {
      "text/plain": [
       "(0.3247863247863248, 32479)"
      ]
     },
     "execution_count": 258,
     "metadata": {},
     "output_type": "execute_result"
    }
   ],
   "source": [
    "past_year_birth_ratio, past_birth_per_100000"
   ]
  },
  {
   "cell_type": "code",
   "execution_count": null,
   "id": "b4f96ca3",
   "metadata": {},
   "outputs": [],
   "source": []
  },
  {
   "cell_type": "code",
   "execution_count": 259,
   "id": "72858010",
   "metadata": {},
   "outputs": [],
   "source": [
    "current_birth_rate_per_annum = ((new_birth_ratio - past_year_birth_ratio)/past_year_birth_ratio)/5"
   ]
  },
  {
   "cell_type": "code",
   "execution_count": 260,
   "id": "6efaa802",
   "metadata": {},
   "outputs": [
    {
     "data": {
      "text/plain": [
       "-0.055108359133126936"
      ]
     },
     "execution_count": 260,
     "metadata": {},
     "output_type": "execute_result"
    }
   ],
   "source": [
    "current_birth_rate_per_annum"
   ]
  },
  {
   "cell_type": "code",
   "execution_count": 261,
   "id": "527554ce",
   "metadata": {},
   "outputs": [],
   "source": [
    "current_birth_rate_per_100000 = current_birth_rate_per_annum * 100000"
   ]
  },
  {
   "cell_type": "code",
   "execution_count": 262,
   "id": "14c754b2",
   "metadata": {},
   "outputs": [
    {
     "data": {
      "text/plain": [
       "-5511"
      ]
     },
     "execution_count": 262,
     "metadata": {},
     "output_type": "execute_result"
    }
   ],
   "source": [
    "round(current_birth_rate_per_100000)"
   ]
  },
  {
   "cell_type": "code",
   "execution_count": null,
   "id": "f48a6682",
   "metadata": {},
   "outputs": [],
   "source": []
  },
  {
   "cell_type": "markdown",
   "id": "b687e8b6",
   "metadata": {},
   "source": [
    "## Death rate calculation\n",
    "#### Let's use the age ranges  below to get the death rate. Getting an average of each of the comparison per line\n",
    "- 56-60,   61-65\n",
    "- 66-70,   71-75\n",
    "- 76-80,   81-85\n",
    "- 86-90,   91-95\n",
    "- 96- 100, 101-105"
   ]
  },
  {
   "cell_type": "code",
   "execution_count": 263,
   "id": "b6aae288",
   "metadata": {},
   "outputs": [],
   "source": [
    "i = 56\n",
    "val1 = []\n",
    "val2 = []\n",
    "c = 1\n",
    "while i < 106:\n",
    "    if (c%2==1):\n",
    "        val1.append((i,i+4))\n",
    "    else:\n",
    "        val2.append((i,i+4))\n",
    "    i=i+4+1\n",
    "    c+=1"
   ]
  },
  {
   "cell_type": "code",
   "execution_count": 264,
   "id": "3ec68f33",
   "metadata": {},
   "outputs": [
    {
     "data": {
      "text/plain": [
       "([(56, 60), (66, 70), (76, 80), (86, 90), (96, 100)],\n",
       " [(61, 65), (71, 75), (81, 85), (91, 95), (101, 105)])"
      ]
     },
     "execution_count": 264,
     "metadata": {},
     "output_type": "execute_result"
    }
   ],
   "source": [
    "val1, val2"
   ]
  },
  {
   "cell_type": "code",
   "execution_count": 265,
   "id": "dcd1a206",
   "metadata": {},
   "outputs": [],
   "source": [
    "# let's Compute the death rate for each of the intervals drawn out above\n",
    "rates_per_annum = []\n",
    "for min_years, max_years in zip(val1, val2):\n",
    "    count1 = census12_df[(census12_df['Age'].between(min_years[0], min_years[1]))]['Age'].count()\n",
    "    count2 = census12_df[(census12_df['Age'].between(max_years[0], max_years[1]))]['Age'].count()\n",
    "    rate_per_annum = ((count1 - count2)/count1)/5\n",
    "    rates_per_annum.append(rate_per_annum)"
   ]
  },
  {
   "cell_type": "code",
   "execution_count": 266,
   "id": "4ca581b7",
   "metadata": {},
   "outputs": [
    {
     "data": {
      "text/plain": [
       "[0.03093145869947276, 0.03865030674846626, 0.0592964824120603, 0.13125, -0.1]"
      ]
     },
     "execution_count": 266,
     "metadata": {},
     "output_type": "execute_result"
    }
   ],
   "source": [
    "rates_per_annum"
   ]
  },
  {
   "cell_type": "code",
   "execution_count": null,
   "id": "9b0fdbab",
   "metadata": {},
   "outputs": [],
   "source": []
  },
  {
   "cell_type": "markdown",
   "id": "20efca41",
   "metadata": {},
   "source": [
    "#### Let's get average to get the death ate per annum"
   ]
  },
  {
   "cell_type": "code",
   "execution_count": 268,
   "id": "6f64d5ee",
   "metadata": {},
   "outputs": [],
   "source": [
    "death_rate_per_annum = sum(rates_per_annum)/len(rates_per_annum)"
   ]
  },
  {
   "cell_type": "code",
   "execution_count": 269,
   "id": "e9802b58",
   "metadata": {},
   "outputs": [
    {
     "data": {
      "text/plain": [
       "0.03202564957199987"
      ]
     },
     "execution_count": 269,
     "metadata": {},
     "output_type": "execute_result"
    }
   ],
   "source": [
    "death_rate_per_annum"
   ]
  },
  {
   "cell_type": "code",
   "execution_count": null,
   "id": "de1beefc",
   "metadata": {},
   "outputs": [],
   "source": []
  },
  {
   "cell_type": "code",
   "execution_count": 270,
   "id": "fba9b37f",
   "metadata": {},
   "outputs": [],
   "source": [
    "#Death rates per 100000\n",
    "deaths_per_100000 = death_rate_per_annum * 100000"
   ]
  },
  {
   "cell_type": "code",
   "execution_count": 271,
   "id": "72ac0d22",
   "metadata": {},
   "outputs": [
    {
     "data": {
      "text/plain": [
       "20326.435042800014"
      ]
     },
     "execution_count": 271,
     "metadata": {},
     "output_type": "execute_result"
    }
   ],
   "source": [
    "births_per_100000 - deaths_per_100000"
   ]
  },
  {
   "cell_type": "code",
   "execution_count": null,
   "id": "b9491506",
   "metadata": {},
   "outputs": [],
   "source": []
  },
  {
   "cell_type": "markdown",
   "id": "c9fe3ecc",
   "metadata": {},
   "source": [
    "#### Let's assume that Visitors and Lodgers that are Single are Immigrants"
   ]
  },
  {
   "cell_type": "code",
   "execution_count": 272,
   "id": "83ab10bf",
   "metadata": {},
   "outputs": [],
   "source": [
    "no_of_immigrants = len(census12_df[(census12_df['Relationship to Head of House'].isin(['Visitor', 'Lodger'])) & \n",
    "         (census12_df['Marital Status'] == 'Single')])"
   ]
  },
  {
   "cell_type": "code",
   "execution_count": 273,
   "id": "b1a19d07",
   "metadata": {},
   "outputs": [
    {
     "data": {
      "text/plain": [
       "333"
      ]
     },
     "execution_count": 273,
     "metadata": {},
     "output_type": "execute_result"
    }
   ],
   "source": [
    "no_of_immigrants"
   ]
  },
  {
   "cell_type": "code",
   "execution_count": 274,
   "id": "ec1cd9f2",
   "metadata": {},
   "outputs": [],
   "source": [
    "immigration_rate = no_of_immigrants/len(census12_df)"
   ]
  },
  {
   "cell_type": "code",
   "execution_count": 275,
   "id": "e9ff288c",
   "metadata": {},
   "outputs": [
    {
     "data": {
      "text/plain": [
       "0.030965222242886368"
      ]
     },
     "execution_count": 275,
     "metadata": {},
     "output_type": "execute_result"
    }
   ],
   "source": [
    "immigration_rate"
   ]
  },
  {
   "cell_type": "code",
   "execution_count": 276,
   "id": "a3b79252",
   "metadata": {},
   "outputs": [],
   "source": [
    "immigration_rate_per_100000 = round(immigration_rate * 100000)"
   ]
  },
  {
   "cell_type": "code",
   "execution_count": 277,
   "id": "44c9ccee",
   "metadata": {},
   "outputs": [
    {
     "data": {
      "text/plain": [
       "3097"
      ]
     },
     "execution_count": 277,
     "metadata": {},
     "output_type": "execute_result"
    }
   ],
   "source": [
    "immigration_rate_per_100000"
   ]
  },
  {
   "cell_type": "code",
   "execution_count": null,
   "id": "ff953393",
   "metadata": {},
   "outputs": [],
   "source": []
  },
  {
   "cell_type": "markdown",
   "id": "d85d276b",
   "metadata": {},
   "source": [
    "#### Let's assume that emmigrants are divorcees that left town"
   ]
  },
  {
   "cell_type": "code",
   "execution_count": 278,
   "id": "e34dd51b",
   "metadata": {},
   "outputs": [],
   "source": [
    "no_of_emmigrants = len(census12_df[census12_df['Marital Status'] == 'Divorced'])"
   ]
  },
  {
   "cell_type": "code",
   "execution_count": 279,
   "id": "e6be6fdd",
   "metadata": {},
   "outputs": [
    {
     "data": {
      "text/plain": [
       "947"
      ]
     },
     "execution_count": 279,
     "metadata": {},
     "output_type": "execute_result"
    }
   ],
   "source": [
    "no_of_emmigrants"
   ]
  },
  {
   "cell_type": "code",
   "execution_count": 280,
   "id": "96f065a5",
   "metadata": {},
   "outputs": [],
   "source": [
    "emmigration_rate = no_of_emmigrants/len(census12_df)"
   ]
  },
  {
   "cell_type": "code",
   "execution_count": 281,
   "id": "2c5bbb2d",
   "metadata": {},
   "outputs": [
    {
     "data": {
      "text/plain": [
       "0.08806025664868886"
      ]
     },
     "execution_count": 281,
     "metadata": {},
     "output_type": "execute_result"
    }
   ],
   "source": [
    "emmigration_rate"
   ]
  },
  {
   "cell_type": "code",
   "execution_count": 282,
   "id": "9bfc929b",
   "metadata": {},
   "outputs": [],
   "source": [
    "emmigration_rate_per_100000 = round(emmigration_rate * 100000)"
   ]
  },
  {
   "cell_type": "code",
   "execution_count": 283,
   "id": "0ea60e8e",
   "metadata": {},
   "outputs": [
    {
     "data": {
      "text/plain": [
       "8806"
      ]
     },
     "execution_count": 283,
     "metadata": {},
     "output_type": "execute_result"
    }
   ],
   "source": [
    "emmigration_rate_per_100000"
   ]
  },
  {
   "cell_type": "code",
   "execution_count": null,
   "id": "117799c8",
   "metadata": {},
   "outputs": [],
   "source": []
  },
  {
   "cell_type": "markdown",
   "id": "b2bc3c0a",
   "metadata": {},
   "source": [
    "#### Calculating population growth with formular\n",
    "\n",
    "*****Change in Population Size = (Births + Immigration) - (Deaths + Emigration)*****"
   ]
  },
  {
   "cell_type": "code",
   "execution_count": 285,
   "id": "a317ccd3",
   "metadata": {},
   "outputs": [],
   "source": [
    "population_growth_rate = (current_birth_rate_per_annum + immigration_rate) - (death_rate_per_annum + emmigration_rate)"
   ]
  },
  {
   "cell_type": "code",
   "execution_count": 286,
   "id": "42d09ade",
   "metadata": {},
   "outputs": [
    {
     "data": {
      "text/plain": [
       "-0.1442290431109293"
      ]
     },
     "execution_count": 286,
     "metadata": {},
     "output_type": "execute_result"
    }
   ],
   "source": [
    "population_growth_rate"
   ]
  },
  {
   "cell_type": "code",
   "execution_count": 287,
   "id": "cf07cc0a",
   "metadata": {},
   "outputs": [],
   "source": [
    "population_growth_rate_per_100000 = population_growth_rate * 100000"
   ]
  },
  {
   "cell_type": "code",
   "execution_count": 288,
   "id": "5ca81df9",
   "metadata": {},
   "outputs": [],
   "source": [
    "population_growth_rate_per_100000 = (current_birth_rate_per_100000 + immigration_rate_per_100000) - (deaths_per_100000 + emmigration_rate_per_100000)"
   ]
  },
  {
   "cell_type": "code",
   "execution_count": 289,
   "id": "f379959a",
   "metadata": {},
   "outputs": [
    {
     "data": {
      "text/plain": [
       "-14422"
      ]
     },
     "execution_count": 289,
     "metadata": {},
     "output_type": "execute_result"
    }
   ],
   "source": [
    "round(population_growth_rate_per_100000)"
   ]
  },
  {
   "cell_type": "code",
   "execution_count": null,
   "id": "f48d4f00",
   "metadata": {},
   "outputs": [],
   "source": []
  },
  {
   "cell_type": "markdown",
   "id": "06885648",
   "metadata": {},
   "source": [
    "#### Is there a demand for housing?\n",
    "- Assumption is to use the mode value per street as expected number of occupants. If the number of occupants is less than the mode, then the house is underused. If number of occupants is greater then the mode value, the house is overused"
   ]
  },
  {
   "cell_type": "code",
   "execution_count": 290,
   "id": "110d0698",
   "metadata": {},
   "outputs": [
    {
     "name": "stdout",
     "output_type": "stream",
     "text": [
      "Number of undersized Houses :  534\n",
      "Number of oversized Houses :  1268\n"
     ]
    }
   ],
   "source": [
    "from statistics import mode\n",
    "streets = census12_df['Street'].unique().tolist()\n",
    "occupants_number = []\n",
    "total_undersized_house = 0\n",
    "total_oversized_house = 0\n",
    "for street in streets:\n",
    "    house_numbers = census12_df[census_df['Street'] == street]['House Number'].unique().tolist()\n",
    "    people_count_per_house = []\n",
    "    for house_number in house_numbers:\n",
    "        people_count = len(census12_df[(census12_df['Street'] == street) \n",
    "                                 & (census12_df['House Number'] == house_number)])\n",
    "        people_count_per_house.append(people_count)\n",
    "    mode_count_for_street = mode(people_count_per_house)\n",
    "    occupants_number_gt_mode = len([val for val in people_count_per_house if val > mode_count_for_street])\n",
    "    total_oversized_house += occupants_number_gt_mode\n",
    "    occupants_number_lt_mode = len([val for val in people_count_per_house if val < mode_count_for_street])\n",
    "    total_undersized_house += occupants_number_lt_mode\n",
    "print(\"Number of undersized Houses : \", total_undersized_house)\n",
    "print(\"Number of oversized Houses : \", total_oversized_house)"
   ]
  },
  {
   "cell_type": "code",
   "execution_count": null,
   "id": "151b09f9",
   "metadata": {},
   "outputs": [],
   "source": []
  },
  {
   "cell_type": "markdown",
   "id": "12ce0f64",
   "metadata": {},
   "source": [
    "## Non-fake Religion\n",
    "- Let's get the Mean, Median, Mode, Range and Interquartile range of non fake religions"
   ]
  },
  {
   "cell_type": "code",
   "execution_count": 291,
   "id": "a3479708",
   "metadata": {},
   "outputs": [],
   "source": [
    "non_fake_religious_df = census12_df[census12_df['Religion'].isin(['Catholic', 'Christian', 'Hindu','Quaker'\n",
    "                                                'Jewish', 'Methodist', 'Muslim', 'Orthodoxy','Sikh' ])]"
   ]
  },
  {
   "cell_type": "code",
   "execution_count": 294,
   "id": "e98fded2",
   "metadata": {},
   "outputs": [
    {
     "data": {
      "text/plain": [
       "Religion\n",
       "Catholic     42.591727\n",
       "Christian    49.800609\n",
       "Hindu        34.000000\n",
       "Methodist    45.027248\n",
       "Muslim       36.140940\n",
       "Orthodoxy    54.750000\n",
       "Sikh         35.013889\n",
       "Name: Age, dtype: float64"
      ]
     },
     "execution_count": 294,
     "metadata": {},
     "output_type": "execute_result"
    }
   ],
   "source": [
    "non_fake_religious_df.groupby('Religion')['Age'].mean()"
   ]
  },
  {
   "cell_type": "code",
   "execution_count": 295,
   "id": "791ecb97",
   "metadata": {},
   "outputs": [
    {
     "data": {
      "text/plain": [
       "Religion\n",
       "Catholic     42.0\n",
       "Christian    51.0\n",
       "Hindu        34.0\n",
       "Methodist    43.0\n",
       "Muslim       31.0\n",
       "Orthodoxy    52.5\n",
       "Sikh         33.0\n",
       "Name: Age, dtype: float64"
      ]
     },
     "execution_count": 295,
     "metadata": {},
     "output_type": "execute_result"
    }
   ],
   "source": [
    "non_fake_religious_df.groupby('Religion')['Age'].median()"
   ]
  },
  {
   "cell_type": "code",
   "execution_count": 296,
   "id": "62fe8490",
   "metadata": {},
   "outputs": [],
   "source": [
    "religions = non_fake_religious_df['Religion'].unique().tolist()\n",
    "religion_mode_dict = {}\n",
    "for religion in religions:\n",
    "    mode_age = mode(non_fake_religious_df[non_fake_religious_df['Religion'] == religion]['Age'].tolist())\n",
    "    religion_mode_dict[religion] = mode_age"
   ]
  },
  {
   "cell_type": "code",
   "execution_count": 297,
   "id": "d7590c25",
   "metadata": {},
   "outputs": [
    {
     "data": {
      "text/plain": [
       "{'Catholic': 41,\n",
       " 'Methodist': 38,\n",
       " 'Christian': 51,\n",
       " 'Muslim': 21,\n",
       " 'Sikh': 34,\n",
       " 'Orthodoxy': 67,\n",
       " 'Hindu': 34}"
      ]
     },
     "execution_count": 297,
     "metadata": {},
     "output_type": "execute_result"
    }
   ],
   "source": [
    "religion_mode_dict"
   ]
  },
  {
   "cell_type": "code",
   "execution_count": 298,
   "id": "ffc055e3",
   "metadata": {},
   "outputs": [],
   "source": [
    "Max = non_fake_religious_df.groupby(['Religion'])['Age'].max()"
   ]
  },
  {
   "cell_type": "code",
   "execution_count": 299,
   "id": "4d3f3df9",
   "metadata": {},
   "outputs": [],
   "source": [
    "Min = non_fake_religious_df.groupby(['Religion'])['Age'].min()"
   ]
  },
  {
   "cell_type": "code",
   "execution_count": 300,
   "id": "13ef096c",
   "metadata": {},
   "outputs": [
    {
     "data": {
      "text/plain": [
       "Religion\n",
       "Catholic     84\n",
       "Christian    86\n",
       "Hindu         0\n",
       "Methodist    84\n",
       "Muslim       85\n",
       "Orthodoxy    20\n",
       "Sikh         65\n",
       "Name: Age, dtype: int32"
      ]
     },
     "execution_count": 300,
     "metadata": {},
     "output_type": "execute_result"
    }
   ],
   "source": [
    "Max - Min"
   ]
  },
  {
   "cell_type": "code",
   "execution_count": 301,
   "id": "793664f8",
   "metadata": {},
   "outputs": [],
   "source": [
    "Q3 = non_fake_religious_df.groupby(['Religion'])['Age'].quantile(0.75)"
   ]
  },
  {
   "cell_type": "code",
   "execution_count": 302,
   "id": "18c9bc85",
   "metadata": {},
   "outputs": [],
   "source": [
    "Q1 = non_fake_religious_df.groupby(['Religion'])['Age'].quantile(0.25)"
   ]
  },
  {
   "cell_type": "code",
   "execution_count": 303,
   "id": "e394b1fe",
   "metadata": {},
   "outputs": [
    {
     "data": {
      "text/plain": [
       "Religion\n",
       "Catholic     17.00\n",
       "Christian    27.00\n",
       "Hindu         0.00\n",
       "Methodist    24.00\n",
       "Muslim       17.00\n",
       "Orthodoxy     7.25\n",
       "Sikh         17.50\n",
       "Name: Age, dtype: float64"
      ]
     },
     "execution_count": 303,
     "metadata": {},
     "output_type": "execute_result"
    }
   ],
   "source": [
    "Q3 - Q1"
   ]
  },
  {
   "cell_type": "markdown",
   "id": "6fa8b429",
   "metadata": {},
   "source": [
    "## Let's get the Non-fake religions boxplot with respect to Age"
   ]
  },
  {
   "cell_type": "code",
   "execution_count": 304,
   "id": "9dfc197b",
   "metadata": {},
   "outputs": [
    {
     "data": {
      "image/png": "[encoded data removed]",
      "text/plain": [
       "<Figure size 1000x700 with 1 Axes>"
      ]
     },
     "metadata": {},
     "output_type": "display_data"
    }
   ],
   "source": [
    "a4_dims = (10, 7)\n",
    "fig, ax = plt.subplots(figsize=a4_dims)\n",
    "bx = sbn.boxplot(y = 'Age', orient='v', x = 'Religion', data = non_fake_religious_df)\n",
    "religion_vals = non_fake_religious_df['Religion'].unique().tolist()"
   ]
  },
  {
   "cell_type": "code",
   "execution_count": null,
   "id": "06545b77",
   "metadata": {},
   "outputs": [],
   "source": []
  },
  {
   "cell_type": "markdown",
   "id": "be7895de",
   "metadata": {},
   "source": [
    "## Fake Religion\n",
    "- Let's get the Mean, Median, Mode, Range and Interquartile range of non fake religion"
   ]
  },
  {
   "cell_type": "code",
   "execution_count": 305,
   "id": "ac6e2995",
   "metadata": {},
   "outputs": [],
   "source": [
    "fake_religious_df = census12_df[census12_df['Religion'] == 'None']"
   ]
  },
  {
   "cell_type": "code",
   "execution_count": 307,
   "id": "44e195c8",
   "metadata": {},
   "outputs": [
    {
     "data": {
      "text/plain": [
       "Religion\n",
       "None    41.759751\n",
       "Name: Age, dtype: float64"
      ]
     },
     "execution_count": 307,
     "metadata": {},
     "output_type": "execute_result"
    }
   ],
   "source": [
    "fake_religious_df.groupby('Religion')['Age'].mean()\n"
   ]
  },
  {
   "cell_type": "code",
   "execution_count": 308,
   "id": "4942bd7e",
   "metadata": {},
   "outputs": [
    {
     "data": {
      "text/plain": [
       "Religion\n",
       "None    39.0\n",
       "Name: Age, dtype: float64"
      ]
     },
     "execution_count": 308,
     "metadata": {},
     "output_type": "execute_result"
    }
   ],
   "source": [
    "fake_religious_df.groupby('Religion')['Age'].median()\n"
   ]
  },
  {
   "cell_type": "code",
   "execution_count": 309,
   "id": "c3f2a0dc",
   "metadata": {},
   "outputs": [],
   "source": [
    "religions = fake_religious_df['Religion'].unique().tolist()\n",
    "religion_mode_dict = {}\n",
    "for religion in religions:\n",
    "    mode_age = mode(fake_religious_df[fake_religious_df['Religion'] == religion]['Age'].tolist())\n",
    "    religion_mode_dict[religion] = mode_age"
   ]
  },
  {
   "cell_type": "code",
   "execution_count": 310,
   "id": "f943194b",
   "metadata": {},
   "outputs": [
    {
     "data": {
      "text/plain": [
       "{'None': 19}"
      ]
     },
     "execution_count": 310,
     "metadata": {},
     "output_type": "execute_result"
    }
   ],
   "source": [
    "religion_mode_dict"
   ]
  },
  {
   "cell_type": "code",
   "execution_count": 311,
   "id": "f7858c86",
   "metadata": {},
   "outputs": [],
   "source": [
    "Max = fake_religious_df.groupby(['Religion'])['Age'].max()"
   ]
  },
  {
   "cell_type": "code",
   "execution_count": 312,
   "id": "475181d4",
   "metadata": {},
   "outputs": [],
   "source": [
    "Min = fake_religious_df.groupby(['Religion'])['Age'].min()"
   ]
  },
  {
   "cell_type": "code",
   "execution_count": 313,
   "id": "ed659673",
   "metadata": {},
   "outputs": [
    {
     "data": {
      "text/plain": [
       "Religion\n",
       "None    86\n",
       "Name: Age, dtype: int32"
      ]
     },
     "execution_count": 313,
     "metadata": {},
     "output_type": "execute_result"
    }
   ],
   "source": [
    "Max - Min"
   ]
  },
  {
   "cell_type": "code",
   "execution_count": 314,
   "id": "2a894770",
   "metadata": {},
   "outputs": [],
   "source": [
    "Q3 = fake_religious_df.groupby(['Religion'])['Age'].quantile(0.75)"
   ]
  },
  {
   "cell_type": "code",
   "execution_count": 315,
   "id": "8de6ccdb",
   "metadata": {},
   "outputs": [],
   "source": [
    "Q1 = fake_religious_df.groupby(['Religion'])['Age'].quantile(0.25)"
   ]
  },
  {
   "cell_type": "code",
   "execution_count": 316,
   "id": "ff19daf1",
   "metadata": {},
   "outputs": [
    {
     "data": {
      "text/plain": [
       "Religion\n",
       "None    23.0\n",
       "Name: Age, dtype: float64"
      ]
     },
     "execution_count": 316,
     "metadata": {},
     "output_type": "execute_result"
    }
   ],
   "source": [
    "Q3 - Q1"
   ]
  },
  {
   "cell_type": "code",
   "execution_count": null,
   "id": "efc7cf83",
   "metadata": {},
   "outputs": [],
   "source": []
  },
  {
   "cell_type": "markdown",
   "id": "f0a08406",
   "metadata": {},
   "source": [
    "## Boxplot for people with no religion"
   ]
  },
  {
   "cell_type": "code",
   "execution_count": 317,
   "id": "f6421cef",
   "metadata": {},
   "outputs": [
    {
     "data": {
      "image/png": "[encoded data removed]",
      "text/plain": [
       "<Figure size 400x500 with 1 Axes>"
      ]
     },
     "metadata": {},
     "output_type": "display_data"
    }
   ],
   "source": [
    "a4_dims = (4, 5)\n",
    "fig, ax = plt.subplots(figsize=a4_dims)\n",
    "bx = sbn.boxplot(y = 'Age', orient='v', x = 'Religion', data = fake_religious_df)\n",
    "religion_vals = fake_religious_df['Religion'].unique().tolist()"
   ]
  },
  {
   "cell_type": "markdown",
   "id": "485378bd",
   "metadata": {},
   "source": [
    "#### For Prediction over 10 years ,let's use the formular \n",
    "\n",
    "***future_prediction = current_population_per_100000 * ((1+rate_per_annum)^10)***"
   ]
  },
  {
   "cell_type": "code",
   "execution_count": 318,
   "id": "38d504a7",
   "metadata": {},
   "outputs": [],
   "source": [
    "number_to_be_born_in_ten_years_per_100000 = round(births_per_100000*((1+current_birth_rate_per_annum)**10))"
   ]
  },
  {
   "cell_type": "code",
   "execution_count": 319,
   "id": "e8330b97",
   "metadata": {},
   "outputs": [
    {
     "data": {
      "text/plain": [
       "13348"
      ]
     },
     "execution_count": 319,
     "metadata": {},
     "output_type": "execute_result"
    }
   ],
   "source": [
    "number_to_be_born_in_ten_years_per_100000"
   ]
  },
  {
   "cell_type": "code",
   "execution_count": 320,
   "id": "10b399b4",
   "metadata": {},
   "outputs": [],
   "source": [
    "expected_death_in_ten_years_per_100000 = round(deaths_per_100000 * ((1+death_rate_per_annum)**10))"
   ]
  },
  {
   "cell_type": "code",
   "execution_count": 321,
   "id": "d3f79730",
   "metadata": {},
   "outputs": [
    {
     "data": {
      "text/plain": [
       "4389"
      ]
     },
     "execution_count": 321,
     "metadata": {},
     "output_type": "execute_result"
    }
   ],
   "source": [
    "expected_death_in_ten_years_per_100000"
   ]
  },
  {
   "cell_type": "markdown",
   "id": "1e6834f3",
   "metadata": {},
   "source": [
    "#### Let's get the population of people that are liable to die as we assume from age 60 upwards"
   ]
  },
  {
   "cell_type": "code",
   "execution_count": 324,
   "id": "f8b8a6d7",
   "metadata": {},
   "outputs": [],
   "source": [
    "no_of_population_from_60_upward = len(census12_df[census_df['Age'] >= 60])"
   ]
  },
  {
   "cell_type": "code",
   "execution_count": 325,
   "id": "19771fcd",
   "metadata": {},
   "outputs": [],
   "source": [
    "population_from_60_df = census12_df[census_df['Age'] >= 60]"
   ]
  },
  {
   "cell_type": "code",
   "execution_count": 326,
   "id": "9ab3459b",
   "metadata": {},
   "outputs": [],
   "source": [
    "count_per_religion_for_death = population_from_60_df.groupby('Religion').count()['Age']"
   ]
  },
  {
   "cell_type": "code",
   "execution_count": 327,
   "id": "959661aa",
   "metadata": {},
   "outputs": [],
   "source": [
    "del (count_per_religion_for_death['None'])"
   ]
  },
  {
   "cell_type": "code",
   "execution_count": 328,
   "id": "50d40cb0",
   "metadata": {},
   "outputs": [
    {
     "data": {
      "text/plain": [
       "Religion\n",
       "Catholic     147\n",
       "Christian    719\n",
       "Jewish        10\n",
       "Methodist    157\n",
       "Muslim        18\n",
       "Orthodoxy      1\n",
       "Sikh           4\n",
       "Name: Age, dtype: int64"
      ]
     },
     "execution_count": 328,
     "metadata": {},
     "output_type": "execute_result"
    }
   ],
   "source": [
    "count_per_religion_for_death"
   ]
  },
  {
   "cell_type": "code",
   "execution_count": 329,
   "id": "fd6d282a",
   "metadata": {},
   "outputs": [],
   "source": [
    "religions_death_rate_per_annum = (count_per_religion_for_death/no_of_population_from_60_upward) * death_rate_per_annum"
   ]
  },
  {
   "cell_type": "code",
   "execution_count": 330,
   "id": "729c779a",
   "metadata": {},
   "outputs": [
    {
     "data": {
      "text/plain": [
       "Religion\n",
       "Catholic     0.002906\n",
       "Christian    0.014214\n",
       "Jewish       0.000198\n",
       "Methodist    0.003104\n",
       "Muslim       0.000356\n",
       "Orthodoxy    0.000020\n",
       "Sikh         0.000079\n",
       "Name: Age, dtype: float64"
      ]
     },
     "execution_count": 330,
     "metadata": {},
     "output_type": "execute_result"
    }
   ],
   "source": [
    "religions_death_rate_per_annum"
   ]
  },
  {
   "cell_type": "code",
   "execution_count": 331,
   "id": "9cda2aaa",
   "metadata": {},
   "outputs": [],
   "source": [
    "population_in_next_ten_years = round(100000*((1+population_growth_rate)**10))"
   ]
  },
  {
   "cell_type": "code",
   "execution_count": 332,
   "id": "60323909",
   "metadata": {},
   "outputs": [
    {
     "data": {
      "text/plain": [
       "21066"
      ]
     },
     "execution_count": 332,
     "metadata": {},
     "output_type": "execute_result"
    }
   ],
   "source": [
    "population_in_next_ten_years"
   ]
  },
  {
   "cell_type": "code",
   "execution_count": 333,
   "id": "a992422b",
   "metadata": {},
   "outputs": [],
   "source": [
    "religion_expected_death_in_ten_years = (round(population_in_next_ten_years * \n",
    "                                              religions_death_rate_per_annum)).astype('int32')"
   ]
  },
  {
   "cell_type": "code",
   "execution_count": 334,
   "id": "24940ea6",
   "metadata": {},
   "outputs": [
    {
     "data": {
      "text/plain": [
       "Religion\n",
       "Catholic      61\n",
       "Christian    299\n",
       "Jewish         4\n",
       "Methodist     65\n",
       "Muslim         7\n",
       "Orthodoxy      0\n",
       "Sikh           2\n",
       "Name: Age, dtype: int32"
      ]
     },
     "execution_count": 334,
     "metadata": {},
     "output_type": "execute_result"
    }
   ],
   "source": [
    "religion_expected_death_in_ten_years"
   ]
  },
  {
   "cell_type": "code",
   "execution_count": null,
   "id": "86dba58b",
   "metadata": {},
   "outputs": [],
   "source": []
  },
  {
   "cell_type": "markdown",
   "id": "1af8a8d7",
   "metadata": {},
   "source": [
    "#### Let's determine how many will be of a particular religion for those who are age 16 and above"
   ]
  },
  {
   "cell_type": "code",
   "execution_count": 335,
   "id": "0eab07a7",
   "metadata": {},
   "outputs": [],
   "source": [
    "no_of_population_from_16 = len(census12_df[census12_df['Age'] >= 16])"
   ]
  },
  {
   "cell_type": "code",
   "execution_count": 336,
   "id": "b3534031",
   "metadata": {},
   "outputs": [],
   "source": [
    "population_from_16_df = census12_df[census12_df['Age'] >= 16]"
   ]
  },
  {
   "cell_type": "code",
   "execution_count": 338,
   "id": "df66e5ff",
   "metadata": {},
   "outputs": [],
   "source": [
    "count_per_religion_from_16 = population_from_16_df.groupby('Religion').count()['Age']"
   ]
  },
  {
   "cell_type": "code",
   "execution_count": 339,
   "id": "7e16f479",
   "metadata": {},
   "outputs": [],
   "source": [
    "del (count_per_religion_from_16['None'])"
   ]
  },
  {
   "cell_type": "code",
   "execution_count": 340,
   "id": "901d8b99",
   "metadata": {},
   "outputs": [],
   "source": [
    "religions_from_16_rate_per_annum = (count_per_religion_from_16/len(census12_df))"
   ]
  },
  {
   "cell_type": "code",
   "execution_count": 341,
   "id": "15e14b7b",
   "metadata": {},
   "outputs": [
    {
     "data": {
      "text/plain": [
       "Religion\n",
       "Bahai        0.000186\n",
       "Baptist      0.000093\n",
       "Catholic     0.103403\n",
       "Christian    0.213595\n",
       "Hindu        0.000093\n",
       "Jewish       0.003720\n",
       "Methodist    0.068254\n",
       "Muslim       0.013855\n",
       "Orthodoxy    0.000372\n",
       "Quaker       0.000186\n",
       "Sikh         0.006695\n",
       "Name: Age, dtype: float64"
      ]
     },
     "execution_count": 341,
     "metadata": {},
     "output_type": "execute_result"
    }
   ],
   "source": [
    "religions_from_16_rate_per_annum"
   ]
  },
  {
   "cell_type": "code",
   "execution_count": 342,
   "id": "86e2f0db",
   "metadata": {},
   "outputs": [],
   "source": [
    "religions_from_16_for_next_10_years_per_100000 = population_in_next_ten_years * religions_from_16_rate_per_annum"
   ]
  },
  {
   "cell_type": "code",
   "execution_count": 343,
   "id": "45cd39f2",
   "metadata": {},
   "outputs": [
    {
     "data": {
      "text/plain": [
       "Religion\n",
       "Bahai           4.0\n",
       "Baptist         2.0\n",
       "Catholic     2178.0\n",
       "Christian    4500.0\n",
       "Hindu           2.0\n",
       "Jewish         78.0\n",
       "Methodist    1438.0\n",
       "Muslim        292.0\n",
       "Orthodoxy       8.0\n",
       "Quaker          4.0\n",
       "Sikh          141.0\n",
       "Name: Age, dtype: float64"
      ]
     },
     "execution_count": 343,
     "metadata": {},
     "output_type": "execute_result"
    }
   ],
   "source": [
    "round(religions_from_16_for_next_10_years_per_100000)"
   ]
  },
  {
   "cell_type": "code",
   "execution_count": null,
   "id": "240dfd7c",
   "metadata": {},
   "outputs": [],
   "source": []
  },
  {
   "cell_type": "code",
   "execution_count": 349,
   "id": "540991be",
   "metadata": {},
   "outputs": [],
   "source": [
    "no_of_population_from_80 = len(census12_df[census12_df['Age'] >= 80])"
   ]
  },
  {
   "cell_type": "code",
   "execution_count": 350,
   "id": "27e5e927",
   "metadata": {},
   "outputs": [],
   "source": [
    "fraction_of_over_80 = no_of_population_from_80 / len(census12_df)"
   ]
  },
  {
   "cell_type": "code",
   "execution_count": 351,
   "id": "cecfe176",
   "metadata": {},
   "outputs": [
    {
     "data": {
      "text/plain": [
       "0.025850846196763994"
      ]
     },
     "execution_count": 351,
     "metadata": {},
     "output_type": "execute_result"
    }
   ],
   "source": [
    "fraction_of_over_80"
   ]
  },
  {
   "cell_type": "code",
   "execution_count": 352,
   "id": "9ab4c8c0",
   "metadata": {},
   "outputs": [],
   "source": [
    "population_of_over_80_per_100000 = fraction_of_over_80 * 100000"
   ]
  },
  {
   "cell_type": "code",
   "execution_count": 353,
   "id": "854a1e8c",
   "metadata": {},
   "outputs": [
    {
     "data": {
      "text/plain": [
       "2585"
      ]
     },
     "execution_count": 353,
     "metadata": {},
     "output_type": "execute_result"
    }
   ],
   "source": [
    "round(population_of_over_80_per_100000)"
   ]
  },
  {
   "cell_type": "code",
   "execution_count": 354,
   "id": "5c8164b6",
   "metadata": {},
   "outputs": [],
   "source": [
    "no_from_80_next_10_years = (len(census12_df[census12_df['Age'] >= 70])/len(census12_df))* population_in_next_ten_years"
   ]
  },
  {
   "cell_type": "code",
   "execution_count": 355,
   "id": "ed4e4142",
   "metadata": {},
   "outputs": [],
   "source": [
    "fraction_of_over_80_next_10_years = no_from_80_next_10_years/population_in_next_ten_years"
   ]
  },
  {
   "cell_type": "code",
   "execution_count": 356,
   "id": "7bed3bab",
   "metadata": {},
   "outputs": [
    {
     "data": {
      "text/plain": [
       "0.07104333271340896"
      ]
     },
     "execution_count": 356,
     "metadata": {},
     "output_type": "execute_result"
    }
   ],
   "source": [
    "fraction_of_over_80_next_10_years"
   ]
  },
  {
   "cell_type": "code",
   "execution_count": 357,
   "id": "d9b37016",
   "metadata": {},
   "outputs": [],
   "source": [
    "population_of_over_80_next_10_years_per_100000 = fraction_of_over_80_next_10_years * 100000"
   ]
  },
  {
   "cell_type": "code",
   "execution_count": 358,
   "id": "043c4959",
   "metadata": {},
   "outputs": [
    {
     "data": {
      "text/plain": [
       "7104"
      ]
     },
     "execution_count": 358,
     "metadata": {},
     "output_type": "execute_result"
    }
   ],
   "source": [
    "round(population_of_over_80_next_10_years_per_100000)"
   ]
  },
  {
   "cell_type": "code",
   "execution_count": null,
   "id": "e705d7c5",
   "metadata": {},
   "outputs": [],
   "source": []
  }
 ],
 "metadata": {
  "kernelspec": {
   "display_name": "Python 3 (ipykernel)",
   "language": "python",
   "name": "python3"
  },
  "language_info": {
   "codemirror_mode": {
    "name": "ipython",
    "version": 3
   },
   "file_extension": ".py",
   "mimetype": "text/x-python",
   "name": "python",
   "nbconvert_exporter": "python",
   "pygments_lexer": "ipython3",
   "version": "3.11.1"
  }
 },
 "nbformat": 4,
 "nbformat_minor": 5
}
